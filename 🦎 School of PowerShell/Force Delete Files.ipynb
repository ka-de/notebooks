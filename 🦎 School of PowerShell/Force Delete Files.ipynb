{
 "cells": [
  {
   "cell_type": "markdown",
   "metadata": {},
   "source": [
    "# Deleting Files Forcefully\n",
    "\n",
    "To force delete using PowerShell, you can use the `Remove-Item` cmdlet with the `-Force` and `-Recurse` parameters.\n",
    "\n",
    "`Remove-Item -Path \"C:\\Path\\To\\Directory\" -Force -Recurse`"
   ]
  }
 ],
 "metadata": {
  "language_info": {
   "name": "python"
  },
  "orig_nbformat": 4
 },
 "nbformat": 4,
 "nbformat_minor": 2
}
