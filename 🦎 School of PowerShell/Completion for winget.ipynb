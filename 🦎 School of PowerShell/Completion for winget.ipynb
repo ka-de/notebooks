{
 "cells": [
  {
   "cell_type": "markdown",
   "metadata": {},
   "source": [
    "# Completion for winget"
   ]
  },
  {
   "cell_type": "code",
   "execution_count": 1,
   "metadata": {
    "dotnet_interactive": {
     "language": "pwsh"
    },
    "polyglot_notebook": {
     "kernelName": "pwsh"
    },
    "vscode": {
     "languageId": "polyglot-notebook"
    }
   },
   "outputs": [],
   "source": [
    "Register-ArgumentCompleter -Native -CommandName winget -ScriptBlock {\n",
    "    param($wordToComplete, $commandAst, $cursorPosition)\n",
    "        [Console]::InputEncoding = [Console]::OutputEncoding = $OutputEncoding = [System.Text.Utf8Encoding]::new()\n",
    "        $Local:word = $wordToComplete.Replace('\"', '\"\"')\n",
    "        $Local:ast = $commandAst.ToString().Replace('\"', '\"\"')\n",
    "        winget complete --word=\"$Local:word\" --commandline \"$Local:ast\" --position $cursorPosition | ForEach-Object {\n",
    "            [System.Management.Automation.CompletionResult]::new($_, $_, 'ParameterValue', $_)\n",
    "        }\n",
    "}"
   ]
  }
 ],
 "metadata": {
  "language_info": {
   "name": "python"
  },
  "orig_nbformat": 4
 },
 "nbformat": 4,
 "nbformat_minor": 2
}
