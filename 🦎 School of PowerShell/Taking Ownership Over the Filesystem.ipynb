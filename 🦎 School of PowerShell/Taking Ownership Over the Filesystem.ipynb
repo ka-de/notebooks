{
 "cells": [
  {
   "cell_type": "markdown",
   "metadata": {},
   "source": [
    "# Taking Ownership Over the Filesystem\n",
    "\n",
    "1. As administrator, you can use the `takeown` command to take ownership of a file or directory.\n",
    "\n",
    "`takeown /f \"C:\\Path\\To\\Directory\" /r /d y`\n",
    "\n",
    "* `/f`: Specifies the file or directory for which you want to take ownership.\n",
    "* `/r`: Recursively takes ownership of all files and subdirectories within the specified directory.\n",
    "* `/d y`: Confirms that you want to take ownership of the directory.\n",
    "\n",
    "2. Next, you can grant yourself full control of the directory using the icacls command. Again, replace \"C:\\Path\\To\\Directory\" with the actual path:\n",
    "\n",
    "`icacls \"C:\\Path\\To\\Directory\\VST2\" /inheritance:r /grant:r \"$($env:USERNAME):(OI)(CI)F\" /t`\n",
    "\n",
    "* `/inheritance:r`: Removes inherited permissions, which ensures that only the permissions you specify are applied.\n",
    "* `/grant:r`: Grants permissions, overwriting any existing permissions.\n",
    "* `\"$($env:USERNAME):(OI)(CI)F\"`: Specifies your username and grants full control (`F`) to the directory, additionally:\n",
    "    * `(OI)`: Object Inherit - This flag indicates that the ACE will be inherited by objects within the container (subdirectories).\n",
    "\n",
    "    * `(CI)`: Container Inherit - This flag indicates that the ACE will be inherited by containers (subdirectories) within the container.\n",
    "* `/t`: Applies the permissions recursively to all files and subdirectories.\n",
    "\n",
    "After running these commands, you should have ownership and full control over the specified directory."
   ]
  }
 ],
 "metadata": {
  "language_info": {
   "name": "python"
  },
  "orig_nbformat": 4
 },
 "nbformat": 4,
 "nbformat_minor": 2
}
