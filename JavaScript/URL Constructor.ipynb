{
 "cells": [
  {
   "cell_type": "markdown",
   "metadata": {},
   "source": [
    "# URL Constructors\n",
    "\n",
    "You can use the URL constructor to parse and manipulate URLs in your JavaScript applications.\n",
    "\n",
    "1. **Adding Query Parameters**:\n",
    "\n",
    "You can easily add query parameters to an existing URL:"
   ]
  },
  {
   "cell_type": "code",
   "execution_count": null,
   "metadata": {
    "vscode": {
     "languageId": "javascript"
    }
   },
   "outputs": [],
   "source": [
    "const url = new URL('https://www.example.com');\n",
    "url.searchParams.set('param1', 'value1');\n",
    "url.searchParams.set('param2', 'value2');\n",
    "console.log(url.toString()); // Output: https://www.example.com?param1=value1&param2=value2"
   ]
  },
  {
   "cell_type": "markdown",
   "metadata": {},
   "source": [
    "2. **Parsing and Modifying Existing URLs**:\n",
    "\n",
    "If you have an existing URL string and need to modify it, you can use the URL constructor to parse and make changes:"
   ]
  },
  {
   "cell_type": "code",
   "execution_count": null,
   "metadata": {
    "vscode": {
     "languageId": "javascript"
    }
   },
   "outputs": [],
   "source": [
    "const originalURL = 'https://www.example.com/path?param=value#section';\n",
    "const url = new URL(originalURL);\n",
    "url.pathname = '/new-path';\n",
    "url.searchParams.set('newParam', 'newValue');\n",
    "console.log(url.toString()); // Output: https://www.example.com/new-path?param=value&newParam=newValue#section"
   ]
  },
  {
   "cell_type": "markdown",
   "metadata": {},
   "source": [
    "3. **Extracting Parts of the URL**:\n",
    "\n",
    "You can extract specific parts of a URL, such as the domain or pathname:"
   ]
  },
  {
   "cell_type": "code",
   "execution_count": null,
   "metadata": {
    "vscode": {
     "languageId": "javascript"
    }
   },
   "outputs": [],
   "source": [
    "const url = new URL('https://www.example.com/path/to/resource');\n",
    "const domain = url.hostname;\n",
    "const path = url.pathname;\n",
    "console.log('Domain:', domain); // Output: www.example.com\n",
    "console.log('Path:', path);     // Output: /path/to/resource"
   ]
  },
  {
   "cell_type": "markdown",
   "metadata": {},
   "source": [
    "4. **Creating URLs Relative to the Current Page**:\n",
    "\n",
    "You can create URLs relative to the current page, which is useful when building links within your website:"
   ]
  },
  {
   "cell_type": "code",
   "execution_count": null,
   "metadata": {
    "vscode": {
     "languageId": "javascript"
    }
   },
   "outputs": [],
   "source": [
    "const baseUrl = new URL(window.location.href);\n",
    "const relativeUrl = new URL('/page2', baseUrl);\n",
    "console.log(relativeUrl.toString()); // Output: CurrentPageURL/page2"
   ]
  },
  {
   "cell_type": "markdown",
   "metadata": {},
   "source": [
    "5. **Removing Query Parameters**:\n",
    "\n",
    "You can remove specific query parameters from a URL:"
   ]
  },
  {
   "cell_type": "code",
   "execution_count": null,
   "metadata": {
    "vscode": {
     "languageId": "javascript"
    }
   },
   "outputs": [],
   "source": [
    "const url = new URL('https://www.example.com/?param1=value1&param2=value2');\n",
    "url.searchParams.delete('param1');\n",
    "console.log(url.toString()); // Output: https://www.example.com/?param2=value2"
   ]
  },
  {
   "cell_type": "markdown",
   "metadata": {},
   "source": [
    "6. **Getting and Setting the Protocol (HTTP/HTTPS)**:\n",
    "\n",
    "You can change the protocol of a URL:"
   ]
  },
  {
   "cell_type": "code",
   "execution_count": null,
   "metadata": {
    "vscode": {
     "languageId": "javascript"
    }
   },
   "outputs": [],
   "source": [
    "const url = new URL('https://www.example.com');\n",
    "url.protocol = 'http:';\n",
    "console.log(url.toString()); // Output: http://www.example.com"
   ]
  },
  {
   "cell_type": "code",
   "execution_count": null,
   "metadata": {
    "vscode": {
     "languageId": "javascript"
    }
   },
   "outputs": [],
   "source": [
    "const url = new URL('https://kadelam.github.io');\n",
    "url.searchParams.set('model', model)\n",
    "url.searchParams.set('locale', locale)\n",
    "url.searchParams.set('text', text)\n",
    "const res = await fetch(url);"
   ]
  },
  {
   "cell_type": "code",
   "execution_count": null,
   "metadata": {
    "vscode": {
     "languageId": "javascript"
    }
   },
   "outputs": [],
   "source": [
    "// Create a new URL object\n",
    "const url = new URL('https://www.example.com:8080/path/to/resource?param1=value1&param2=value2#section');\n",
    "\n",
    "// Access various components of the URL\n",
    "console.log('Protocol:', url.protocol); // Output: https:\n",
    "console.log('Hostname:', url.hostname); // Output: www.example.com\n",
    "console.log('Port:', url.port);         // Output: 8080\n",
    "console.log('Pathname:', url.pathname); // Output: /path/to/resource\n",
    "console.log('Search:', url.search);     // Output: ?param1=value1&param2=value2\n",
    "console.log('Hash:', url.hash);         // Output: #section\n",
    "\n",
    "// Modify components of the URL\n",
    "url.protocol = 'http:';\n",
    "url.pathname = '/new-path';\n",
    "url.search = 'newParam=newValue';\n",
    "url.hash = 'newSection';\n",
    "\n",
    "// Get the modified URL as a string\n",
    "const modifiedURL = url.toString();\n",
    "console.log('Modified URL:', modifiedURL);"
   ]
  },
  {
   "cell_type": "markdown",
   "metadata": {},
   "source": [
    "We create a new URL object by passing a URL string to the constructor.\n",
    "We access various components of the URL, such as protocol, hostname, port, pathname, search parameters, and hash.\n",
    "We modify some components of the URL using the assignment operator.\n",
    "Finally, we convert the modified URL object back to a string using the toString() method.\n",
    "\n"
   ]
  }
 ],
 "metadata": {
  "kernelspec": {
   "display_name": "Python 3",
   "language": "python",
   "name": "python3"
  },
  "language_info": {
   "codemirror_mode": {
    "name": "ipython",
    "version": 3
   },
   "file_extension": ".py",
   "mimetype": "text/x-python",
   "name": "python",
   "nbconvert_exporter": "python",
   "pygments_lexer": "ipython3",
   "version": "3.11.5"
  },
  "orig_nbformat": 4
 },
 "nbformat": 4,
 "nbformat_minor": 2
}
