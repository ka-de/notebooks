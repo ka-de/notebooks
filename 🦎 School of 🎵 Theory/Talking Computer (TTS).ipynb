{
 "cells": [
  {
   "cell_type": "markdown",
   "metadata": {},
   "source": [
    "# Talking Computer (TTS)"
   ]
  },
  {
   "cell_type": "code",
   "execution_count": 1,
   "metadata": {},
   "outputs": [],
   "source": [
    "import pyttsx3\n",
    "import re\n",
    "\n",
    "def tts(text):\n",
    "    # Initialize the text-to-speech engine\n",
    "    engine = pyttsx3.init()\n",
    "\n",
    "    # Set properties for voice\n",
    "    engine.setProperty('rate', 150)  # Speed of speech\n",
    "    engine.setProperty('volume', 1.0)  # Volume (adjust as needed)\n",
    "\n",
    "    # Abbreviate the text for the filename\n",
    "    filename = re.sub(r'[^a-zA-Z0-9]', '_', text)[:20]  # Limit filename to 20 characters\n",
    "    filename = f\"{filename}.wav\"\n",
    "\n",
    "    # Synthesize the text to speech and save it as a WAV file\n",
    "    engine.save_to_file(text, filename)\n",
    "    engine.runAndWait()\n",
    "\n",
    "if __name__ == \"__main__\":\n",
    "    text_to_speak = \"Consciousness has a transformative and captivating influence on the physical world, much like how an iridescent effect creates a mesmerizing play of colors on surfaces. It implies that consciousness is not merely passive but actively shapes or interacts with the material world in a profound and intriguing way.\"\n",
    "    tts(text_to_speak)"
   ]
  }
 ],
 "metadata": {
  "kernelspec": {
   "display_name": "Python 3",
   "language": "python",
   "name": "python3"
  },
  "language_info": {
   "codemirror_mode": {
    "name": "ipython",
    "version": 3
   },
   "file_extension": ".py",
   "mimetype": "text/x-python",
   "name": "python",
   "nbconvert_exporter": "python",
   "pygments_lexer": "ipython3",
   "version": "3.11.5"
  },
  "orig_nbformat": 4
 },
 "nbformat": 4,
 "nbformat_minor": 2
}
