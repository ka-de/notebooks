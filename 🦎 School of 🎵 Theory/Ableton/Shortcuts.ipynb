{
 "cells": [
  {
   "cell_type": "markdown",
   "metadata": {},
   "source": [
    "# Shortcuts\n",
    "\n",
    "Function | Key\n",
    ":---|:---:\n",
    "Info View | `?`\n",
    "Open Settings|`Ctrl + ,`"
   ]
  }
 ],
 "metadata": {
  "language_info": {
   "name": "python"
  },
  "orig_nbformat": 4
 },
 "nbformat": 4,
 "nbformat_minor": 2
}
