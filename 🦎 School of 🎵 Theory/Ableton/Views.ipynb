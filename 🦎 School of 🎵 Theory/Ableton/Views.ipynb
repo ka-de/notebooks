{
 "cells": [
  {
   "cell_type": "markdown",
   "metadata": {},
   "source": [
    "# Views\n",
    "\n",
    "Ableton has two views. The Session view and the Arrangement view.\n",
    "\n",
    "The Session view is the default view when you open Ableton.\n",
    "It is the view that is used for live performance.\n",
    "The Arrangement view is used for composing and arranging your music.\n",
    "You can switch between the two views by pressing the tab key.\n",
    "\n"
   ]
  }
 ],
 "metadata": {
  "language_info": {
   "name": "python"
  },
  "orig_nbformat": 4
 },
 "nbformat": 4,
 "nbformat_minor": 2
}
