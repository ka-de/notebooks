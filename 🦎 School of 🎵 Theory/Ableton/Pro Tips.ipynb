{
 "cells": [
  {
   "cell_type": "markdown",
   "metadata": {},
   "source": [
    "1. Save your project\n",
    "\n",
    "2. Put a Limiter on your master channel\n",
    "\n",
    "    `fabfilter Pro-L2 -> V1 Preset Folder -> Clipping -> Almost Clipping bM`\n",
    "\n",
    "    Setting Lookahead to 0.18ms \n",
    "\n",
    "    Is a decent preset to put on your master channel.\n",
    "\n",
    "3. Use Ping-Pong delay to widen sounds"
   ]
  }
 ],
 "metadata": {
  "language_info": {
   "name": "python"
  },
  "orig_nbformat": 4
 },
 "nbformat": 4,
 "nbformat_minor": 2
}
