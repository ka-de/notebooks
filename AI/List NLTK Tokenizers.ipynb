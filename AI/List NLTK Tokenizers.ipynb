{
 "cells": [
  {
   "cell_type": "code",
   "execution_count": null,
   "metadata": {},
   "outputs": [],
   "source": [
    "import nltk.tokenize\n",
    "\n",
    "# Get a list of all classes in the nltk.tokenize module\n",
    "tokenizer_classes = [name for name, obj in nltk.tokenize.__dict__.items() if isinstance(obj, type)]\n",
    "\n",
    "# Filter the classes to get only the tokenizers\n",
    "tokenizers = [tokenizer for tokenizer in tokenizer_classes if 'Tokenizer' in tokenizer]\n",
    "\n",
    "# Print the list of available tokenizers\n",
    "print(\"Available Tokenizers in NLTK:\")\n",
    "for tokenizer in tokenizers:\n",
    "    print(tokenizer)"
   ]
  }
 ],
 "metadata": {
  "language_info": {
   "name": "python"
  },
  "orig_nbformat": 4
 },
 "nbformat": 4,
 "nbformat_minor": 2
}
