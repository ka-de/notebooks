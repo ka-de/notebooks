{
 "cells": [
  {
   "cell_type": "markdown",
   "metadata": {},
   "source": [
    "# List NLTK Tokenizers"
   ]
  },
  {
   "cell_type": "code",
   "execution_count": 3,
   "metadata": {},
   "outputs": [
    {
     "name": "stdout",
     "output_type": "stream",
     "text": [
      "Available Tokenizers in NLTK:\n",
      "TweetTokenizer\n",
      "NLTKWordTokenizer\n",
      "LegalitySyllableTokenizer\n",
      "MWETokenizer\n",
      "PunktSentenceTokenizer\n",
      "BlanklineTokenizer\n",
      "RegexpTokenizer\n",
      "WhitespaceTokenizer\n",
      "WordPunctTokenizer\n",
      "ReppTokenizer\n",
      "SExprTokenizer\n",
      "LineTokenizer\n",
      "SpaceTokenizer\n",
      "TabTokenizer\n",
      "SyllableTokenizer\n",
      "TextTilingTokenizer\n",
      "ToktokTokenizer\n",
      "TreebankWordTokenizer\n"
     ]
    }
   ],
   "source": [
    "import nltk.tokenize\n",
    "\n",
    "# Get a list of all classes in the nltk.tokenize module\n",
    "tokenizer_classes = [name for name, obj in nltk.tokenize.__dict__.items() if isinstance(obj, type)]\n",
    "\n",
    "# Filter the classes to get only the tokenizers\n",
    "tokenizers = [tokenizer for tokenizer in tokenizer_classes if 'Tokenizer' in tokenizer]\n",
    "\n",
    "# Print the list of available tokenizers\n",
    "print(\"Available Tokenizers in NLTK:\")\n",
    "for tokenizer in tokenizers:\n",
    "    print(tokenizer)"
   ]
  }
 ],
 "metadata": {
  "kernelspec": {
   "display_name": "Python 3",
   "language": "python",
   "name": "python3"
  },
  "language_info": {
   "codemirror_mode": {
    "name": "ipython",
    "version": 3
   },
   "file_extension": ".py",
   "mimetype": "text/x-python",
   "name": "python",
   "nbconvert_exporter": "python",
   "pygments_lexer": "ipython3",
   "version": "3.11.5"
  },
  "orig_nbformat": 4
 },
 "nbformat": 4,
 "nbformat_minor": 2
}
