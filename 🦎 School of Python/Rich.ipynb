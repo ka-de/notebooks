{
 "cells": [
  {
   "cell_type": "markdown",
   "metadata": {},
   "source": [
    "# Rich - Rich Text and Beautiful Formatting in the Terminal\n",
    "\n",
    "> [GitHub](https://github.com/Textualize/rich) | [Documentation](https://rich.readthedocs.io/en/latest/)\n",
    "\n",
    "```bash\n",
    "python -m rich # Type inside your terminal to get a preview of rich's features\n",
    "```\n",
    "\n",
    "1. **Basic Text Formatting**"
   ]
  },
  {
   "cell_type": "code",
   "execution_count": 1,
   "metadata": {
    "dotnet_interactive": {
     "language": "csharp"
    },
    "polyglot_notebook": {
     "kernelName": "csharp"
    }
   },
   "outputs": [
    {
     "data": {
      "text/html": [
       "<pre style=\"white-space:pre;overflow-x:auto;line-height:normal;font-family:Menlo,'DejaVu Sans Mono',consolas,'Courier New',monospace\"><span style=\"font-weight: bold\">Hello</span>, <span style=\"color: #008080; text-decoration-color: #008080; font-style: italic\">World</span>! I'm using Rich!\n",
       "</pre>\n"
      ],
      "text/plain": [
       "\u001b[1mHello\u001b[0m, \u001b[3;36mWorld\u001b[0m! I'm using Rich!\n"
      ]
     },
     "metadata": {},
     "output_type": "display_data"
    }
   ],
   "source": [
    "from rich import print\n",
    "\n",
    "print(\"[bold]Hello[/bold], [italic cyan]World[/italic cyan]! I\\'m using Rich!\")"
   ]
  },
  {
   "cell_type": "markdown",
   "metadata": {},
   "source": [
    "2. **Table Formatting**"
   ]
  },
  {
   "cell_type": "code",
   "execution_count": 2,
   "metadata": {
    "dotnet_interactive": {
     "language": "csharp"
    },
    "polyglot_notebook": {
     "kernelName": "csharp"
    }
   },
   "outputs": [
    {
     "data": {
      "text/html": [
       "<pre style=\"white-space:pre;overflow-x:auto;line-height:normal;font-family:Menlo,'DejaVu Sans Mono',consolas,'Courier New',monospace\"><span style=\"font-style: italic\">   My Table    </span>\n",
       "┏━━━━━━━┳━━━━━┓\n",
       "┃<span style=\"font-weight: bold\"> Name  </span>┃<span style=\"font-weight: bold\"> Age </span>┃\n",
       "┡━━━━━━━╇━━━━━┩\n",
       "│<span style=\"color: #008080; text-decoration-color: #008080; font-weight: bold\"> Alice </span>│<span style=\"color: #800080; text-decoration-color: #800080; font-weight: bold\"> 25  </span>│\n",
       "│<span style=\"color: #008080; text-decoration-color: #008080; font-weight: bold\"> Bob   </span>│<span style=\"color: #800080; text-decoration-color: #800080; font-weight: bold\"> 30  </span>│\n",
       "└───────┴─────┘\n",
       "</pre>\n"
      ],
      "text/plain": [
       "\u001b[3m   My Table    \u001b[0m\n",
       "┏━━━━━━━┳━━━━━┓\n",
       "┃\u001b[1m \u001b[0m\u001b[1mName \u001b[0m\u001b[1m \u001b[0m┃\u001b[1m \u001b[0m\u001b[1mAge\u001b[0m\u001b[1m \u001b[0m┃\n",
       "┡━━━━━━━╇━━━━━┩\n",
       "│\u001b[1;36m \u001b[0m\u001b[1;36mAlice\u001b[0m\u001b[1;36m \u001b[0m│\u001b[1;35m \u001b[0m\u001b[1;35m25 \u001b[0m\u001b[1;35m \u001b[0m│\n",
       "│\u001b[1;36m \u001b[0m\u001b[1;36mBob  \u001b[0m\u001b[1;36m \u001b[0m│\u001b[1;35m \u001b[0m\u001b[1;35m30 \u001b[0m\u001b[1;35m \u001b[0m│\n",
       "└───────┴─────┘\n"
      ]
     },
     "metadata": {},
     "output_type": "display_data"
    }
   ],
   "source": [
    "from rich.table import Table\n",
    "from rich.console import Console\n",
    "\n",
    "table = Table(title=\"My Table\")\n",
    "table.add_column(\"Name\", style=\"bold cyan\")\n",
    "table.add_column(\"Age\", style=\"bold magenta\")\n",
    "\n",
    "table.add_row(\"Alice\", \"25\")\n",
    "table.add_row(\"Bob\", \"30\")\n",
    "\n",
    "console = Console()\n",
    "console.print(table)"
   ]
  },
  {
   "cell_type": "markdown",
   "metadata": {},
   "source": [
    "3. **Syntax Highlighting**"
   ]
  },
  {
   "cell_type": "code",
   "execution_count": 3,
   "metadata": {
    "dotnet_interactive": {
     "language": "csharp"
    },
    "polyglot_notebook": {
     "kernelName": "csharp"
    }
   },
   "outputs": [
    {
     "data": {
      "text/html": [
       "<pre style=\"white-space:pre;overflow-x:auto;line-height:normal;font-family:Menlo,'DejaVu Sans Mono',consolas,'Courier New',monospace\"><span style=\"color: #e3e3dd; text-decoration-color: #e3e3dd; background-color: #272822; font-weight: bold\">  </span><span style=\"color: #656660; text-decoration-color: #656660; background-color: #272822\">1 </span><span style=\"background-color: #272822\">                                                                                                               </span>\n",
       "<span style=\"color: #e3e3dd; text-decoration-color: #e3e3dd; background-color: #272822; font-weight: bold\">  </span><span style=\"color: #656660; text-decoration-color: #656660; background-color: #272822\">2 </span><span style=\"color: #66d9ef; text-decoration-color: #66d9ef; background-color: #272822\">def</span><span style=\"color: #f8f8f2; text-decoration-color: #f8f8f2; background-color: #272822\"> </span><span style=\"color: #a6e22e; text-decoration-color: #a6e22e; background-color: #272822\">hello</span><span style=\"color: #f8f8f2; text-decoration-color: #f8f8f2; background-color: #272822\">():</span><span style=\"background-color: #272822\">                                                                                                   </span>\n",
       "<span style=\"color: #e3e3dd; text-decoration-color: #e3e3dd; background-color: #272822; font-weight: bold\">  </span><span style=\"color: #656660; text-decoration-color: #656660; background-color: #272822\">3 </span><span style=\"color: #f8f8f2; text-decoration-color: #f8f8f2; background-color: #272822\">    print(</span><span style=\"color: #e6db74; text-decoration-color: #e6db74; background-color: #272822\">\"Hello, World!\"</span><span style=\"color: #f8f8f2; text-decoration-color: #f8f8f2; background-color: #272822\">)</span><span style=\"background-color: #272822\">                                                                                     </span>\n",
       "<span style=\"color: #e3e3dd; text-decoration-color: #e3e3dd; background-color: #272822; font-weight: bold\">  </span><span style=\"color: #656660; text-decoration-color: #656660; background-color: #272822\">4 </span><span style=\"background-color: #272822\">                                                                                                               </span>\n",
       "</pre>\n"
      ],
      "text/plain": [
       "\u001b[1;38;2;227;227;221;48;2;39;40;34m  \u001b[0m\u001b[38;2;101;102;96;48;2;39;40;34m1 \u001b[0m\u001b[48;2;39;40;34m                                                                                                               \u001b[0m\n",
       "\u001b[1;38;2;227;227;221;48;2;39;40;34m  \u001b[0m\u001b[38;2;101;102;96;48;2;39;40;34m2 \u001b[0m\u001b[38;2;102;217;239;48;2;39;40;34mdef\u001b[0m\u001b[38;2;248;248;242;48;2;39;40;34m \u001b[0m\u001b[38;2;166;226;46;48;2;39;40;34mhello\u001b[0m\u001b[38;2;248;248;242;48;2;39;40;34m(\u001b[0m\u001b[38;2;248;248;242;48;2;39;40;34m)\u001b[0m\u001b[38;2;248;248;242;48;2;39;40;34m:\u001b[0m\u001b[48;2;39;40;34m                                                                                                   \u001b[0m\n",
       "\u001b[1;38;2;227;227;221;48;2;39;40;34m  \u001b[0m\u001b[38;2;101;102;96;48;2;39;40;34m3 \u001b[0m\u001b[38;2;248;248;242;48;2;39;40;34m    \u001b[0m\u001b[38;2;248;248;242;48;2;39;40;34mprint\u001b[0m\u001b[38;2;248;248;242;48;2;39;40;34m(\u001b[0m\u001b[38;2;230;219;116;48;2;39;40;34m\"\u001b[0m\u001b[38;2;230;219;116;48;2;39;40;34mHello, World!\u001b[0m\u001b[38;2;230;219;116;48;2;39;40;34m\"\u001b[0m\u001b[38;2;248;248;242;48;2;39;40;34m)\u001b[0m\u001b[48;2;39;40;34m                                                                                     \u001b[0m\n",
       "\u001b[1;38;2;227;227;221;48;2;39;40;34m  \u001b[0m\u001b[38;2;101;102;96;48;2;39;40;34m4 \u001b[0m\u001b[48;2;39;40;34m                                                                                                               \u001b[0m\n"
      ]
     },
     "metadata": {},
     "output_type": "display_data"
    }
   ],
   "source": [
    "from rich.syntax import Syntax\n",
    "from rich.console import Console\n",
    "\n",
    "code = \"\"\"\n",
    "def hello():\n",
    "    print(\"Hello, World!\")\n",
    "\"\"\"\n",
    "\n",
    "syntax = Syntax(code, \"python\", theme=\"monokai\", line_numbers=True)\n",
    "\n",
    "console = Console()\n",
    "console.print(syntax)"
   ]
  },
  {
   "cell_type": "markdown",
   "metadata": {},
   "source": [
    "4. **Progress Bars**"
   ]
  },
  {
   "cell_type": "code",
   "execution_count": 4,
   "metadata": {
    "dotnet_interactive": {
     "language": "csharp"
    },
    "polyglot_notebook": {
     "kernelName": "csharp"
    }
   },
   "outputs": [
    {
     "data": {
      "application/vnd.jupyter.widget-view+json": {
       "model_id": "067e6655d03d4aa5a308f94a70c9285c",
       "version_major": 2,
       "version_minor": 0
      },
      "text/plain": [
       "Output()"
      ]
     },
     "metadata": {},
     "output_type": "display_data"
    },
    {
     "data": {
      "text/html": [
       "<pre style=\"white-space:pre;overflow-x:auto;line-height:normal;font-family:Menlo,'DejaVu Sans Mono',consolas,'Courier New',monospace\">Done!\n",
       "</pre>\n"
      ],
      "text/plain": [
       "Done!\n"
      ]
     },
     "metadata": {},
     "output_type": "display_data"
    },
    {
     "data": {
      "text/html": [
       "<pre style=\"white-space:pre;overflow-x:auto;line-height:normal;font-family:Menlo,'DejaVu Sans Mono',consolas,'Courier New',monospace\"></pre>\n"
      ],
      "text/plain": []
     },
     "metadata": {},
     "output_type": "display_data"
    },
    {
     "data": {
      "text/html": [
       "<pre style=\"white-space:pre;overflow-x:auto;line-height:normal;font-family:Menlo,'DejaVu Sans Mono',consolas,'Courier New',monospace\">\n",
       "</pre>\n"
      ],
      "text/plain": [
       "\n"
      ]
     },
     "metadata": {},
     "output_type": "display_data"
    }
   ],
   "source": [
    "from time import sleep\n",
    "from rich.progress import Progress\n",
    "\n",
    "with Progress() as progress:\n",
    "    task = progress.add_task(\"[cyan]Processing...\", total=100)\n",
    "\n",
    "    for _ in range(100):\n",
    "        progress.update(task, advance=1)\n",
    "        sleep(0.05)\n",
    "\n",
    "    progress.print(\"Done!\")"
   ]
  },
  {
   "cell_type": "markdown",
   "metadata": {},
   "source": [
    "5. **Logging with Style**"
   ]
  },
  {
   "cell_type": "code",
   "execution_count": 5,
   "metadata": {
    "dotnet_interactive": {
     "language": "csharp"
    },
    "polyglot_notebook": {
     "kernelName": "csharp"
    }
   },
   "outputs": [
    {
     "data": {
      "text/html": [
       "<pre style=\"white-space:pre;overflow-x:auto;line-height:normal;font-family:Menlo,'DejaVu Sans Mono',consolas,'Courier New',monospace\"><span style=\"color: #7fbfbf; text-decoration-color: #7fbfbf\">[09/20/23 20:53:08] </span><span style=\"color: #008000; text-decoration-color: #008000\">DEBUG   </span> This is a debug message                                                 <a href=\"file://C:\\Users\\kade\\AppData\\Local\\Temp\\ipykernel_16996\\295741522.py\" target=\"_blank\"><span style=\"color: #7f7f7f; text-decoration-color: #7f7f7f\">295741522.py</span></a><span style=\"color: #7f7f7f; text-decoration-color: #7f7f7f\">:</span><a href=\"file://C:\\Users\\kade\\AppData\\Local\\Temp\\ipykernel_16996\\295741522.py#8\" target=\"_blank\"><span style=\"color: #7f7f7f; text-decoration-color: #7f7f7f\">8</span></a>\n",
       "</pre>\n"
      ],
      "text/plain": [
       "\u001b[2;36m[09/20/23 20:53:08]\u001b[0m\u001b[2;36m \u001b[0m\u001b[32mDEBUG   \u001b[0m This is a debug message                                                 \u001b]8;id=964647;file://C:\\Users\\kade\\AppData\\Local\\Temp\\ipykernel_16996\\295741522.py\u001b\\\u001b[2m295741522.py\u001b[0m\u001b]8;;\u001b\\\u001b[2m:\u001b[0m\u001b]8;id=590646;file://C:\\Users\\kade\\AppData\\Local\\Temp\\ipykernel_16996\\295741522.py#8\u001b\\\u001b[2m8\u001b[0m\u001b]8;;\u001b\\\n"
      ]
     },
     "metadata": {},
     "output_type": "display_data"
    },
    {
     "data": {
      "text/html": [
       "<pre style=\"white-space:pre;overflow-x:auto;line-height:normal;font-family:Menlo,'DejaVu Sans Mono',consolas,'Courier New',monospace\"><span style=\"color: #7fbfbf; text-decoration-color: #7fbfbf\">                    </span><span style=\"color: #000080; text-decoration-color: #000080\">INFO    </span> This is an info message                                                 <a href=\"file://C:\\Users\\kade\\AppData\\Local\\Temp\\ipykernel_16996\\295741522.py\" target=\"_blank\"><span style=\"color: #7f7f7f; text-decoration-color: #7f7f7f\">295741522.py</span></a><span style=\"color: #7f7f7f; text-decoration-color: #7f7f7f\">:</span><a href=\"file://C:\\Users\\kade\\AppData\\Local\\Temp\\ipykernel_16996\\295741522.py#9\" target=\"_blank\"><span style=\"color: #7f7f7f; text-decoration-color: #7f7f7f\">9</span></a>\n",
       "</pre>\n"
      ],
      "text/plain": [
       "\u001b[2;36m                   \u001b[0m\u001b[2;36m \u001b[0m\u001b[34mINFO    \u001b[0m This is an info message                                                 \u001b]8;id=971422;file://C:\\Users\\kade\\AppData\\Local\\Temp\\ipykernel_16996\\295741522.py\u001b\\\u001b[2m295741522.py\u001b[0m\u001b]8;;\u001b\\\u001b[2m:\u001b[0m\u001b]8;id=195413;file://C:\\Users\\kade\\AppData\\Local\\Temp\\ipykernel_16996\\295741522.py#9\u001b\\\u001b[2m9\u001b[0m\u001b]8;;\u001b\\\n"
      ]
     },
     "metadata": {},
     "output_type": "display_data"
    },
    {
     "data": {
      "text/html": [
       "<pre style=\"white-space:pre;overflow-x:auto;line-height:normal;font-family:Menlo,'DejaVu Sans Mono',consolas,'Courier New',monospace\"><span style=\"color: #7fbfbf; text-decoration-color: #7fbfbf\">                    </span><span style=\"color: #800000; text-decoration-color: #800000\">WARNING </span> This is a warning message                                              <a href=\"file://C:\\Users\\kade\\AppData\\Local\\Temp\\ipykernel_16996\\295741522.py\" target=\"_blank\"><span style=\"color: #7f7f7f; text-decoration-color: #7f7f7f\">295741522.py</span></a><span style=\"color: #7f7f7f; text-decoration-color: #7f7f7f\">:</span><a href=\"file://C:\\Users\\kade\\AppData\\Local\\Temp\\ipykernel_16996\\295741522.py#10\" target=\"_blank\"><span style=\"color: #7f7f7f; text-decoration-color: #7f7f7f\">10</span></a>\n",
       "</pre>\n"
      ],
      "text/plain": [
       "\u001b[2;36m                   \u001b[0m\u001b[2;36m \u001b[0m\u001b[31mWARNING \u001b[0m This is a warning message                                              \u001b]8;id=402208;file://C:\\Users\\kade\\AppData\\Local\\Temp\\ipykernel_16996\\295741522.py\u001b\\\u001b[2m295741522.py\u001b[0m\u001b]8;;\u001b\\\u001b[2m:\u001b[0m\u001b]8;id=248004;file://C:\\Users\\kade\\AppData\\Local\\Temp\\ipykernel_16996\\295741522.py#10\u001b\\\u001b[2m10\u001b[0m\u001b]8;;\u001b\\\n"
      ]
     },
     "metadata": {},
     "output_type": "display_data"
    },
    {
     "data": {
      "text/html": [
       "<pre style=\"white-space:pre;overflow-x:auto;line-height:normal;font-family:Menlo,'DejaVu Sans Mono',consolas,'Courier New',monospace\"><span style=\"color: #7fbfbf; text-decoration-color: #7fbfbf\">                    </span><span style=\"color: #800000; text-decoration-color: #800000; font-weight: bold\">ERROR   </span> This is an error message                                               <a href=\"file://C:\\Users\\kade\\AppData\\Local\\Temp\\ipykernel_16996\\295741522.py\" target=\"_blank\"><span style=\"color: #7f7f7f; text-decoration-color: #7f7f7f\">295741522.py</span></a><span style=\"color: #7f7f7f; text-decoration-color: #7f7f7f\">:</span><a href=\"file://C:\\Users\\kade\\AppData\\Local\\Temp\\ipykernel_16996\\295741522.py#11\" target=\"_blank\"><span style=\"color: #7f7f7f; text-decoration-color: #7f7f7f\">11</span></a>\n",
       "</pre>\n"
      ],
      "text/plain": [
       "\u001b[2;36m                   \u001b[0m\u001b[2;36m \u001b[0m\u001b[1;31mERROR   \u001b[0m This is an error message                                               \u001b]8;id=593470;file://C:\\Users\\kade\\AppData\\Local\\Temp\\ipykernel_16996\\295741522.py\u001b\\\u001b[2m295741522.py\u001b[0m\u001b]8;;\u001b\\\u001b[2m:\u001b[0m\u001b]8;id=241657;file://C:\\Users\\kade\\AppData\\Local\\Temp\\ipykernel_16996\\295741522.py#11\u001b\\\u001b[2m11\u001b[0m\u001b]8;;\u001b\\\n"
      ]
     },
     "metadata": {},
     "output_type": "display_data"
    },
    {
     "data": {
      "text/html": [
       "<pre style=\"white-space:pre;overflow-x:auto;line-height:normal;font-family:Menlo,'DejaVu Sans Mono',consolas,'Courier New',monospace\"><span style=\"color: #7fbfbf; text-decoration-color: #7fbfbf\">                    </span><span style=\"background-color: #800000; font-weight: bold\">CRITICAL</span> This is a critical message                                             <a href=\"file://C:\\Users\\kade\\AppData\\Local\\Temp\\ipykernel_16996\\295741522.py\" target=\"_blank\"><span style=\"color: #7f7f7f; text-decoration-color: #7f7f7f\">295741522.py</span></a><span style=\"color: #7f7f7f; text-decoration-color: #7f7f7f\">:</span><a href=\"file://C:\\Users\\kade\\AppData\\Local\\Temp\\ipykernel_16996\\295741522.py#12\" target=\"_blank\"><span style=\"color: #7f7f7f; text-decoration-color: #7f7f7f\">12</span></a>\n",
       "</pre>\n"
      ],
      "text/plain": [
       "\u001b[2;36m                   \u001b[0m\u001b[2;36m \u001b[0m\u001b[1;7;31mCRITICAL\u001b[0m This is a critical message                                             \u001b]8;id=593363;file://C:\\Users\\kade\\AppData\\Local\\Temp\\ipykernel_16996\\295741522.py\u001b\\\u001b[2m295741522.py\u001b[0m\u001b]8;;\u001b\\\u001b[2m:\u001b[0m\u001b]8;id=791586;file://C:\\Users\\kade\\AppData\\Local\\Temp\\ipykernel_16996\\295741522.py#12\u001b\\\u001b[2m12\u001b[0m\u001b]8;;\u001b\\\n"
      ]
     },
     "metadata": {},
     "output_type": "display_data"
    }
   ],
   "source": [
    "from rich.logging import RichHandler\n",
    "import logging\n",
    "\n",
    "logger = logging.getLogger(__name__)\n",
    "logger.setLevel(logging.DEBUG)\n",
    "logger.addHandler(RichHandler())\n",
    "\n",
    "logger.debug(\"This is a debug message\")\n",
    "logger.info(\"This is an info message\")\n",
    "logger.warning(\"This is a warning message\")\n",
    "logger.error(\"This is an error message\")\n",
    "logger.critical(\"This is a critical message\")"
   ]
  },
  {
   "cell_type": "markdown",
   "metadata": {},
   "source": [
    "6. **Markdown Rendering**"
   ]
  },
  {
   "cell_type": "code",
   "execution_count": 6,
   "metadata": {
    "dotnet_interactive": {
     "language": "csharp"
    },
    "polyglot_notebook": {
     "kernelName": "csharp"
    }
   },
   "outputs": [
    {
     "data": {
      "text/html": [
       "<pre style=\"white-space:pre;overflow-x:auto;line-height:normal;font-family:Menlo,'DejaVu Sans Mono',consolas,'Courier New',monospace\">┏━━━━━━━━━━━━━━━━━━━━━━━━━━━━━━━━━━━━━━━━━━━━━━━━━━━━━━━━━━━━━━━━━━━━━━━━━━━━━━━━━━━━━━━━━━━━━━━━━━━━━━━━━━━━━━━━━┓\n",
       "┃                                            <span style=\"font-weight: bold\">Welcome to Rich Markdown</span>                                             ┃\n",
       "┗━━━━━━━━━━━━━━━━━━━━━━━━━━━━━━━━━━━━━━━━━━━━━━━━━━━━━━━━━━━━━━━━━━━━━━━━━━━━━━━━━━━━━━━━━━━━━━━━━━━━━━━━━━━━━━━━━┛\n",
       "\n",
       "🌆 <a href=\"https://github.com/ka-de/notebooks/raw/main/Data/jupiter.jpg\" target=\"_blank\">Jupiter, in all its glory.</a>  | This is a <a href=\"https://rich.readthedocs.io/\" target=\"_blank\"><span style=\"color: #000080; text-decoration-color: #000080; text-decoration: underline\">link</span></a>.                                                                   \n",
       "\n",
       "<span style=\"color: #808000; text-decoration-color: #808000; font-weight: bold\"> • </span>You can create bullet lists.                                                                                    \n",
       "<span style=\"color: #808000; text-decoration-color: #808000; font-weight: bold\"> • </span>You can add <span style=\"font-weight: bold\">bold</span> and <span style=\"font-style: italic\">italic</span> text.                                                                               \n",
       "<span style=\"color: #808000; text-decoration-color: #808000; font-weight: bold\"> • </span>You can even render code blocks with syntax highlighting:                                                       \n",
       "\n",
       "<span style=\"background-color: #272822\">                                                                                                                   </span>\n",
       "<span style=\"background-color: #272822\"> </span><span style=\"color: #66d9ef; text-decoration-color: #66d9ef; background-color: #272822\">def</span><span style=\"color: #f8f8f2; text-decoration-color: #f8f8f2; background-color: #272822\"> </span><span style=\"color: #a6e22e; text-decoration-color: #a6e22e; background-color: #272822\">hello</span><span style=\"color: #f8f8f2; text-decoration-color: #f8f8f2; background-color: #272822\">():</span><span style=\"background-color: #272822\">                                                                                                      </span>\n",
       "<span style=\"background-color: #272822\"> </span><span style=\"color: #f8f8f2; text-decoration-color: #f8f8f2; background-color: #272822\">print(</span><span style=\"color: #e6db74; text-decoration-color: #e6db74; background-color: #272822\">\"Hello, World!\"</span><span style=\"color: #f8f8f2; text-decoration-color: #f8f8f2; background-color: #272822\">)</span><span style=\"background-color: #272822\">                                                                                            </span>\n",
       "<span style=\"background-color: #272822\">                                                                                                                   </span>\n",
       "</pre>\n"
      ],
      "text/plain": [
       "┏━━━━━━━━━━━━━━━━━━━━━━━━━━━━━━━━━━━━━━━━━━━━━━━━━━━━━━━━━━━━━━━━━━━━━━━━━━━━━━━━━━━━━━━━━━━━━━━━━━━━━━━━━━━━━━━━━┓\n",
       "┃                                            \u001b[1mWelcome to Rich Markdown\u001b[0m                                             ┃\n",
       "┗━━━━━━━━━━━━━━━━━━━━━━━━━━━━━━━━━━━━━━━━━━━━━━━━━━━━━━━━━━━━━━━━━━━━━━━━━━━━━━━━━━━━━━━━━━━━━━━━━━━━━━━━━━━━━━━━━┛\n",
       "\n",
       "🌆 \u001b]8;id=858728;https://github.com/ka-de/notebooks/raw/main/Data/jupiter.jpg\u001b\\Jupiter, in all its glory.\u001b]8;;\u001b\\  | This is a \u001b]8;id=699734;https://rich.readthedocs.io/\u001b\\\u001b[4;34mlink\u001b[0m\u001b]8;;\u001b\\.                                                                   \n",
       "\n",
       "\u001b[1;33m • \u001b[0mYou can create bullet lists.                                                                                    \n",
       "\u001b[1;33m • \u001b[0mYou can add \u001b[1mbold\u001b[0m and \u001b[3mitalic\u001b[0m text.                                                                               \n",
       "\u001b[1;33m • \u001b[0mYou can even render code blocks with syntax highlighting:                                                       \n",
       "\n",
       "\u001b[48;2;39;40;34m                                                                                                                   \u001b[0m\n",
       "\u001b[48;2;39;40;34m \u001b[0m\u001b[38;2;102;217;239;48;2;39;40;34mdef\u001b[0m\u001b[38;2;248;248;242;48;2;39;40;34m \u001b[0m\u001b[38;2;166;226;46;48;2;39;40;34mhello\u001b[0m\u001b[38;2;248;248;242;48;2;39;40;34m(\u001b[0m\u001b[38;2;248;248;242;48;2;39;40;34m)\u001b[0m\u001b[38;2;248;248;242;48;2;39;40;34m:\u001b[0m\u001b[48;2;39;40;34m                                                                                                     \u001b[0m\u001b[48;2;39;40;34m \u001b[0m\n",
       "\u001b[48;2;39;40;34m \u001b[0m\u001b[38;2;248;248;242;48;2;39;40;34mprint\u001b[0m\u001b[38;2;248;248;242;48;2;39;40;34m(\u001b[0m\u001b[38;2;230;219;116;48;2;39;40;34m\"\u001b[0m\u001b[38;2;230;219;116;48;2;39;40;34mHello, World!\u001b[0m\u001b[38;2;230;219;116;48;2;39;40;34m\"\u001b[0m\u001b[38;2;248;248;242;48;2;39;40;34m)\u001b[0m\u001b[48;2;39;40;34m                                                                                           \u001b[0m\u001b[48;2;39;40;34m \u001b[0m\n",
       "\u001b[48;2;39;40;34m                                                                                                                   \u001b[0m\n"
      ]
     },
     "metadata": {},
     "output_type": "display_data"
    }
   ],
   "source": [
    "from rich.markdown import Markdown\n",
    "from rich.console import Console\n",
    "\n",
    "console = Console()\n",
    "\n",
    "markdown_text = \"\"\"\n",
    "# Welcome to Rich Markdown\n",
    "\n",
    "![Jupiter, in all its glory.](https://github.com/ka-de/notebooks/raw/main/Data/jupiter.jpg) |\n",
    "This is a [link](https://rich.readthedocs.io/).\n",
    "\n",
    "- You can create bullet lists.\n",
    "- You can add **bold** and *italic* text.\n",
    "- You can even render code blocks with syntax highlighting:\n",
    "```python\n",
    "def hello():\n",
    "print(\"Hello, World!\")\n",
    "```\n",
    "\"\"\"\n",
    "\n",
    "markdown = Markdown(markdown_text)\n",
    "console.print(markdown)\n"
   ]
  },
  {
   "cell_type": "markdown",
   "metadata": {},
   "source": [
    "7. **Tree View**"
   ]
  },
  {
   "cell_type": "code",
   "execution_count": 7,
   "metadata": {
    "dotnet_interactive": {
     "language": "csharp"
    },
    "polyglot_notebook": {
     "kernelName": "csharp"
    }
   },
   "outputs": [
    {
     "data": {
      "text/html": [
       "<pre style=\"white-space:pre;overflow-x:auto;line-height:normal;font-family:Menlo,'DejaVu Sans Mono',consolas,'Courier New',monospace\">Root\n",
       "├── Branch 1\n",
       "│   ├── Leaf 1\n",
       "│   └── Leaf 2\n",
       "└── Branch 2\n",
       "</pre>\n"
      ],
      "text/plain": [
       "Root\n",
       "├── Branch 1\n",
       "│   ├── Leaf 1\n",
       "│   └── Leaf 2\n",
       "└── Branch 2\n"
      ]
     },
     "metadata": {},
     "output_type": "display_data"
    }
   ],
   "source": [
    "from rich.tree import Tree\n",
    "from rich.console import Console\n",
    "\n",
    "console = Console()\n",
    "\n",
    "tree = Tree(\"Root\")\n",
    "branch = tree.add(\"Branch 1\")\n",
    "branch.add(\"Leaf 1\")\n",
    "branch.add(\"Leaf 2\")\n",
    "tree.add(\"Branch 2\")\n",
    "\n",
    "console.print(tree)"
   ]
  },
  {
   "cell_type": "markdown",
   "metadata": {},
   "source": [
    "8. **Hyperlinks**"
   ]
  },
  {
   "cell_type": "code",
   "execution_count": 8,
   "metadata": {
    "dotnet_interactive": {
     "language": "csharp"
    },
    "polyglot_notebook": {
     "kernelName": "csharp"
    }
   },
   "outputs": [
    {
     "data": {
      "text/html": [
       "<pre style=\"white-space:pre;overflow-x:auto;line-height:normal;font-family:Menlo,'DejaVu Sans Mono',consolas,'Courier New',monospace\">Check out the <a href=\"https://rich.readthedocs.io/\" target=\"_blank\">Rich documentation</a> for more details.\n",
       "</pre>\n"
      ],
      "text/plain": [
       "Check out the \u001b]8;id=378458;https://rich.readthedocs.io/\u001b\\Rich documentation\u001b]8;;\u001b\\ for more details.\n"
      ]
     },
     "metadata": {},
     "output_type": "display_data"
    }
   ],
   "source": [
    "console = Console()\n",
    "console.print(\"Check out the [link=https://rich.readthedocs.io/]Rich documentation[/link] for more details.\")"
   ]
  },
  {
   "cell_type": "markdown",
   "metadata": {},
   "source": [
    "9. **Custom Themes and Styles**"
   ]
  },
  {
   "cell_type": "code",
   "execution_count": 9,
   "metadata": {
    "dotnet_interactive": {
     "language": "csharp"
    },
    "polyglot_notebook": {
     "kernelName": "csharp"
    }
   },
   "outputs": [
    {
     "data": {
      "text/html": [
       "<pre style=\"white-space:pre;overflow-x:auto;line-height:normal;font-family:Menlo,'DejaVu Sans Mono',consolas,'Courier New',monospace\"><span style=\"color: #008080; text-decoration-color: #008080\">This is an info message</span>\n",
       "</pre>\n"
      ],
      "text/plain": [
       "\u001b[36mThis is an info message\u001b[0m\n"
      ]
     },
     "metadata": {},
     "output_type": "display_data"
    },
    {
     "data": {
      "text/html": [
       "<pre style=\"white-space:pre;overflow-x:auto;line-height:normal;font-family:Menlo,'DejaVu Sans Mono',consolas,'Courier New',monospace\"><span style=\"color: #808000; text-decoration-color: #808000\">This is a warning message</span>\n",
       "</pre>\n"
      ],
      "text/plain": [
       "\u001b[33mThis is a warning message\u001b[0m\n"
      ]
     },
     "metadata": {},
     "output_type": "display_data"
    },
    {
     "data": {
      "text/html": [
       "<pre style=\"white-space:pre;overflow-x:auto;line-height:normal;font-family:Menlo,'DejaVu Sans Mono',consolas,'Courier New',monospace\"><span style=\"color: #800000; text-decoration-color: #800000\">This is an error message</span>\n",
       "</pre>\n"
      ],
      "text/plain": [
       "\u001b[31mThis is an error message\u001b[0m\n"
      ]
     },
     "metadata": {},
     "output_type": "display_data"
    }
   ],
   "source": [
    "from rich.theme import Theme\n",
    "\n",
    "custom_theme = Theme({\"info\": \"cyan\", \"warning\": \"yellow\", \"error\": \"red\"})\n",
    "console = Console(theme=custom_theme)\n",
    "\n",
    "console.print(\"[info]This is an info message[/info]\")\n",
    "console.print(\"[warning]This is a warning message[/warning]\")\n",
    "console.print(\"[error]This is an error message[/error]\")"
   ]
  },
  {
   "cell_type": "markdown",
   "metadata": {},
   "source": [
    "10. **Live Display**\n",
    "\n",
    "Enables the creation of interactive and real-time displays, such as live updating tables. In this code example, the `Live` class from Rich is used to continuously refresh and update a table with new data, creating a dynamic and fluid presentation. This is particularly useful for scenarios where data is changing or evolving, allowing users to see updates in real-time, making it a valuable tool for monitoring and displaying dynamic information in a visually engaging manner."
   ]
  },
  {
   "cell_type": "code",
   "execution_count": 10,
   "metadata": {
    "dotnet_interactive": {
     "language": "csharp"
    },
    "polyglot_notebook": {
     "kernelName": "csharp"
    }
   },
   "outputs": [
    {
     "data": {
      "application/vnd.jupyter.widget-view+json": {
       "model_id": "7030ea8c4ee847aeb48b3117644e1331",
       "version_major": 2,
       "version_minor": 0
      },
      "text/plain": [
       "Output()"
      ]
     },
     "metadata": {},
     "output_type": "display_data"
    },
    {
     "data": {
      "text/html": [
       "<pre style=\"white-space:pre;overflow-x:auto;line-height:normal;font-family:Menlo,'DejaVu Sans Mono',consolas,'Courier New',monospace\"></pre>\n"
      ],
      "text/plain": []
     },
     "metadata": {},
     "output_type": "display_data"
    }
   ],
   "source": [
    "import time\n",
    "from rich.live import Live\n",
    "from rich.table import Table\n",
    "\n",
    "# Create a table with custom data\n",
    "table = Table()\n",
    "table.add_column(\"ID\", style=\"bold blue\")\n",
    "table.add_column(\"Task Description\", style=\"bold cyan\")\n",
    "table.add_column(\"Status\", style=\"bold magenta\")\n",
    "\n",
    "# Sample data\n",
    "data = [\n",
    "    {\"id\": 1, \"description\": \"Finish report\", \"status\": \"[green]Completed[/green]\"},\n",
    "    {\"id\": 2, \"description\": \"Review code\", \"status\": \"[blue]In Progress[/blue]\"},\n",
    "    {\"id\": 3, \"description\": \"Test functionality\", \"status\": \"[yellow]Pending[/yellow]\"},\n",
    "]\n",
    "\n",
    "# Display the live updating table\n",
    "with Live(table, refresh_per_second=2):  # Update every 2 seconds\n",
    "    for row in data:\n",
    "        time.sleep(2)  # Simulate work or data update\n",
    "        table.add_row(\n",
    "            str(row[\"id\"]), row[\"description\"], row[\"status\"]\n",
    "        )"
   ]
  },
  {
   "cell_type": "markdown",
   "metadata": {},
   "source": [
    "11. **Updating Existing Displays**"
   ]
  },
  {
   "cell_type": "code",
   "execution_count": 11,
   "metadata": {
    "dotnet_interactive": {
     "language": "csharp"
    },
    "polyglot_notebook": {
     "kernelName": "csharp"
    }
   },
   "outputs": [
    {
     "data": {
      "application/vnd.jupyter.widget-view+json": {
       "model_id": "3ad4c2ab1f314f16aab10ffecb3a917c",
       "version_major": 2,
       "version_minor": 0
      },
      "text/plain": [
       "Output()"
      ]
     },
     "metadata": {},
     "output_type": "display_data"
    },
    {
     "data": {
      "text/html": [
       "<pre style=\"white-space:pre;overflow-x:auto;line-height:normal;font-family:Menlo,'DejaVu Sans Mono',consolas,'Courier New',monospace\"></pre>\n"
      ],
      "text/plain": []
     },
     "metadata": {},
     "output_type": "display_data"
    }
   ],
   "source": [
    "import random\n",
    "import time\n",
    "\n",
    "from rich.live import Live\n",
    "from rich.table import Table\n",
    "\n",
    "# List of animal emojis\n",
    "failure_emojis = [\"🐶\"]\n",
    "success_emojis = [\"🦊\", \"🐻\"]\n",
    "\n",
    "def generate_table() -> Table:\n",
    "    \"\"\"Make a new table.\"\"\"\n",
    "    table = Table()\n",
    "    table.add_column(\"ID\")\n",
    "    \n",
    "    # Add the \"Value\" column with a style attribute for normal text color\n",
    "    table.add_column(\"Value\", style=\"default\")\n",
    "    \n",
    "    # Set the alignment of the \"Status\" column to \"center\"\n",
    "    table.add_column(\"Status\", justify=\"center\")\n",
    "\n",
    "    for row in range(random.randint(2, 6)):\n",
    "        value = random.random() * 100\n",
    "        # Randomly select an animal emoji for the \"Status\" column based on success or failure\n",
    "        if value < 50:\n",
    "            animal_emoji = random.choice(failure_emojis)\n",
    "            # Change the text color of the \"Value\" column to red for failures\n",
    "            value_style = \"red\"\n",
    "        else:\n",
    "            animal_emoji = random.choice(success_emojis)\n",
    "            # Use the default style for normal text color for successes\n",
    "            value_style = \"default\"\n",
    "        table.add_row(\n",
    "            f\"{row}\", f\"[{value_style}]{value:3.2f}[/{value_style}]\", f\"{animal_emoji}\"\n",
    "        )\n",
    "    return table\n",
    "\n",
    "with Live(generate_table(), refresh_per_second=4) as live:\n",
    "    for _ in range(10):\n",
    "        time.sleep(0.75)\n",
    "        live.update(generate_table())"
   ]
  },
  {
   "cell_type": "markdown",
   "metadata": {},
   "source": [
    "12. **Simulation of the `top` linux command**"
   ]
  },
  {
   "cell_type": "code",
   "execution_count": 12,
   "metadata": {
    "dotnet_interactive": {
     "language": "csharp"
    },
    "polyglot_notebook": {
     "kernelName": "csharp"
    }
   },
   "outputs": [
    {
     "data": {
      "application/vnd.jupyter.widget-view+json": {
       "model_id": "fdb4a61bfdd84ffb9a12b8fdbce8e15f",
       "version_major": 2,
       "version_minor": 0
      },
      "text/plain": [
       "Output()"
      ]
     },
     "metadata": {},
     "output_type": "display_data"
    },
    {
     "data": {
      "text/html": [
       "<pre style=\"white-space:pre;overflow-x:auto;line-height:normal;font-family:Menlo,'DejaVu Sans Mono',consolas,'Courier New',monospace\"></pre>\n"
      ],
      "text/plain": []
     },
     "metadata": {},
     "output_type": "display_data"
    }
   ],
   "source": [
    "\"\"\"Lite simulation of the top linux command.\"\"\"\n",
    "import datetime\n",
    "import random\n",
    "import time\n",
    "from dataclasses import dataclass\n",
    "\n",
    "from rich import box\n",
    "from rich.console import Console\n",
    "from rich.live import Live\n",
    "from rich.table import Table\n",
    "\n",
    "from typing import Literal\n",
    "\n",
    "@dataclass\n",
    "class Process:\n",
    "    pid: int\n",
    "    command: str\n",
    "    cpu_percent: float\n",
    "    memory: int\n",
    "    start_time: datetime.datetime\n",
    "    thread_count: int\n",
    "    state: Literal[\"running\", \"sleeping\"]\n",
    "\n",
    "    @property\n",
    "    def memory_str(self) -> str:\n",
    "        if self.memory > 1e6:\n",
    "            return f\"{int(self.memory/1e6)}M\"\n",
    "        if self.memory > 1e3:\n",
    "            return f\"{int(self.memory/1e3)}K\"\n",
    "        return str(self.memory)\n",
    "\n",
    "    @property\n",
    "    def time_str(self) -> str:\n",
    "        return str(datetime.datetime.now() - self.start_time)\n",
    "\n",
    "\n",
    "def generate_process(pid: int) -> Process:\n",
    "    return Process(\n",
    "        pid=pid,\n",
    "        command=f\"Process {pid}\",\n",
    "        cpu_percent=random.random() * 20,\n",
    "        memory=random.randint(10, 200) ** 3,\n",
    "        start_time=datetime.datetime.now()\n",
    "        - datetime.timedelta(seconds=random.randint(0, 500) ** 2),\n",
    "        thread_count=random.randint(1, 32),\n",
    "        state=\"running\" if random.randint(0, 10) < 8 else \"sleeping\",\n",
    "    )\n",
    "\n",
    "def create_process_table(height: int) -> Table:\n",
    "\n",
    "    processes = sorted(\n",
    "        [generate_process(pid) for pid in range(height)],\n",
    "        key=lambda p: p.cpu_percent,\n",
    "        reverse=True,\n",
    "    )\n",
    "    table = Table(\n",
    "        \"PID\", \"Command\", \"CPU %\", \"Memory\", \"Time\", \"Thread #\", \"State\", box=box.SIMPLE\n",
    "    )\n",
    "\n",
    "    for process in processes:\n",
    "        table.add_row(\n",
    "            str(process.pid),\n",
    "            process.command,\n",
    "            f\"{process.cpu_percent:.1f}\",\n",
    "            process.memory_str,\n",
    "            process.time_str,\n",
    "            str(process.thread_count),\n",
    "            process.state,\n",
    "        )\n",
    "\n",
    "    return table\n",
    "\n",
    "console = Console()\n",
    "\n",
    "with Live(console=console, screen=True, auto_refresh=False) as live:\n",
    "    for _ in range(10):\n",
    "        live.update(create_process_table(console.size.height - 4), refresh=True)\n",
    "        time.sleep(1)"
   ]
  }
 ],
 "metadata": {
  "kernelspec": {
   "display_name": "base",
   "language": "python",
   "name": "python3"
  },
  "language_info": {
   "codemirror_mode": {
    "name": "ipython",
    "version": 3
   },
   "file_extension": ".py",
   "mimetype": "text/x-python",
   "name": "python",
   "nbconvert_exporter": "python",
   "pygments_lexer": "ipython3",
   "version": "3.11.4"
  },
  "orig_nbformat": 4,
  "polyglot_notebook": {
   "kernelInfo": {
    "defaultKernelName": "csharp",
    "items": [
     {
      "aliases": [],
      "name": "csharp"
     }
    ]
   }
  }
 },
 "nbformat": 4,
 "nbformat_minor": 2
}
