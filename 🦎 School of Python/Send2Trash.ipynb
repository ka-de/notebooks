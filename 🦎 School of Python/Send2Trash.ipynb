{
 "cells": [
  {
   "cell_type": "markdown",
   "metadata": {},
   "source": [
    "# send2trash\n",
    "\n",
    "Send2Trash is a small package that sends files to the Trash (or Recycle Bin) natively and on all platforms.\n",
    "\n",
    "```bash\n",
    "python -m pip install -U send2trash\n",
    "```"
   ]
  },
  {
   "cell_type": "code",
   "execution_count": 2,
   "metadata": {},
   "outputs": [
    {
     "name": "stdout",
     "output_type": "stream",
     "text": [
      "File does not exist.\n"
     ]
    }
   ],
   "source": [
    "import os\n",
    "import send2trash\n",
    "\n",
    "# Specify the file path you want to send to the recycle bin\n",
    "file_path = \"path/to/your/file.txt\"\n",
    "\n",
    "# It can also be used to delete folders or multiple files at once.\n",
    "#folder_path = \"path/to/your/folder\"\n",
    "#files_to_delete = [\"file1.txt\", \"file2.txt\", \"file3.txt\"]\n",
    "\n",
    "# Use the send2trash function to move the file to the recycle bin\n",
    "if os.path.exists(file_path):\n",
    "    send2trash.send2trash(file_path)\n",
    "else:\n",
    "    print(\"File does not exist.\")"
   ]
  },
  {
   "cell_type": "markdown",
   "metadata": {},
   "source": [
    "## Code that can move files to the trash or permanently delete them."
   ]
  },
  {
   "cell_type": "code",
   "execution_count": 4,
   "metadata": {},
   "outputs": [
    {
     "name": "stdout",
     "output_type": "stream",
     "text": [
      "Choose an option:\n",
      "1. Move to Recycle Bin\n",
      "2. Permanently Delete\n",
      "File does not exist.\n"
     ]
    }
   ],
   "source": [
    "import os\n",
    "import send2trash\n",
    "\n",
    "# Specify the file path you want to delete or move\n",
    "file_path = \"path/to/your/file.txt\"\n",
    "\n",
    "# Prompt the user for their choice\n",
    "print(\"Choose an option:\")\n",
    "print(\"1. Move to Recycle Bin\")\n",
    "print(\"2. Permanently Delete\")\n",
    "choice = input(\"Enter the number of your choice: \")\n",
    "\n",
    "# Check if the file exists\n",
    "if os.path.exists(file_path):\n",
    "    if choice == \"1\":\n",
    "        # Move the file to the recycle bin\n",
    "        send2trash.send2trash(file_path)\n",
    "        print(\"File moved to Recycle Bin.\")\n",
    "    elif choice == \"2\":\n",
    "        # Permanently delete the file\n",
    "        os.remove(file_path)\n",
    "        print(\"File permanently deleted.\")\n",
    "    else:\n",
    "        print(\"Invalid choice. Please enter 1 or 2.\")\n",
    "else:\n",
    "    print(\"File does not exist.\")"
   ]
  },
  {
   "cell_type": "markdown",
   "metadata": {},
   "source": [
    "## Same thing but with no move to Recycle Bin option."
   ]
  },
  {
   "cell_type": "code",
   "execution_count": 5,
   "metadata": {},
   "outputs": [
    {
     "name": "stdout",
     "output_type": "stream",
     "text": [
      "Folder does not exist.\n"
     ]
    }
   ],
   "source": [
    "import os\n",
    "import shutil\n",
    "\n",
    "# Specify the folder path you want to delete\n",
    "folder_path = \"path/to/your/folder\"\n",
    "\n",
    "# Check if the folder exists\n",
    "if os.path.exists(folder_path):\n",
    "    # Permanently delete the folder and its contents\n",
    "    shutil.rmtree(folder_path)\n",
    "    print(\"Folder and its contents permanently deleted.\")\n",
    "else:\n",
    "    print(\"Folder does not exist.\")"
   ]
  }
 ],
 "metadata": {
  "kernelspec": {
   "display_name": "base",
   "language": "python",
   "name": "python3"
  },
  "language_info": {
   "codemirror_mode": {
    "name": "ipython",
    "version": 3
   },
   "file_extension": ".py",
   "mimetype": "text/x-python",
   "name": "python",
   "nbconvert_exporter": "python",
   "pygments_lexer": "ipython3",
   "version": "3.11.5"
  }
 },
 "nbformat": 4,
 "nbformat_minor": 2
}
