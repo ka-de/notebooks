{
 "cells": [
  {
   "cell_type": "markdown",
   "metadata": {},
   "source": [
    "# Check for Hardcoded Localhost in Source Code\n",
    "\n",
    "Ready to deploy? You probably want to change your hardcoded `localhost` values to an IP address then?\n",
    "First, get a list with the file extensions for your source codes:"
   ]
  },
  {
   "cell_type": "code",
   "execution_count": 1,
   "metadata": {},
   "outputs": [],
   "source": [
    "source_code_file_extensions = [\n",
    "    'c',\n",
    "    'cpp',\n",
    "    'h',\n",
    "    'hpp',\n",
    "    'jsx',\n",
    "    'tsx',\n",
    "    'php',\n",
    "    'py',\n",
    "]"
   ]
  },
  {
   "cell_type": "markdown",
   "metadata": {},
   "source": [
    "Then the following piece of code will traverse through your current directory and check every file with the file extensions you specified for the word `localhost` and prints out each occurrence with the line number. "
   ]
  },
  {
   "cell_type": "code",
   "execution_count": 3,
   "metadata": {},
   "outputs": [
    {
     "name": "stdout",
     "output_type": "stream",
     "text": [
      "File: simple-crawler.py, Line 33: host=\"localhost\",\n",
      "File: link.py, Line 556: # According to RFC 8089, an empty host in file: means localhost.\n",
      "File: link.py, Line 558: netloc = \"localhost\"\n",
      "File: session.py, Line 71: (\"*\", \"localhost\", \"*\"),\n",
      "File: urls.py, Line 36: if not netloc or netloc == \"localhost\":\n",
      "File: locators.py, Line 721: if host.lower() == 'localhost':\n",
      "File: utils.py, Line 97: # '<local>' string by the localhost entry and the corresponding\n",
      "File: connectionpool.py, Line 117: Host used for this HTTP Connection (e.g. \"localhost\"), passed into\n",
      "File: exceptions.py, Line 292: # 'localhost' is here because our URL parser parses\n",
      "File: exceptions.py, Line 293: # localhost:8080 -> scheme=localhost, remove if we fix this.\n",
      "File: exceptions.py, Line 294: if scheme == \"localhost\":\n",
      "File: poolmanager.py, Line 449: >>> proxy = urllib3.ProxyManager('http://localhost:3128/')\n"
     ]
    }
   ],
   "source": [
    "import os\n",
    "import re\n",
    "\n",
    "def search_localhost(root, file_name):\n",
    "    file_path = os.path.join(root, file_name)\n",
    "    with open(file_path, \"r\", encoding=\"utf-8\") as file:\n",
    "        lines = file.readlines()\n",
    "        for line_number, line in enumerate(lines, start=1):\n",
    "            if re.search(r'localhost', line):\n",
    "                # Calculate the relative path from the root folder\n",
    "                relative_path = os.path.relpath(file_path, start=root)\n",
    "                print(f'File: {relative_path}, Line {line_number}: {line.strip()}')\n",
    "\n",
    "# Define the current directory\n",
    "current_directory = os.getcwd()\n",
    "\n",
    "# Recursively search for source code files with recognized extensions and check for \"localhost\"\n",
    "for root, _, files in os.walk(current_directory):\n",
    "    for file_name in files:\n",
    "        # Get the file extension without a period (.)\n",
    "        file_extension = file_name.split('.')[-1]\n",
    "        if file_extension in source_code_file_extensions:\n",
    "            search_localhost(root, file_name)"
   ]
  }
 ],
 "metadata": {
  "kernelspec": {
   "display_name": "Python 3 (ipykernel)",
   "language": "python",
   "name": "python3"
  },
  "language_info": {
   "codemirror_mode": {
    "name": "ipython",
    "version": 3
   },
   "file_extension": ".py",
   "mimetype": "text/x-python",
   "name": "python",
   "nbconvert_exporter": "python",
   "pygments_lexer": "ipython3",
   "version": "3.11.4"
  },
  "orig_nbformat": 4
 },
 "nbformat": 4,
 "nbformat_minor": 2
}
