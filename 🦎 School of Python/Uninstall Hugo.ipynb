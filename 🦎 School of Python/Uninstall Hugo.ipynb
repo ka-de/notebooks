{
 "cells": [
  {
   "cell_type": "markdown",
   "metadata": {},
   "source": [
    "# A Simple Static Site Generator"
   ]
  },
  {
   "cell_type": "code",
   "execution_count": 23,
   "metadata": {},
   "outputs": [],
   "source": [
    "import os\n",
    "import shutil\n",
    "import markdown\n",
    "from jinja2 import Environment, FileSystemLoader\n",
    "\n",
    "# Create the 'content' directory if it doesn't exist\n",
    "if not os.path.exists(\"content\"):\n",
    "    os.makedirs(\"content\")\n",
    "\n",
    "# Create the 'public/static' directory if it doesn't exist\n",
    "if not os.path.exists(\"public/static\"):\n",
    "    os.makedirs(\"public/static\")\n",
    "\n",
    "# Create a Jinja2 environment with a templates folder\n",
    "template_env = Environment(loader=FileSystemLoader('../Data'))\n",
    "# Function to create a new content file\n",
    "def create_content(title, content):\n",
    "    filename = title.lower().replace(\" \", \"-\") + \".md\"\n",
    "    with open(\"content/\" + filename, \"w\") as file:\n",
    "        file.write(f\"---\\ntitle: {title}\\ndate: 2023-09-04\\n---\\n\\n{content}\")\n",
    "\n",
    "# Function to build the website\n",
    "def build_website():\n",
    "    # Clear the output directory\n",
    "    if os.path.exists(\"public\"):\n",
    "        shutil.rmtree(\"public\")\n",
    "\n",
    "    # Create the 'public' directory\n",
    "    os.makedirs(\"public\")\n",
    "\n",
    "    # Process content files and build pages\n",
    "    for filename in os.listdir(\"content\"):\n",
    "        if filename.endswith(\".md\"):\n",
    "            with open(\"content/\" + filename, \"r\") as file:\n",
    "                content = file.read()\n",
    "                # Extract metadata (e.g., title, date)\n",
    "                # Convert Markdown to HTML\n",
    "                html_content = markdown.markdown(content)\n",
    "                \n",
    "                # Extract title from metadata\n",
    "                metadata_lines = content.split('\\n')\n",
    "                for line in metadata_lines:\n",
    "                    if line.startswith(\"title:\"):\n",
    "                        title = line[len(\"title:\"):].strip()\n",
    "                        break\n",
    "\n",
    "                # Load a Jinja2 template\n",
    "                template = template_env.get_template('template.html')\n",
    "\n",
    "                # Render the template with title and HTML content\n",
    "                rendered_html = template.render(title=title, content=html_content)\n",
    "\n",
    "                # Create the HTML file in 'public' directory\n",
    "                html_filename = filename.replace(\".md\", \".html\")\n",
    "                with open(f\"public/{html_filename}\", \"w\") as html_file:\n",
    "                    html_file.write(rendered_html)\n",
    "\n",
    "# Example usage\n",
    "create_content(\"My First Post\", \"This is the content of my first post.\")\n",
    "create_content(\"Another Post\", \"This is another post on my website.\")\n",
    "build_website()"
   ]
  }
 ],
 "metadata": {
  "kernelspec": {
   "display_name": "Python 3",
   "language": "python",
   "name": "python3"
  },
  "language_info": {
   "codemirror_mode": {
    "name": "ipython",
    "version": 3
   },
   "file_extension": ".py",
   "mimetype": "text/x-python",
   "name": "python",
   "nbconvert_exporter": "python",
   "pygments_lexer": "ipython3",
   "version": "3.11.5"
  },
  "orig_nbformat": 4
 },
 "nbformat": 4,
 "nbformat_minor": 2
}
