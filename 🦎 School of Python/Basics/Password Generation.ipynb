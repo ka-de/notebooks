{
 "cells": [
  {
   "cell_type": "markdown",
   "metadata": {},
   "source": [
    "# Random Password Generators 🔑\n",
    "\n",
    "## XKCD-Style"
   ]
  },
  {
   "cell_type": "code",
   "execution_count": 1,
   "metadata": {},
   "outputs": [
    {
     "name": "stdout",
     "output_type": "stream",
     "text": [
      "Generated XKCD-style password:\n",
      "running meerkat Ishiguro gaming\n",
      "Password copied to clipboard!\n"
     ]
    }
   ],
   "source": [
    "import random\n",
    "import pyperclip\n",
    "\n",
    "# Define sets of words for each category\n",
    "first_nouns = {\n",
    "    \"running\", \"jumping\", \"sleeping\", \"dancing\", \"singing\", \"swimming\", \"laughing\", \"smiling\",\n",
    "    \"skipping\", \"sighing\", \"hiking\", \"giggling\", \"whistling\", \"wandering\", \"murmuring\", \"blinking\",\n",
    "    \"gliding\", \"floating\", \"joking\", \"napping\", \"twirling\", \"shivering\", \"strolling\", \"gazing\",\n",
    "    \"winking\", \"sneering\", \"cheering\", \"chuckling\"\n",
    "}\n",
    "\n",
    "animals = {\n",
    "    \"dog\", \"cat\", \"bird\", \"elephant\", \"tiger\", \"rabbit\", \"lion\", \"fish\", \"snake\",\n",
    "    \"giraffe\", \"penguin\", \"kangaroo\", \"octopus\", \"dolphin\", \"platypus\", \"koala\",\n",
    "    \"rhinoceros\", \"cheetah\", \"panda\", \"puma\", \"lynx\", \"otter\", \"jaguar\", \"meerkat\",\n",
    "    \"elephant seal\", \"lemur\", \"porcupine\", \"peacock\", \"hedgehog\", \"cockatoo\"\n",
    "}\n",
    "\n",
    "# Define a second set of \"nouns\"\n",
    "second_nouns = {\n",
    "   \"ample\", \"autoplay\", \"backpropagate\", \"biomolecules\", \"brainfuck\",\n",
    "    \"carboxamide\", \"censorship\", \"Chimamanda\", \"chromagram\", \"cirrus\",\n",
    "    \"colorbar\", \"consolas\", \"cowsay\", \"davinci\", \"dblquad\", \"decorrelates\",\n",
    "    \"defun\", \"delysid\", \"diethyl\", \"domready\", \"dotfiles\", \"dtype\", \"entheogen\",\n",
    "    \"eschaton\", \"feedforward\", \"figsize\", \"filterbank\", \"fmax\", \"fmin\",\n",
    "    \"haml\", \"Haruki\", \"headshake\", \"coldfusion\",\n",
    "    \"hexahydroindolo\", \"hexcode\", \"hexcolors\", \"infobox\", \"infoboxes\",\n",
    "    \"ipynb\", \"ipywidgets\", \"isalpha\", \"Ishiguro\", \"isset\", \"itemprop\",\n",
    "    \"Kazuo\", \"McKenna\"\n",
    "}\n",
    "\n",
    "\n",
    "# Define a third set of nouns\n",
    "third_nouns = {\n",
    "    \"computer\", \"keyboard\", \"mouse\", \"monitor\", \"printer\", \"internet\", \"software\", \"website\",\n",
    "    \"database\", \"password\", \"email\", \"camera\", \"music\", \"painting\", \"bicycle\", \"gaming\", \"programming\",\n",
    "    \"robot\", \"smartphone\", \"cloud\", \"cyberspace\", \"firewall\", \"encryption\", \"algorithm\", \"virtualization\",\n",
    "    \"firework\", \"telescope\", \"microscope\", \"television\", \"spaceship\", \"astronomy\"\n",
    "}\n",
    "\n",
    "def generate_xkcd_password():\n",
    "    password = [\n",
    "        random.choice(list(first_nouns)),\n",
    "        random.choice(list(animals)),\n",
    "        random.choice(list(second_nouns)),\n",
    "        random.choice(list(third_nouns)),\n",
    "    ]\n",
    "\n",
    "    return \" \".join(password)\n",
    "\n",
    "# Generate XKCD-style password\n",
    "password = generate_xkcd_password()\n",
    "\n",
    "# Copy the password to the clipboard\n",
    "pyperclip.copy(password)\n",
    "\n",
    "print(\"Generated XKCD-style password:\")\n",
    "print(password)\n",
    "print(\"Password copied to clipboard!\")"
   ]
  },
  {
   "cell_type": "markdown",
   "metadata": {},
   "source": [
    "## No Fun Allowed Method\n",
    "\n",
    "Quantum computing ready with emoji support. 🧙‍♀️"
   ]
  },
  {
   "cell_type": "code",
   "execution_count": 3,
   "metadata": {},
   "outputs": [
    {
     "name": "stdout",
     "output_type": "stream",
     "text": [
      "@?R7{!4xm🤖p%🐉(Q🚀=*,🌟'&+h😀4💡+g❄Uz~3+R|vW0/]/}|mAA\\5s🌟kA🔮😀8Pl🌈.Rnx\n"
     ]
    }
   ],
   "source": [
    "import random\n",
    "import string\n",
    "import pyperclip  # for copying to clipboard\n",
    "\n",
    "def generate_password(length, use_uppercase, use_lowercase, use_numbers, use_symbols, use_emojis):\n",
    "    characters = ''\n",
    "    if use_uppercase:\n",
    "        characters += string.ascii_uppercase\n",
    "    if use_lowercase:\n",
    "        characters += string.ascii_lowercase\n",
    "    if use_numbers:\n",
    "        characters += string.digits\n",
    "    if use_symbols:\n",
    "        characters += string.punctuation\n",
    "    if use_emojis:\n",
    "        characters += '😀😎👽🤖🚀🌟💡🔮🧙‍♀️🐉🦄🌈⚡❄️'\n",
    "\n",
    "    if not characters:\n",
    "        return \"Please select at least one character type.\"\n",
    "\n",
    "    password = ''.join(random.choice(characters) for _ in range(length))\n",
    "    return password\n",
    "\n",
    "def main():\n",
    "    while True:\n",
    "        length = int(input(\"Enter password length: \"))\n",
    "        use_uppercase = input(\"Include uppercase letters? (y/n): \").lower() == 'y'\n",
    "        use_lowercase = input(\"Include lowercase letters? (y/n): \").lower() == 'y'\n",
    "        use_numbers = input(\"Include numbers? (y/n): \").lower() == 'y'\n",
    "        use_symbols = input(\"Include special symbols? (y/n): \").lower() == 'y'\n",
    "        use_emojis = input(\"Include emojis? (y/n): \").lower() == 'y'\n",
    "\n",
    "        password = generate_password(length, use_uppercase, use_lowercase, use_numbers, use_symbols, use_emojis)\n",
    "        print(password)\n",
    "\n",
    "        # Copy to clipboard (optional)\n",
    "        copy_to_clipboard = input(\"Copy to clipboard? (y/n): \").lower() == 'y'\n",
    "        if copy_to_clipboard:\n",
    "            pyperclip.copy(password)\n",
    "            print(\"Password copied to clipboard!\")\n",
    "\n",
    "        another_password = input(\"Generate another password? (y/n): \").lower()\n",
    "        if another_password != 'y':\n",
    "            break\n",
    "\n",
    "if __name__ == \"__main__\":\n",
    "    main()\n"
   ]
  }
 ],
 "metadata": {
  "kernelspec": {
   "display_name": "Python 3",
   "language": "python",
   "name": "python3"
  },
  "language_info": {
   "codemirror_mode": {
    "name": "ipython",
    "version": 3
   },
   "file_extension": ".py",
   "mimetype": "text/x-python",
   "name": "python",
   "nbconvert_exporter": "python",
   "pygments_lexer": "ipython3",
   "version": "3.11.5"
  },
  "orig_nbformat": 4
 },
 "nbformat": 4,
 "nbformat_minor": 2
}
