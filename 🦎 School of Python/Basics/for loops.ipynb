{
 "cells": [
  {
   "cell_type": "markdown",
   "metadata": {},
   "source": [
    "# Basics: for loops"
   ]
  },
  {
   "cell_type": "code",
   "execution_count": 1,
   "metadata": {},
   "outputs": [
    {
     "name": "stdout",
     "output_type": "stream",
     "text": [
      "[2, 4, 6, 8, 10]\n"
     ]
    }
   ],
   "source": [
    "# Create a list of items you want to iterate over\n",
    "items = [1, 2, 3, 4, 5]\n",
    "\n",
    "# Define a function that will be applied to each item\n",
    "def custom_function(item):\n",
    "    result = item * 2  # For example, double each item\n",
    "    return result\n",
    "\n",
    "# Use a for loop with enumerate to apply the function to each item\n",
    "for index, item in enumerate(items):\n",
    "    items[index] = custom_function(item)\n",
    "\n",
    "print(items)"
   ]
  },
  {
   "cell_type": "markdown",
   "metadata": {},
   "source": [
    "This code demonstrates how to customize a for loop to achieve a for-each-like behavior in Python. You can replace the custom_function with your own logic to customize the behavior as needed for your specific use case.\n",
    "\n",
    "You can even replace it with a set, which will guarantee that the items are unique."
   ]
  },
  {
   "cell_type": "code",
   "execution_count": 2,
   "metadata": {},
   "outputs": [
    {
     "name": "stdout",
     "output_type": "stream",
     "text": [
      "3\n",
      "6\n",
      "12\n",
      "15\n"
     ]
    }
   ],
   "source": [
    "# Create a set of items you want to iterate over (ensures uniqueness)\n",
    "items = {1, 2, 4, 4, 5}\n",
    "\n",
    "def custom_function(item):\n",
    "    result = item * 3  # For example, triple each item\n",
    "    return result\n",
    "\n",
    "for item in items:\n",
    "    result = custom_function(item)\n",
    "    print(result)"
   ]
  }
 ],
 "metadata": {
  "kernelspec": {
   "display_name": "Python 3",
   "language": "python",
   "name": "python3"
  },
  "language_info": {
   "codemirror_mode": {
    "name": "ipython",
    "version": 3
   },
   "file_extension": ".py",
   "mimetype": "text/x-python",
   "name": "python",
   "nbconvert_exporter": "python",
   "pygments_lexer": "ipython3",
   "version": "3.11.5"
  },
  "orig_nbformat": 4
 },
 "nbformat": 4,
 "nbformat_minor": 2
}
