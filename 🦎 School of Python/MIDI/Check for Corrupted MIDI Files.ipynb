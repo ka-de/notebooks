{
 "cells": [
  {
   "cell_type": "markdown",
   "metadata": {},
   "source": [
    "# Check for Corrupted MIDI Files\n",
    "\n",
    "The following script looks through the current directory and all subdirectories for MIDI files and attempts to find corrupted ones.\n",
    "\n",
    "Made to filter out the [Lakh MIDI Dataset](https://colinraffel.com/projects/lmd/)"
   ]
  },
  {
   "cell_type": "code",
   "execution_count": null,
   "metadata": {},
   "outputs": [],
   "source": [
    "import os\n",
    "import mido\n",
    "\n",
    "def is_corrupted_midi(file_path):\n",
    "    try:\n",
    "        mido.MidiFile(file_path)\n",
    "        return False\n",
    "    except Exception as e:\n",
    "        return True\n",
    "\n",
    "def analyze_midi_files_in_directory(directory):\n",
    "    for root, _, files in os.walk(directory):\n",
    "        for file in files:\n",
    "            if file.endswith(\".mid\"):\n",
    "                midi_file_path = os.path.join(root, file)\n",
    "                if is_corrupted_midi(midi_file_path):\n",
    "                    print(f\"{midi_file_path}\")\n",
    "\n",
    "def main():\n",
    "    print(\"Analyzing MIDI Files in \" + os.getcwd())\n",
    "    current_directory = os.getcwd()\n",
    "    analyze_midi_files_in_directory(current_directory)\n",
    "\n",
    "if __name__ == \"__main__\":\n",
    "    main()"
   ]
  }
 ],
 "metadata": {
  "kernelspec": {
   "display_name": "Python 3",
   "language": "python",
   "name": "python3"
  },
  "language_info": {
   "codemirror_mode": {
    "name": "ipython",
    "version": 3
   },
   "file_extension": ".py",
   "mimetype": "text/x-python",
   "name": "python",
   "nbconvert_exporter": "python",
   "pygments_lexer": "ipython3",
   "version": "3.11.5"
  },
  "orig_nbformat": 4
 },
 "nbformat": 4,
 "nbformat_minor": 2
}
