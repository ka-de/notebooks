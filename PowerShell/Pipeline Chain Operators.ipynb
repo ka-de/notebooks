{
 "cells": [
  {
   "cell_type": "markdown",
   "metadata": {},
   "source": [
    "# Pipeline Chain Operators\n",
    "\n",
    "A set of pipeline chain operators (&&, ||, ??) that allow you to chain commands together more easily and handle errors or null values more gracefully. For example:\n",
    "\n",
    "```powershell\n",
    "# Execute the second command only if the first one succeeds\n",
    "Get-Process notepad && Write-Host \"Notepad is running\"\n",
    "\n",
    "# Execute the second command only if the first one fails\n",
    "Get-Process notepad || Write-Host \"Notepad is not running\"\n",
    "\n",
    "# Handle null values with the null-coalescing operator\n",
    "$result = $null ?? \"Default Value\"\n",
    "```\n",
    "\n",
    "## Ternary Conditional Operator\n",
    "\n",
    "A ternary conditional operator (? :) for conditional expressions, allowing for more concise code:\n",
    "\n",
    "```powershell\n",
    "$age = 18\n",
    "# if-else method\n",
    "$status = if ($age -ge 18) { \"Adult\" } else { \"Minor\" }\n",
    "# With ternary operator\n",
    "$status = ($age -ge 18) ? \"Adult\" : \"Minor\"\n",
    "```\n",
    "\n"
   ]
  }
 ],
 "metadata": {
  "kernelspec": {
   "display_name": "Python 3",
   "language": "python",
   "name": "python3"
  },
  "language_info": {
   "codemirror_mode": {
    "name": "ipython",
    "version": 3
   },
   "file_extension": ".py",
   "mimetype": "text/x-python",
   "name": "python",
   "nbconvert_exporter": "python",
   "pygments_lexer": "ipython3",
   "version": "3.11.5"
  },
  "orig_nbformat": 4
 },
 "nbformat": 4,
 "nbformat_minor": 2
}
