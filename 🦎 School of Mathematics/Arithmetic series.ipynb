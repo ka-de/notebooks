{
 "cells": [
  {
   "cell_type": "markdown",
   "metadata": {},
   "source": [
    "# Arithmetic series\n",
    "----\n",
    "\n",
    "An arithmetic series is a sequence of numbers in which the difference between any two consecutive terms is constant. This difference is often referred to as the common difference, denoted by `d`.\n",
    "\n",
    "Additionally, the summation of an arithmetic series is given by:\n",
    "\n",
    "$$\n",
    "S_n = \\frac{n}{2} \\left(2a + (n-1)d\\right)\n",
    "$$\n",
    "\n",
    "`S_n` represents the sum of the first n terms of the arithmetic series, `a` is the first term in the series, `d` is the common difference, and `n` is the number of terms you want to sum up.\n",
    "\n",
    "The formula works by averaging the first and last term of the series, and then multiplying by the number of terms. This is equivalent to adding up all the terms in the series.\n",
    "\n",
    "For example, if you have an arithmetic series where the first term `a` is 3, the common difference `d` is 2, and you want to find the sum of the first 4 terms `n`, you would substitute these values into the formula to get:\n",
    "\n",
    "$$\n",
    "S_4 = \\frac{4}{2} \\left(2*3 + (4-1)*2\\right) = 2 * (6 + 6) = 24\n",
    "$$\n",
    "\n",
    "So, the sum of the first 4 terms of this arithmetic series is 24.\n",
    "\n",
    "This formula is very useful in mathematics and real-world applications where you need to sum up a sequence of numbers with a common difference, such as calculating cumulative savings, predicting total production over a period of time, and more. It’s a powerful tool in both theoretical calculations and practical problem solving."
   ]
  },
  {
   "cell_type": "code",
   "execution_count": 1,
   "metadata": {},
   "outputs": [
    {
     "data": {
      "application/vnd.jupyter.widget-view+json": {
       "model_id": "9a09f93d12a344c3a44fb20e15f253da",
       "version_major": 2,
       "version_minor": 0
      },
      "text/plain": [
       "interactive(children=(IntSlider(value=5, description='n:', max=20, min=1), FloatSlider(value=1.0, description=…"
      ]
     },
     "metadata": {},
     "output_type": "display_data"
    }
   ],
   "source": [
    "import matplotlib.pyplot as plt\n",
    "import numpy as np\n",
    "import ipywidgets as widgets\n",
    "from IPython.display import display\n",
    "\n",
    "# Function to calculate arithmetic series\n",
    "def arithmetic_series(n, a_1, d):\n",
    "    return n * (2 * a_1 + (n - 1) * d) / 2\n",
    "\n",
    "# Function to update plot based on slider values\n",
    "def update_plot(n, a_1, d):\n",
    "    x_vals = np.arange(1, n + 1)\n",
    "    y_vals = [arithmetic_series(i, a_1, d) for i in x_vals]\n",
    "\n",
    "    plt.figure(figsize=(8, 6))\n",
    "    plt.plot(x_vals, y_vals, marker='o', linestyle='-', color='b', label=f'Arithmetic Series')\n",
    "    plt.grid(color='gray', linestyle='--', linewidth=0.5)\n",
    "    plt.title('Arithmetic Series Plot')\n",
    "    plt.xlabel('Term (n)')\n",
    "    plt.ylabel('Sum')\n",
    "    plt.legend()\n",
    "    plt.show()\n",
    "\n",
    "# Create sliders\n",
    "n_slider = widgets.IntSlider(value=5, min=1, max=20, step=1, description='n:')\n",
    "a_1_slider = widgets.FloatSlider(value=1, min=-10, max=10, step=0.1, description='a₁:')\n",
    "d_slider = widgets.FloatSlider(value=2, min=-10, max=10, step=0.1, description='d:')\n",
    "\n",
    "# Create interactive widget\n",
    "interactive_plot_arithmetic = widgets.interactive(update_plot, n=n_slider, a_1=a_1_slider, d=d_slider)\n",
    "\n",
    "# Display the interactive plot for arithmetic series\n",
    "display(interactive_plot_arithmetic)"
   ]
  }
 ],
 "metadata": {
  "kernelspec": {
   "display_name": "base",
   "language": "python",
   "name": "python3"
  },
  "language_info": {
   "codemirror_mode": {
    "name": "ipython",
    "version": 3
   },
   "file_extension": ".py",
   "mimetype": "text/x-python",
   "name": "python",
   "nbconvert_exporter": "python",
   "pygments_lexer": "ipython3",
   "version": "3.11.5"
  }
 },
 "nbformat": 4,
 "nbformat_minor": 2
}
