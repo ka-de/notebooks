{
 "cells": [
  {
   "cell_type": "markdown",
   "metadata": {},
   "source": [
    "# Levenshtein distance and TheFuzz\n",
    "\n",
    "The Levenshtein distance, also known as the edit distance, is a way to measure how different two strings are by counting the minimum number of operations needed to transform one string into the other. These operations can be insertions, deletions, or substitutions of individual characters.\n",
    "\n",
    "Imagine you have two words, let's say \"kitten\" and \"sitting,\" and you want to find out how different they are using Levenshtein distance.\n",
    "\n",
    "Here's how it works step by step:\n",
    "\n",
    "1. First, we set up a grid, where one string is on the top (in this case \"kitten\") and the other is on the side (in this case \"sitting\"). Each cell in the grid represents a comparison between two characters, one from the top string and one from the side string.\n",
    "\n",
    "2. We start filling in the grid from the top-left corner to the bottom-right corner. At each cell, we compare the characters from the two strings. If they are the same, we don't need to do anything, and we simply copy the value from the diagonal cell above it.\n",
    "\n",
    "3. If the characters are different, we have three options:\n",
    "\n",
    "- **Insertion**: We can insert a character from the side string into the top string. This means we move to the cell above.\n",
    "- **Deletion**: We can delete a character from the top string. This means we move to the cell on the left.\n",
    "- **Substitution**: We can substitute one character with another. This means we move diagonally up and to the left.\n",
    "\n",
    "We keep filling in the grid, considering these three operations, until we reach the bottom-right corner of the grid. The number in that cell represents the Levenshtein distance between the two words. In our example, the Levenshtein distance between \"kitten\" and \"sitting\" is 3.\n",
    "\n",
    "$$\n",
    "\\operatorname{lev}(a, b) = \\begin{cases}\n",
    "  |a| & \\text{ if } |b| = 0, \\\\\n",
    "  |b| & \\text{ if } |a| = 0, \\\\\n",
    "  \\operatorname{lev}(\\text{tail}(a),\\text{tail}(b)) & \\text{ if } a[0] = b[0], \\\\\n",
    "  1 + \\min \\begin{cases}\n",
    "          \\operatorname{lev}(\\text{tail}(a), b) \\\\\n",
    "          \\operatorname{lev}(a, \\text{tail}(b)) \\\\\n",
    "          \\operatorname{lev}(\\text{tail}(a), \\text{tail}(b)) \\\\\n",
    "       \\end{cases} & \\text{ otherwise}\n",
    "\\end{cases}\n",
    "$$\n",
    "\n",
    "Here's how the formula relates to this process:\n",
    "\n",
    "* `lev(a, b)` represents the Levenshtein distance between strings `a` and `b`.\n",
    "* The formula starts by checking if either of the strings is empty (length is 0). If one of them is empty, the distance is simply the length of the other string.\n",
    "* If the first characters of the strings `a` and `b` are the same, we look at the Levenshtein distance between the remaining parts of the strings, which is calculated recursively.\n",
    "* If the first characters are different, we consider all three operations (insertion, deletion, substitution) and choose the one that minimizes the distance.\n",
    "\n",
    "In simpler terms, it's like solving a puzzle by finding the shortest path through the grid, where each cell represents a choice to either match characters, insert, delete, or substitute, and we're looking for the fewest steps to make the two strings the same."
   ]
  },
  {
   "cell_type": "code",
   "execution_count": 50,
   "metadata": {},
   "outputs": [
    {
     "name": "stdout",
     "output_type": "stream",
     "text": [
      "The Levenshtein distance between 'kitten' and 'sitting' is 3\n"
     ]
    }
   ],
   "source": [
    "def levenshtein_distance(s1, s2):\n",
    "    # Create a matrix to store the distances\n",
    "    matrix = [[0 for _ in range(len(s2) + 1)] for _ in range(len(s1) + 1)]\n",
    "\n",
    "    # Initialize the matrix\n",
    "    for i in range(len(s1) + 1):\n",
    "        matrix[i][0] = i\n",
    "    for j in range(len(s2) + 1):\n",
    "        matrix[0][j] = j\n",
    "\n",
    "    # Fill in the matrix\n",
    "    for i in range(1, len(s1) + 1):\n",
    "        for j in range(1, len(s2) + 1):\n",
    "            cost = 0 if s1[i - 1] == s2[j - 1] else 1\n",
    "            matrix[i][j] = min(\n",
    "                matrix[i - 1][j] + 1,         # Deletion\n",
    "                matrix[i][j - 1] + 1,         # Insertion\n",
    "                matrix[i - 1][j - 1] + cost  # Substitution\n",
    "            )\n",
    "\n",
    "    # The final value in the matrix is the Levenshtein distance\n",
    "    return matrix[len(s1)][len(s2)]\n",
    "\n",
    "# Example usage:\n",
    "s1 = \"kitten\"\n",
    "s2 = \"sitting\"\n",
    "distance = levenshtein_distance(s1, s2)\n",
    "print(f\"The Levenshtein distance between '{s1}' and '{s2}' is {distance}\")"
   ]
  },
  {
   "cell_type": "markdown",
   "metadata": {},
   "source": [
    "# TheFuzz\n",
    "\n",
    "String similarity and matching are common tasks in data analysis, natural language processing, and information retrieval. TheFuzz is a Python library that provides powerful tools for comparing strings and finding similar matches. In this tutorial, you will learn how to use TheFuzz to perform various string matching operations, including simple and partial ratios, token sorting and setting ratios, and partial token sorting.\n",
    "\n",
    "## Prerequisites\n",
    "\n",
    "Before we begin, make sure you have TheFuzz installed. You can install it using pip:\n",
    "\n",
    "```bash\n",
    "pip install thefuzz\n",
    "```\n",
    "\n",
    "\n",
    "\n",
    "1. **Simple Ratio**:\n",
    "\n",
    "Imagine you have a database of product names, and you want to find products that are similar to a given query, the `fuzz.ratio()` function calculates the similarity ratio between two strings using a simple comparison. It returns a value between 0 and 100, where higher values indicate greater similarity."
   ]
  },
  {
   "cell_type": "code",
   "execution_count": 51,
   "metadata": {},
   "outputs": [
    {
     "name": "stdout",
     "output_type": "stream",
     "text": [
      "The most similar product to 'Samsung Galaxy S20' is 'Samsung Galaxy S21' with a similarity ratio of 94\n"
     ]
    }
   ],
   "source": [
    "from thefuzz import fuzz\n",
    "\n",
    "# Database of product names\n",
    "products = [\"Apple iPhone 13 Pro\", \"Samsung Galaxy S21\", \"Google Pixel 6\", \"Sony Xperia 1 III\"]\n",
    "\n",
    "# User query\n",
    "user_query = \"Samsung Galaxy S20\"\n",
    "\n",
    "# Calculate similarity ratio for each product\n",
    "similarities = [(product, fuzz.ratio(user_query, product)) for product in products]\n",
    "\n",
    "# Find the most similar product\n",
    "most_similar_product = max(similarities, key=lambda x: x[1])\n",
    "\n",
    "print(f\"The most similar product to '{user_query}' is '{most_similar_product[0]}' with a similarity ratio of {most_similar_product[1]}\")"
   ]
  },
  {
   "cell_type": "markdown",
   "metadata": {},
   "source": [
    "2. **Partial Ratio**:\n",
    "\n",
    "Now, let's say you have a list of customer names, and you want to find matches for partially typed names, the `fuzz.partial_ratio()` function finds partial matches between strings, making it useful for matching against a database."
   ]
  },
  {
   "cell_type": "code",
   "execution_count": 52,
   "metadata": {},
   "outputs": [
    {
     "name": "stdout",
     "output_type": "stream",
     "text": [
      "The best match for 'Rob Jhon' is 'Robert Johnson' with a partial ratio of 62\n"
     ]
    }
   ],
   "source": [
    "from thefuzz import fuzz\n",
    "\n",
    "# List of customer names\n",
    "customer_names = [\"John Doe\", \"Jane Smith\", \"Robert Johnson\", \"Sarah Williams\"]\n",
    "\n",
    "# Partially typed customer name\n",
    "partial_name = \"Rob Jhon\"\n",
    "\n",
    "# Calculate partial ratio for each name\n",
    "similar_names = [(name, fuzz.partial_ratio(partial_name, name)) for name in customer_names]\n",
    "\n",
    "# Find the best matching name\n",
    "best_match = max(similar_names, key=lambda x: x[1])\n",
    "\n",
    "print(f\"The best match for '{partial_name}' is '{best_match[0]}' with a partial ratio of {best_match[1]}\")"
   ]
  },
  {
   "cell_type": "markdown",
   "metadata": {},
   "source": [
    "3. **Token Sort Ratio**:\n",
    "\n",
    "The `fuzz.token_sort_ratio()` function compares strings even if the words are in different orders. This is helpful for finding similar strings regardless of word arrangement."
   ]
  },
  {
   "cell_type": "code",
   "execution_count": 53,
   "metadata": {},
   "outputs": [
    {
     "name": "stdout",
     "output_type": "stream",
     "text": [
      "Token Sort Ratio: 100\n"
     ]
    }
   ],
   "source": [
    "from thefuzz import fuzz\n",
    "\n",
    "string1 = \"fuzzy wuzzy was a bear\"\n",
    "string2 = \"wuzzy fuzzy was a bear\"\n",
    "\n",
    "# Calculate token sort ratio using fuzz.token_sort_ratio\n",
    "token_sort_ratio = fuzz.token_sort_ratio(string1, string2)\n",
    "print(f\"Token Sort Ratio: {token_sort_ratio}\")\n"
   ]
  },
  {
   "cell_type": "markdown",
   "metadata": {},
   "source": [
    "4. **Token Set Ratio**:\n",
    "\n",
    "The `fuzz.token_set_ratio()` function matches strings even if they contain extra words or variations. It's ideal for flexible string matching."
   ]
  },
  {
   "cell_type": "code",
   "execution_count": 54,
   "metadata": {},
   "outputs": [
    {
     "name": "stdout",
     "output_type": "stream",
     "text": [
      "Token Set Ratio: 100\n"
     ]
    }
   ],
   "source": [
    "from thefuzz import fuzz\n",
    "\n",
    "string1 = \"fuzzy was a bear\"\n",
    "string2 = \"fuzzy fuzzy was a bear\"\n",
    "\n",
    "# Calculate token set ratio using fuzz.token_set_ratio\n",
    "token_set_ratio = fuzz.token_set_ratio(string1, string2)\n",
    "print(f\"Token Set Ratio: {token_set_ratio}\")"
   ]
  },
  {
   "cell_type": "markdown",
   "metadata": {},
   "source": [
    "5. **Partial Token Sort Ratio**:\n",
    "\n",
    "The `fuzz.partial_token_sort_ratio()` function partially matches strings with word order flexibility."
   ]
  },
  {
   "cell_type": "code",
   "execution_count": 55,
   "metadata": {},
   "outputs": [
    {
     "name": "stdout",
     "output_type": "stream",
     "text": [
      "Partial Token Sort Ratio: 100\n"
     ]
    }
   ],
   "source": [
    "from thefuzz import fuzz\n",
    "\n",
    "string1 = \"fuzzy was a bear\"\n",
    "string2 = \"wuzzy fuzzy was a bear\"\n",
    "\n",
    "# Calculate partial token sort ratio using fuzz.partial_token_sort_ratio\n",
    "partial_token_sort_ratio = fuzz.partial_token_sort_ratio(string1, string2)\n",
    "print(f\"Partial Token Sort Ratio: {partial_token_sort_ratio}\")"
   ]
  },
  {
   "cell_type": "markdown",
   "metadata": {},
   "source": [
    "6. **Process Module**:\n",
    "\n",
    "The `process` module allows you to extract top matches from a list of choices or find the best matching item."
   ]
  },
  {
   "cell_type": "code",
   "execution_count": 56,
   "metadata": {},
   "outputs": [
    {
     "name": "stdout",
     "output_type": "stream",
     "text": [
      "Top Matches: [('New York Jets', 100), ('New York Giants', 79)]\n",
      "Best Match: ('Dallas Cowboys', 90)\n"
     ]
    }
   ],
   "source": [
    "from thefuzz import process\n",
    "\n",
    "choices = [\"Atlanta Falcons\", \"New York Jets\", \"New York Giants\", \"Dallas Cowboys\"]\n",
    "\n",
    "# Extract top matches using process.extract\n",
    "top_matches = process.extract(\"new york jets\", choices, limit=2)\n",
    "print(\"Top Matches:\", top_matches)\n",
    "\n",
    "# Extract a single best match using process.extractOne\n",
    "best_match = process.extractOne(\"cowboys\", choices)\n",
    "print(\"Best Match:\", best_match)"
   ]
  }
 ],
 "metadata": {
  "kernelspec": {
   "display_name": "Python 3",
   "language": "python",
   "name": "python3"
  },
  "language_info": {
   "codemirror_mode": {
    "name": "ipython",
    "version": 3
   },
   "file_extension": ".py",
   "mimetype": "text/x-python",
   "name": "python",
   "nbconvert_exporter": "python",
   "pygments_lexer": "ipython3",
   "version": "3.11.4"
  },
  "orig_nbformat": 4
 },
 "nbformat": 4,
 "nbformat_minor": 2
}
