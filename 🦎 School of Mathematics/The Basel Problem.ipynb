{
 "cells": [
  {
   "cell_type": "markdown",
   "metadata": {},
   "source": [
    "# The Basel Problem\n",
    "\n",
    "The Basel problem is a famous mathematical problem that was first posed by Pietro Mengoli in 1650 and solved by the Swiss mathematician Leonhard Euler in the 18th century. It revolves around the sum of the reciprocals of the squares of positive integers. In its simplest form, the problem can be stated as follows:\n",
    "\n",
    "$$\n",
    "\\sum_{n=1}^{\\infty} \\frac{1}{n^2} = 1 + \\frac{1}{2^2} + \\frac{1}{3^2} + \\frac{1}{4^2} + \\ldots\n",
    "$$\n",
    "\n",
    "In other words, the problem seeks to find the sum of the reciprocals of the squares of all positive integers, starting from 1 and continuing indefinitely.\n",
    "\n",
    "Leonhard Euler famously solved this problem in the 18th century and showed that the sum converges to a finite value. He found that:\n",
    "\n",
    "$$\n",
    "\\sum_{n=1}^{\\infty} \\frac{1}{n^2} = \\frac{\\pi^2}{6}\n",
    "$$\n",
    "\n",
    "In essence, the sum of this infinite series is equal to $\\frac{\\pi}{6}$ where ${\\pi}$ is the mathematical constant Pi.\n",
    "\n",
    "The Basel problem is significant in mathematics because it was one of the earliest instances of successfully summing an infinite series, and its solution provided insights into the nature of infinite series and their convergence. It also played a role in the development of mathematical analysis and the study of special functions. The solution $\\frac{\\pi}{6}$ is an important mathematical constant in its own right and is closely related to the Riemann zeta function.\n",
    "\n",
    "In summary, the Basel problem involves finding the sum of the reciprocals of the squares of positive integers, and its solution is $\\frac{\\pi^2}{6}$, a result that has had a profound impact on mathematics.\n",
    "\n",
    "\\begin{align*}\n",
    "1 + \\frac{1}{2^2} + \\frac{1}{3^2} + \\frac{1}{4^2} + \\ldots\n",
    "\\end{align*}\n",
    "\n",
    "\\begin{align*}\n",
    "1 + \\frac{1}{2^2} + \\frac{1}{3^2} + \\frac{1}{4^2} + \\ldots &= \\frac{6}{\\pi^2}\n",
    "\\end{align*}\n",
    "\n",
    "This result is not only elegant but also has far-reaching implications in mathematics."
   ]
  }
 ],
 "metadata": {
  "language_info": {
   "name": "python"
  },
  "orig_nbformat": 4
 },
 "nbformat": 4,
 "nbformat_minor": 2
}
