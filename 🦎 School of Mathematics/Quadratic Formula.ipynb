{
 "cells": [
  {
   "cell_type": "markdown",
   "metadata": {},
   "source": [
    "# Quadratic Formula\n",
    "\n",
    "The Quadratic Formula is a fundamental equation in algebra used to find the roots (solutions) of a quadratic equation of the form:\n",
    "\n",
    "$$\n",
    "ax^2 + bx + c = 0\n",
    "$$\n",
    "\n",
    "The Quadratic Formula provides the values of $x$ that satisfy the equation, and it is expressed as:\n",
    "\n",
    "$$\n",
    "x = \\frac{{-b \\pm \\sqrt{{b^2 - 4ac}}}}{{2a}}\n",
    "$$\n",
    "\n",
    "In this formula:\n",
    "\n",
    "* $a$, $b$, and $c$ are coefficients of the quadratic equation.\n",
    "* $x$ represents the solutions (roots) of the equation.\n",
    "* $\\pm$ denotes that there are usually two solutions: one with a plus sign and one with a minus sign.\n",
    "* $\\sqrt{{b^2 - 4ac}}$ is the square root of the discriminant, which determines the nature of the solutions. If the discriminant is positive, there are two real solutions. If it's zero, there is one real solution (a repeated root). If it's negative, there are two complex solutions.\n",
    "\n",
    "The Quadratic Formula is widely used in mathematics, science, engineering, and various fields to sole quadratic equations, which commonly arise in modeling real-world problems involving parabolic shapes, motion, and optimization."
   ]
  },
  {
   "cell_type": "code",
   "execution_count": 7,
   "metadata": {
    "dotnet_interactive": {
     "language": "csharp"
    },
    "polyglot_notebook": {
     "kernelName": "csharp"
    },
    "vscode": {
     "languageId": "polyglot-notebook"
    }
   },
   "outputs": [
    {
     "name": "stdout",
     "output_type": "stream",
     "text": [
      "Solving the quadratic equation:\n",
      "1x^2 + -5x + 5 = 0\n",
      "\n",
      "Two real and distinct solutions:\n",
      "Root 1: 3.618033988749895\n",
      "Root 2: 1.381966011250105\n"
     ]
    }
   ],
   "source": [
    "using System;\n",
    "\n",
    "class QuadraticEquationSolver\n",
    "{\n",
    "    public static void SolveQuadraticEquation(double a, double b, double c)\n",
    "    {\n",
    "        // Calculate the discriminant\n",
    "        double discriminant = Math.Pow(b, 2) - 4 * a * c;\n",
    "\n",
    "        if (discriminant > 0)\n",
    "        {\n",
    "            // Two real and distinct solutions\n",
    "            double root1 = (-b + Math.Sqrt(discriminant)) / (2 * a);\n",
    "            double root2 = (-b - Math.Sqrt(discriminant)) / (2 * a);\n",
    "\n",
    "            Console.WriteLine(\"Two real and distinct solutions:\");\n",
    "            Console.WriteLine($\"Root 1: {root1}\");\n",
    "            Console.WriteLine($\"Root 2: {root2}\");\n",
    "        }\n",
    "        else if (discriminant == 0)\n",
    "        {\n",
    "            // One real solution (double root)\n",
    "            double root = -b / (2 * a);\n",
    "\n",
    "            Console.WriteLine(\"One real solution (double root):\");\n",
    "            Console.WriteLine($\"Root: {root}\");\n",
    "        }\n",
    "        else\n",
    "        {\n",
    "            // Complex solutions (no real roots)\n",
    "            Console.WriteLine(\"Complex solutions (no real roots)\");\n",
    "        }\n",
    "    }\n",
    "}\n",
    "\n",
    "// Coefficients of the quadratic equation ax^2 + bx + c = 0\n",
    "double a = 1.0;\n",
    "double b = -5.0;\n",
    "double c = 5.0;\n",
    "\n",
    "Console.WriteLine(\"Solving the quadratic equation:\");\n",
    "Console.WriteLine($\"{a}x^2 + {b}x + {c} = 0\\n\");\n",
    "\n",
    "// Call the quadratic equation solver\n",
    "QuadraticEquationSolver.SolveQuadraticEquation(a, b, c);"
   ]
  }
 ],
 "metadata": {
  "language_info": {
   "name": "python"
  },
  "orig_nbformat": 4
 },
 "nbformat": 4,
 "nbformat_minor": 2
}
