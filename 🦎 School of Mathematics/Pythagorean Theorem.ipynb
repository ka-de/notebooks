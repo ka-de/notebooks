{
 "cells": [
  {
   "cell_type": "markdown",
   "metadata": {},
   "source": [
    "# Pythagorean Theorem\n",
    "\n",
    "The Pythagorean theorem is a fundamental principle in geometry that relates the lengths of the sides of a right triangle. It states that in a right triangle, the square of the length of the hypotenuse ($c$) is equal to the sum of the squares of the lengths of the other two sides ($a$ and $b$).\n",
    "\n",
    "Mathematically, the Pythagorean theorem can be expressed as:\n",
    "\n",
    "$$\n",
    "c^2 = a^2 + b^2\n",
    "$$\n",
    "\n",
    "- $c$: The length of the hypotenuse (the side opposite the right angle).\n",
    "- $a$: The length of one of the other two sides.\n",
    "- $b$: The length of the remaining side.\n",
    "\n",
    "In other words, it tells us that the square of the length of the hypotenuse is equal to the sum of the squares of the other two sides. This theorem has wide applications in geometry and trigonometry, enabling the calculation of side lengths and angles in right triangles.\n",
    "\n",
    "In code, this theorem can be represented as follows:\n",
    "\n",
    "## C#"
   ]
  },
  {
   "cell_type": "code",
   "execution_count": 11,
   "metadata": {
    "dotnet_interactive": {
     "language": "csharp"
    },
    "polyglot_notebook": {
     "kernelName": "csharp"
    },
    "vscode": {
     "languageId": "polyglot-notebook"
    }
   },
   "outputs": [
    {
     "name": "stdout",
     "output_type": "stream",
     "text": [
      "The length of the hypotenuse is 5\r\n"
     ]
    }
   ],
   "source": [
    "// Given side lengths\n",
    "double a = 3;\n",
    "double b = 4;\n",
    "\n",
    "// Calculate the length of the hypotenuse (c)\n",
    "double c = Math.Sqrt(Math.Pow(a, 2) + Math.Pow(b, 2));\n",
    "\n",
    "// Print the result without a new line\n",
    "Console.WriteLine($\"The length of the hypotenuse is {c}\");"
   ]
  },
  {
   "cell_type": "markdown",
   "metadata": {},
   "source": [
    "## JavaScript"
   ]
  },
  {
   "cell_type": "code",
   "execution_count": 1,
   "metadata": {
    "dotnet_interactive": {
     "language": "javascript"
    },
    "polyglot_notebook": {
     "kernelName": "javascript"
    },
    "vscode": {
     "languageId": "polyglot-notebook"
    }
   },
   "outputs": [
    {
     "data": {
      "text/plain": [
       "The length of the hypotenuse is 5"
      ]
     },
     "metadata": {},
     "output_type": "display_data"
    }
   ],
   "source": [
    "// Pythagorean Theorem in JavaScript\n",
    "\n",
    "// Given side lengths\n",
    "const a = 3;\n",
    "const b = 4;\n",
    "\n",
    "// Calculate the length of the hypotenuse (c)\n",
    "const c = Math.sqrt(Math.pow(a, 2) + Math.pow(b, 2));\n",
    "\n",
    "// Display the result\n",
    "console.log(`The length of the hypotenuse is ${c}`);"
   ]
  },
  {
   "cell_type": "markdown",
   "metadata": {},
   "source": [
    "## F#"
   ]
  },
  {
   "cell_type": "code",
   "execution_count": 13,
   "metadata": {
    "dotnet_interactive": {
     "language": "fsharp"
    },
    "polyglot_notebook": {
     "kernelName": "fsharp"
    },
    "vscode": {
     "languageId": "polyglot-notebook"
    }
   },
   "outputs": [
    {
     "name": "stdout",
     "output_type": "stream",
     "text": [
      "The length of the hypotenuse is 5.000000\n"
     ]
    }
   ],
   "source": [
    "open System\n",
    "\n",
    "// Define a function to calculate the hypotenuse\n",
    "let calculateHypotenuse a b =\n",
    "    let c = sqrt (a ** 2.0 + b ** 2.0)\n",
    "    c\n",
    "\n",
    "// Given side lengths\n",
    "let a = 3.0\n",
    "let b = 4.0\n",
    "\n",
    "// Calculate the length of the hypotenuse (c)\n",
    "let c = calculateHypotenuse a b\n",
    "\n",
    "// Display the result\n",
    "printfn \"The length of the hypotenuse is %f\" c"
   ]
  },
  {
   "cell_type": "markdown",
   "metadata": {},
   "source": [
    "## PowerShell"
   ]
  },
  {
   "cell_type": "code",
   "execution_count": 14,
   "metadata": {
    "dotnet_interactive": {
     "language": "pwsh"
    },
    "polyglot_notebook": {
     "kernelName": "pwsh"
    },
    "vscode": {
     "languageId": "polyglot-notebook"
    }
   },
   "outputs": [
    {
     "name": "stdout",
     "output_type": "stream",
     "text": [
      "The length of the hypotenuse is 5\r\n"
     ]
    }
   ],
   "source": [
    "# Pythagorean Theorem in PowerShell\n",
    "\n",
    "# Given side lengths\n",
    "$a = 3\n",
    "$b = 4\n",
    "\n",
    "# Calculate the length of the hypotenuse (c)\n",
    "$c = [Math]::Sqrt($a * $a + $b * $b)\n",
    "\n",
    "# Display the result\n",
    "Write-Host \"The length of the hypotenuse is $c\""
   ]
  },
  {
   "cell_type": "markdown",
   "metadata": {
    "notebookRunGroups": {
     "groupValue": "1"
    }
   },
   "source": [
    "\n",
    "> Feel free to replace the values of `a` and `b` with your specific triangle's side lengths to compute the hypotenuse."
   ]
  }
 ],
 "metadata": {
  "language_info": {
   "name": "python"
  },
  "orig_nbformat": 4
 },
 "nbformat": 4,
 "nbformat_minor": 2
}
