{
 "cells": [
  {
   "cell_type": "markdown",
   "metadata": {},
   "source": [
    "# Brownian interval\n",
    "\n",
    "Imagine you are taking a walk in a park. Sometimes, you take small steps forward, and other times, you take small steps backward. These steps are not predictable, and they happen randomly. The Brownian interval is like measuring the distance you travel during a certain amount of time while taking these random steps.\n",
    "\n",
    "Mathematically, it's related to a concept called a \"Brownian motion\" or \"random walk\". It's used in probability theory to model how things move randomly over time.\n",
    "\n",
    "$$\n",
    "\\Delta X(t) = X(t + \\Delta t) - X(t)\n",
    "$$\n",
    "\n",
    "- ΔX(t): This represents the change in position (distance) between two points in time.\n",
    "- X(t): This is the position (distance) at time *t*.\n",
    "- X(t+Δt): This is the position (distance) at a later time *t + Δt*.\n",
    "\n",
    "In simpler terms, it's like saying: \"The change in where you are at one time compared to where you'll be later.\"\n",
    "\n",
    "This formula helps mathematicians and scientists understand how things move randomly or unpredictably over time, which can be applied to various fields such as physics, finance, and more."
   ]
  }
 ],
 "metadata": {
  "kernelspec": {
   "display_name": "base",
   "language": "python",
   "name": "python3"
  },
  "language_info": {
   "codemirror_mode": {
    "name": "ipython",
    "version": 3
   },
   "file_extension": ".py",
   "mimetype": "text/x-python",
   "name": "python",
   "nbconvert_exporter": "python",
   "pygments_lexer": "ipython3",
   "version": "3.11.4"
  },
  "orig_nbformat": 4
 },
 "nbformat": 4,
 "nbformat_minor": 2
}
