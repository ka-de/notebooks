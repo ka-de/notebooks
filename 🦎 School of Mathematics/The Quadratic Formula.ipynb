{
 "cells": [
  {
   "cell_type": "markdown",
   "metadata": {},
   "source": [
    "# The quadratic formula\n",
    "----\n",
    "\n",
    "The quadratic formula is a solution for the quadratic equation, which is a type of polynomial equation of the second degree. The general form of a quadratic equation is:\n",
    "\n",
    "$$\n",
    "ax^2 + bx + c = 0\n",
    "$$\n",
    "\n",
    "where `a`, `b`, and `c` are constants, and `x` is the variable we want to solve for. The quadratic formula provides a solution:\n",
    "\n",
    "$$\n",
    "x = \\frac{{-b \\pm \\sqrt{{b^2-4ac}}}}{{2a}}\n",
    "$$\n",
    "\n",
    "The quadratic formula is used to find the values of x that satisfy the quadratic equation. These values are also known as the roots or zeros of the equation. The term under the square root, b^2 - 4ac, is called the discriminant and it determines the nature of the roots. If the discriminant is positive, the equation has two distinct real roots. If it’s zero, the equation has exactly one real root. And if it’s negative, the equation has two complex roots.\n",
    "\n",
    "Quadratic equations and the quadratic formula have wide applications in various fields including physics, engineering, and economics. They can model a variety of real-world situations such as projectile motion, product pricing, area calculations, and more. For example, in physics, the motion of an object under the force of gravity follows a path described by a quadratic equation. So, the quadratic formula is a powerful tool in both theoretical calculations and practical problem solving."
   ]
  },
  {
   "cell_type": "code",
   "execution_count": 1,
   "metadata": {},
   "outputs": [
    {
     "data": {
      "application/vnd.jupyter.widget-view+json": {
       "model_id": "dd573ac151ec4612869348301a467ec5",
       "version_major": 2,
       "version_minor": 0
      },
      "text/plain": [
       "interactive(children=(FloatSlider(value=1.0, description='a:', max=10.0, min=-10.0), FloatSlider(value=-3.0, d…"
      ]
     },
     "metadata": {},
     "output_type": "display_data"
    }
   ],
   "source": [
    "import matplotlib.pyplot as plt\n",
    "import numpy as np\n",
    "import ipywidgets as widgets\n",
    "from IPython.display import display\n",
    "\n",
    "# Function to calculate quadratic expression\n",
    "def quadratic_formula(a, b, c, x):\n",
    "    return a*x**2 + b*x + c\n",
    "\n",
    "# Function to update plot based on slider values\n",
    "def update_plot(a, b, c):\n",
    "    x_vals = np.linspace(-10, 10, 100)\n",
    "    y_vals = quadratic_formula(a, b, c, x_vals)\n",
    "\n",
    "    plt.figure(figsize=(8, 6))\n",
    "    plt.plot(x_vals, y_vals, label=f'{a}x² + {b}x + {c}')\n",
    "    plt.axhline(0, color='black',linewidth=0.5)\n",
    "    plt.axvline(0, color='black',linewidth=0.5)\n",
    "    plt.grid(color = 'gray', linestyle = '--', linewidth = 0.5)\n",
    "    plt.title('Quadratic Formula Plot')\n",
    "    plt.xlabel('x')\n",
    "    plt.ylabel('y')\n",
    "    plt.legend()\n",
    "    plt.show()\n",
    "\n",
    "# Create sliders\n",
    "a_slider = widgets.FloatSlider(value=1, min=-10, max=10, step=0.1, description='a:')\n",
    "b_slider = widgets.FloatSlider(value=-3, min=-10, max=10, step=0.1, description='b:')\n",
    "c_slider = widgets.FloatSlider(value=2, min=-10, max=10, step=0.1, description='c:')\n",
    "\n",
    "# Create interactive widget\n",
    "interactive_plot = widgets.interactive(update_plot, a=a_slider, b=b_slider, c=c_slider)\n",
    "\n",
    "# Display the interactive plot\n",
    "display(interactive_plot)"
   ]
  },
  {
   "cell_type": "code",
   "execution_count": 1,
   "metadata": {},
   "outputs": [
    {
     "name": "stdout",
     "output_type": "stream",
     "text": [
      "Real roots are: 2.0 and 1.0\n"
     ]
    }
   ],
   "source": [
    "# Quadratic Formula Demonstration\n",
    "\n",
    "# Constants\n",
    "a = 1\n",
    "b = -3\n",
    "c = 2\n",
    "\n",
    "# Calculate discriminant\n",
    "discriminant = b**2 - 4*a*c\n",
    "\n",
    "# Check if roots are real\n",
    "if discriminant >= 0:\n",
    "    # Calculate real roots\n",
    "    root1 = (-b + (discriminant)**0.5) / (2*a)\n",
    "    root2 = (-b - (discriminant)**0.5) / (2*a)\n",
    "\n",
    "    # Display roots\n",
    "    print(f\"Real roots are: {root1} and {root2}\")\n",
    "else:\n",
    "    # Calculate complex roots\n",
    "    real_part = -b / (2*a)\n",
    "    imaginary_part = ((abs(discriminant))**0.5) / (2*a)\n",
    "\n",
    "    # Display complex roots\n",
    "    print(f\"Complex roots are: {real_part} + {imaginary_part}j and {real_part} - {imaginary_part}j\")\n"
   ]
  }
 ],
 "metadata": {
  "kernelspec": {
   "display_name": "base",
   "language": "python",
   "name": "python3"
  },
  "language_info": {
   "codemirror_mode": {
    "name": "ipython",
    "version": 3
   },
   "file_extension": ".py",
   "mimetype": "text/x-python",
   "name": "python",
   "nbconvert_exporter": "python",
   "pygments_lexer": "ipython3",
   "version": "3.11.5"
  }
 },
 "nbformat": 4,
 "nbformat_minor": 2
}
