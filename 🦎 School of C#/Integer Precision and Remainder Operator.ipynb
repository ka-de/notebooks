{
 "cells": [
  {
   "cell_type": "markdown",
   "metadata": {},
   "source": [
    "# Integer Precision and Remainder Operator\n",
    "\n",
    "When performing math with integers in C#, the result is always an integer, and any fractional part is truncated. The remainder operator `%` can be used to find the remainder in a division operation.\n",
    "\n",
    "Example:"
   ]
  },
  {
   "cell_type": "code",
   "execution_count": 1,
   "metadata": {
    "dotnet_interactive": {
     "language": "csharp"
    },
    "polyglot_notebook": {
     "kernelName": "csharp"
    },
    "vscode": {
     "languageId": "polyglot-notebook"
    }
   },
   "outputs": [
    {
     "name": "stdout",
     "output_type": "stream",
     "text": [
      "quotient: 3\n",
      "remainder: 2\n"
     ]
    }
   ],
   "source": [
    "int a = 7;\n",
    "int b = 4;\n",
    "int c = 3;\n",
    "int d = (a + b) / c;\n",
    "int e = (a + b) % c;\n",
    "Console.WriteLine($\"quotient: {d}\");\n",
    "Console.WriteLine($\"remainder: {e}\");"
   ]
  },
  {
   "cell_type": "markdown",
   "metadata": {},
   "source": [
    "Here, `d` represents the quotient of the division, and `e` represents the remainder. In this case, 11 divided by 3 equals 3 with a remainder of 2.\n",
    "\n",
    "## Minimum and Maximum Integer Size\n",
    "\n",
    "Integers in C# have a range from `int.MinValue` to `int.MaxValue`. If you exceed this range, it can result in overflow.\n",
    "\n",
    "Example:"
   ]
  },
  {
   "cell_type": "code",
   "execution_count": 2,
   "metadata": {
    "dotnet_interactive": {
     "language": "csharp"
    },
    "polyglot_notebook": {
     "kernelName": "csharp"
    },
    "vscode": {
     "languageId": "polyglot-notebook"
    }
   },
   "outputs": [
    {
     "name": "stdout",
     "output_type": "stream",
     "text": [
      "The range of integers is -2147483648 to 2147483647\n",
      "An example of overflow: -2147483646\n"
     ]
    }
   ],
   "source": [
    "int max = int.MaxValue;\n",
    "int min = int.MinValue;\n",
    "Console.WriteLine($\"The range of integers is {min} to {max}\");\n",
    "\n",
    "int what = max + 3; // Overflow occurs here\n",
    "Console.WriteLine($\"An example of overflow: {what}\");"
   ]
  },
  {
   "cell_type": "markdown",
   "metadata": {},
   "source": [
    "Overflow occurs when you try to go beyond the maximum value, and it wraps around to the minimum value.\n",
    "\n",
    "## Doubles: Precision and Size\n",
    "\n",
    "Doubles are a data type that can hold floating-point numbers with a larger range and decimal precision compared to integers.\n",
    "\n",
    "Example:"
   ]
  },
  {
   "cell_type": "code",
   "execution_count": 3,
   "metadata": {
    "dotnet_interactive": {
     "language": "csharp"
    },
    "polyglot_notebook": {
     "kernelName": "csharp"
    },
    "vscode": {
     "languageId": "polyglot-notebook"
    }
   },
   "outputs": [
    {
     "name": "stdout",
     "output_type": "stream",
     "text": [
      "3.6666666666666665\n",
      "The range of doubles is -1.7976931348623157E+308 to 1.7976931348623157E+308\n"
     ]
    }
   ],
   "source": [
    "double a = 7;\n",
    "double b = 4;\n",
    "double c = 3;\n",
    "double d = (a + b) / c;\n",
    "Console.WriteLine(d);\n",
    "\n",
    "double max = double.MaxValue;\n",
    "double min = double.MinValue;\n",
    "Console.WriteLine($\"The range of doubles is {min} to {max}\");"
   ]
  },
  {
   "cell_type": "markdown",
   "metadata": {},
   "source": [
    "Doubles can handle decimal fractions and have a much larger range compared to integers.\n",
    "\n",
    "## Rounding Errors with Doubles"
   ]
  },
  {
   "cell_type": "code",
   "execution_count": 5,
   "metadata": {
    "dotnet_interactive": {
     "language": "csharp"
    },
    "polyglot_notebook": {
     "kernelName": "csharp"
    },
    "vscode": {
     "languageId": "polyglot-notebook"
    }
   },
   "outputs": [
    {
     "name": "stdout",
     "output_type": "stream",
     "text": [
      "Expected result: 1.0\n",
      "Actual result: 0.9999999999999999\n"
     ]
    }
   ],
   "source": [
    "double smallNumber = 0.1;\n",
    "double sum = 0.0;\n",
    "\n",
    "for (int i = 0; i < 10; i++)\n",
    "{\n",
    "    sum += smallNumber;\n",
    "}\n",
    "\n",
    "Console.WriteLine($\"Expected result: 1.0\");\n",
    "Console.WriteLine($\"Actual result: {sum}\");"
   ]
  },
  {
   "cell_type": "markdown",
   "metadata": {},
   "source": [
    "In this code, we have a smallNumber (0.1) that we add to the sum ten times. The expected result is 1.0 because 0.1 added ten times should be 1.0. \n",
    "\n",
    "When you run this code, you may see that the actual result is very close to 1.0 but not exactly 1.0, illustrating the rounding errors associated with double precision arithmetic.\n",
    "\n",
    "Feel free to run the provided code examples and experiment with values. "
   ]
  }
 ],
 "metadata": {
  "language_info": {
   "name": "python"
  },
  "orig_nbformat": 4
 },
 "nbformat": 4,
 "nbformat_minor": 2
}
