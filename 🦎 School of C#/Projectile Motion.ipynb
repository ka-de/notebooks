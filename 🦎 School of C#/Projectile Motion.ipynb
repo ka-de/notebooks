{
 "cells": [
  {
   "cell_type": "markdown",
   "metadata": {},
   "source": [
    "# Projectile Motion"
   ]
  },
  {
   "cell_type": "code",
   "execution_count": 1,
   "metadata": {
    "dotnet_interactive": {
     "language": "csharp"
    },
    "polyglot_notebook": {
     "kernelName": "csharp"
    },
    "vscode": {
     "languageId": "csharp"
    }
   },
   "outputs": [
    {
     "name": "stdout",
     "output_type": "stream",
     "text": [
      "Projectile Motion Simulation\n",
      "--------------------------------------------------\n",
      "Parameter           | Value\n",
      "--------------------------------------------------\n",
      "Initial Speed       | 10 units/second\n",
      "Launch Angle        | 45 degrees\n",
      "Time of Flight      | 1.4416040391163047 seconds\n",
      "Horizontal Range    | 10.19367991845056 units\n",
      "Maximum Height      | 2.5484199796126403 units\n",
      "--------------------------------------------------\n"
     ]
    }
   ],
   "source": [
    "using System;\n",
    "\n",
    "class ProjectileMotion\n",
    "{\n",
    "\tpublic static void CalculateProjectileMotion()\n",
    "\t{\n",
    "\t\t// Constants\n",
    "\t\tdouble initialSpeed = 10.0; // Initial speed in units per second\n",
    "\t\tdouble launchAngleDegrees = 45.0; // Launch angle in degrees\n",
    "\t\tdouble gravity = 9.81; // Acceleration due to gravity in units per second squared\n",
    "\n",
    "\t\t// Convert launch angle to radians\n",
    "\t\tdouble launchAngleRadians = Math.PI * launchAngleDegrees / 180.0;\n",
    "\n",
    "\t\t// Calculate initial velocity components\n",
    "\t\tdouble initialVelocityX = initialSpeed * Math.Cos(launchAngleRadians);\n",
    "\t\tdouble initialVelocityY = initialSpeed * Math.Sin(launchAngleRadians);\n",
    "\n",
    "\t\t// Calculate time of flight\n",
    "\t\tdouble timeOfFlight = (2.0 * initialVelocityY) / gravity;\n",
    "\n",
    "\t\t// Calculate horizontal range\n",
    "\t\tdouble horizontalRange = initialVelocityX * timeOfFlight;\n",
    "\n",
    "\t\t// Calculate maximum height\n",
    "\t\tdouble maxHeight = (Math.Pow(initialVelocityY, 2)) / (2.0 * gravity);\n",
    "\n",
    "\t\t// Display the results as a table\n",
    "\t\tConsole.WriteLine(\"Projectile Motion Simulation\");\n",
    "\t\tConsole.WriteLine(\"--------------------------------------------------\");\n",
    "\t\tConsole.WriteLine($\"Parameter           | Value\");\n",
    "\t\tConsole.WriteLine(\"--------------------------------------------------\");\n",
    "\t\tConsole.WriteLine($\"Initial Speed       | {initialSpeed} units/second\");\n",
    "\t\tConsole.WriteLine($\"Launch Angle        | {launchAngleDegrees} degrees\");\n",
    "\t\tConsole.WriteLine($\"Time of Flight      | {timeOfFlight} seconds\");\n",
    "\t\tConsole.WriteLine($\"Horizontal Range    | {horizontalRange} units\");\n",
    "\t\tConsole.WriteLine($\"Maximum Height      | {maxHeight} units\");\n",
    "\t\tConsole.WriteLine(\"--------------------------------------------------\");\n",
    "\t}\n",
    "}\n",
    "\n",
    "// Call the method to calculate and display the results\n",
    "ProjectileMotion.CalculateProjectileMotion();"
   ]
  }
 ],
 "metadata": {
  "language_info": {
   "name": "python"
  },
  "orig_nbformat": 4
 },
 "nbformat": 4,
 "nbformat_minor": 2
}
