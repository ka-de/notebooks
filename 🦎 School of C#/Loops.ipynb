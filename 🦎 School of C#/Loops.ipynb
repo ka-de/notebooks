{
 "cells": [
  {
   "cell_type": "markdown",
   "metadata": {},
   "source": [
    "# Loops\n",
    "\n",
    "Loops in programming allow you to repeat actions multiple times. In C#, you can use different types of loops, such as `while`, `do-while`, and `for`, to achieve this.\n",
    "\n",
    "## while Loop\n",
    "\n",
    "A `while` loop repeatedly executes a block of code as long as a specified condition is true. Here's an example:"
   ]
  },
  {
   "cell_type": "code",
   "execution_count": 1,
   "metadata": {
    "dotnet_interactive": {
     "language": "csharp"
    },
    "polyglot_notebook": {
     "kernelName": "csharp"
    },
    "vscode": {
     "languageId": "polyglot-notebook"
    }
   },
   "outputs": [
    {
     "name": "stdout",
     "output_type": "stream",
     "text": [
      "Hello World! The counter is 0\n",
      "Hello World! The counter is 1\n",
      "Hello World! The counter is 2\n",
      "Hello World! The counter is 3\n",
      "Hello World! The counter is 4\n",
      "Hello World! The counter is 5\n",
      "Hello World! The counter is 6\n",
      "Hello World! The counter is 7\n",
      "Hello World! The counter is 8\n",
      "Hello World! The counter is 9\n"
     ]
    }
   ],
   "source": [
    "int counter = 0;\n",
    "while (counter < 10)\n",
    "{\n",
    "    Console.WriteLine($\"Hello World! The counter is {counter}\");\n",
    "    counter++;\n",
    "}"
   ]
  },
  {
   "cell_type": "markdown",
   "metadata": {},
   "source": [
    "In this code, the `while` loop checks if the condition `counter < 10` is true. If it is, it enters the loop and executes the code block. After each iteration, the `counter` is incremented by 1. The loop continues until the condition becomes false.\n",
    "\n",
    "## ++ and -- Operators\n",
    "\n",
    "The `++` operator is used to increment a variable by one, while the `--` operator is used to decrement it by one. For example:"
   ]
  },
  {
   "cell_type": "code",
   "execution_count": 2,
   "metadata": {
    "dotnet_interactive": {
     "language": "csharp"
    },
    "polyglot_notebook": {
     "kernelName": "csharp"
    },
    "vscode": {
     "languageId": "polyglot-notebook"
    }
   },
   "outputs": [],
   "source": [
    "int counter = 0;\n",
    "counter++; // Increment counter by 1\n",
    "counter--; // Decrement counter by 1"
   ]
  },
  {
   "cell_type": "markdown",
   "metadata": {},
   "source": [
    "## Infinite Loops\n",
    "\n",
    "It's possible to create infinite loops unintentionally. An infinite loop is a loop that never exits on its own. To escape from an infinite loop, you can manually terminate your program or use a keyboard shortcut like CTRL+C.\n",
    "\n",
    "## do-while Loop\n",
    "\n",
    "The `do-while` loop is similar to the `while` loop but with a subtle difference. In a `do-while` loop, the code block is executed first, and then the condition is checked. This guarantees that the code block runs at least once, even if the condition is initially false."
   ]
  },
  {
   "cell_type": "code",
   "execution_count": 3,
   "metadata": {
    "dotnet_interactive": {
     "language": "csharp"
    },
    "polyglot_notebook": {
     "kernelName": "csharp"
    },
    "vscode": {
     "languageId": "polyglot-notebook"
    }
   },
   "outputs": [
    {
     "name": "stdout",
     "output_type": "stream",
     "text": [
      "Hello World! The counter is 0\n",
      "Hello World! The counter is 1\n",
      "Hello World! The counter is 2\n",
      "Hello World! The counter is 3\n",
      "Hello World! The counter is 4\n",
      "Hello World! The counter is 5\n",
      "Hello World! The counter is 6\n",
      "Hello World! The counter is 7\n",
      "Hello World! The counter is 8\n",
      "Hello World! The counter is 9\n"
     ]
    }
   ],
   "source": [
    "int counter = 0;\n",
    "do\n",
    "{\n",
    "    Console.WriteLine($\"Hello World! The counter is {counter}\");\n",
    "    counter++;\n",
    "} while (counter < 10);"
   ]
  },
  {
   "cell_type": "markdown",
   "metadata": {},
   "source": [
    "# for Loop\n",
    "\n",
    "The `for` loop is a commonly used loop in C#. It allows you to specify the start point, end point, and step size within the loop declaration itself. Here's an example:"
   ]
  },
  {
   "cell_type": "code",
   "execution_count": 4,
   "metadata": {
    "dotnet_interactive": {
     "language": "csharp"
    },
    "polyglot_notebook": {
     "kernelName": "csharp"
    },
    "vscode": {
     "languageId": "polyglot-notebook"
    }
   },
   "outputs": [
    {
     "name": "stdout",
     "output_type": "stream",
     "text": [
      "Hello World! The counter is 0\n",
      "Hello World! The counter is 1\n",
      "Hello World! The counter is 2\n",
      "Hello World! The counter is 3\n",
      "Hello World! The counter is 4\n",
      "Hello World! The counter is 5\n",
      "Hello World! The counter is 6\n",
      "Hello World! The counter is 7\n",
      "Hello World! The counter is 8\n",
      "Hello World! The counter is 9\n"
     ]
    }
   ],
   "source": [
    "for (int counter = 0; counter < 10; counter++)\n",
    "{\n",
    "    Console.WriteLine($\"Hello World! The counter is {counter}\");\n",
    "}"
   ]
  },
  {
   "cell_type": "markdown",
   "metadata": {},
   "source": [
    "In this `for` loop, `int counter = 0` initializes the counter, `counter < 10` is the condition to continue looping, and `counter++` increments the counter by 1 after each iteration.\n",
    "\n",
    "These are the basic concepts of loops in C#. You can use loops to repeat tasks efficiently, and by mastering them, you can build more powerful and dynamic programs."
   ]
  }
 ],
 "metadata": {
  "language_info": {
   "name": "python"
  },
  "orig_nbformat": 4
 },
 "nbformat": 4,
 "nbformat_minor": 2
}
