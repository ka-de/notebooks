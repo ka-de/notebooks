{
 "cells": [
  {
   "cell_type": "markdown",
   "metadata": {},
   "source": [
    "# Hello World\n",
    "\n",
    "## What is C#?\n",
    "\n",
    "C# is a versatile programming language used for a wide range of applications, including websites, games, mobile apps, desktop apps, and more. It's part of the .NET programming platform, which provides libraries and tools for various types of software development.\n",
    "\n",
    "## Hello World\n",
    "\n",
    "This first code snippet introduces you to writing your first C# program, the classic \"Hello World.\" Here's what the code does:"
   ]
  },
  {
   "cell_type": "code",
   "execution_count": 3,
   "metadata": {
    "vscode": {
     "languageId": "polyglot-notebook"
    }
   },
   "outputs": [
    {
     "name": "stdout",
     "output_type": "stream",
     "text": [
      "Hello World!\r\n"
     ]
    }
   ],
   "source": [
    "Console.WriteLine(\"Hello World!\");"
   ]
  },
  {
   "cell_type": "markdown",
   "metadata": {},
   "source": [
    "* **Console.WriteLine** is a method used to print a message to the console.\n",
    "* **\"Hello World!\"** is the message that gets printed.\n",
    "\n",
    "You can run this code by clicking the \"play\" icon, and it will display \"Hello World!\" in the output.\n",
    "\n",
    "## Declare and use variables\n",
    "\n",
    "Variables are symbols that can hold different values. In this example:"
   ]
  },
  {
   "cell_type": "code",
   "execution_count": 4,
   "metadata": {
    "dotnet_interactive": {
     "language": "csharp"
    },
    "polyglot_notebook": {
     "kernelName": "csharp"
    },
    "vscode": {
     "languageId": "polyglot-notebook"
    }
   },
   "outputs": [
    {
     "name": "stdout",
     "output_type": "stream",
     "text": [
      "Jayme\r\n"
     ]
    }
   ],
   "source": [
    "var aFriend = \"Jayme\";\n",
    "Console.WriteLine(aFriend);"
   ]
  },
  {
   "cell_type": "markdown",
   "metadata": {},
   "source": [
    "* **var** is used to declare a variable without specifying its type explicitly.\n",
    "* **aFriend** is the variable name.\n",
    "* **\"Jayme\"** is the value assigned to the variable.\n",
    "\n",
    "You can change **\"Jayme\"** to any other name and run the code to see a different output.\n",
    "\n",
    "## Combining Strings\n",
    "\n",
    "In this part, you'll learn how to combine strings using the `+` operator:"
   ]
  },
  {
   "cell_type": "code",
   "execution_count": 5,
   "metadata": {
    "dotnet_interactive": {
     "language": "csharp"
    },
    "polyglot_notebook": {
     "kernelName": "csharp"
    },
    "vscode": {
     "languageId": "polyglot-notebook"
    }
   },
   "outputs": [
    {
     "name": "stdout",
     "output_type": "stream",
     "text": [
      "Hello Jayme!\r\n"
     ]
    }
   ],
   "source": [
    "Console.WriteLine(\"Hello \" + aFriend + \"!\");"
   ]
  },
  {
   "cell_type": "markdown",
   "metadata": {},
   "source": [
    "This code combines the string \"Hello\" with the value stored in the `aFriend` variable to create a friendly greeting. You can run this code to see the output.\n",
    "\n",
    "## String Interpolation\n",
    "\n",
    "String interpolation is a more convenient way to combine strings. Instead of using `+`, you can use `{}` to insert variable values into a string:"
   ]
  },
  {
   "cell_type": "code",
   "execution_count": 6,
   "metadata": {
    "dotnet_interactive": {
     "language": "csharp"
    },
    "polyglot_notebook": {
     "kernelName": "csharp"
    },
    "vscode": {
     "languageId": "polyglot-notebook"
    }
   },
   "outputs": [
    {
     "name": "stdout",
     "output_type": "stream",
     "text": [
      "Hello string interpolation!\r\n"
     ]
    }
   ],
   "source": [
    "aFriend = \"string interpolation\";\n",
    "Console.WriteLine($\"Hello {aFriend}!\");"
   ]
  },
  {
   "cell_type": "markdown",
   "metadata": {},
   "source": [
    "With string interpolation, you can directly reference variables within a string by placing them between `{}`. The `$` before the opening quote enables string interpolation."
   ]
  }
 ],
 "metadata": {
  "language_info": {
   "name": "python"
  },
  "orig_nbformat": 4
 },
 "nbformat": 4,
 "nbformat_minor": 2
}
