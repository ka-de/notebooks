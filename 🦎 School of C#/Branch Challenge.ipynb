{
 "cells": [
  {
   "cell_type": "markdown",
   "metadata": {},
   "source": [
    "# Branch Challenge\n",
    "\n",
    "In this challenge, you'll write C# code to find the sum of all integers from 1 through 20 that are divisible by 3. "
   ]
  },
  {
   "cell_type": "code",
   "execution_count": 2,
   "metadata": {
    "dotnet_interactive": {
     "language": "csharp"
    },
    "polyglot_notebook": {
     "kernelName": "csharp"
    },
    "vscode": {
     "languageId": "polyglot-notebook"
    }
   },
   "outputs": [],
   "source": [
    "/**\n",
    " * Branch Challenge\n",
    " */\n",
    "\n",
    " "
   ]
  },
  {
   "cell_type": "markdown",
   "metadata": {},
   "source": [
    "# ⚠️"
   ]
  },
  {
   "cell_type": "markdown",
   "metadata": {},
   "source": [
    "## Solutions Below!"
   ]
  },
  {
   "cell_type": "markdown",
   "metadata": {},
   "source": [
    "![Jupiter, in all its glory.](https://github.com/ka-de/notebooks/raw/main/Data/jupiter.jpg)"
   ]
  },
  {
   "cell_type": "code",
   "execution_count": 1,
   "metadata": {
    "dotnet_interactive": {
     "language": "csharp"
    },
    "polyglot_notebook": {
     "kernelName": "csharp"
    },
    "vscode": {
     "languageId": "polyglot-notebook"
    }
   },
   "outputs": [
    {
     "name": "stdout",
     "output_type": "stream",
     "text": [
      "The sum of integers from 1 to 20 divisible by 3 is: 63\r\n"
     ]
    }
   ],
   "source": [
    "int sum = 0; // Initialize a variable to store the sum\n",
    "\n",
    "for (int i = 1; i <= 20; i++)\n",
    "{\n",
    "    if (i % 3 == 0)\n",
    "    {\n",
    "        sum += i; // Add the current number to the sum if it's divisible by 3\n",
    "    }\n",
    "}\n",
    "\n",
    "Console.WriteLine($\"The sum of integers from 1 to 20 divisible by 3 is: {sum}\");"
   ]
  },
  {
   "cell_type": "markdown",
   "metadata": {},
   "source": [
    "1. Initialize a variable `sum` to store the sum of numbers.\n",
    "\n",
    "2. Use a `for` loop to iterate through numbers from 1 to 20.\n",
    "\n",
    "3. Inside the loop, use an `if` statement to check if the current number `i` is divisible by 3 (i.e., `i % 3 == 0`).\n",
    "\n",
    "4. If the condition is true, add the current number `i` to the `sum`.\n",
    "\n",
    "5. After the loop finishes, print the value of `sum`.\n",
    "\n",
    "When you run this code, it will calculate the sum of integers from 1 through 20 that are divisible by 3 and display the result, which should be 63.\n",
    "\n",
    "Feel free to give it a try in your development environment or use the provided code as a reference."
   ]
  }
 ],
 "metadata": {
  "language_info": {
   "name": "python"
  },
  "orig_nbformat": 4
 },
 "nbformat": 4,
 "nbformat_minor": 2
}
