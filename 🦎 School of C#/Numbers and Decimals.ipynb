{
 "cells": [
  {
   "cell_type": "markdown",
   "metadata": {},
   "source": [
    "# Numbers and Decimals\n",
    "\n",
    "In this tutorial, we'll explore working with fixed-point types, specifically the `Decimal` type, and compare it to `double` in terms of range and precision.\n",
    "\n",
    "## The Decimal Type\n",
    "\n",
    "The `Decimal` type is similar to `double` but offers higher precision, making it suitable for financial calculations and other situations where precision is crucial.\n",
    "\n",
    "### Range of Decimal\n",
    "\n",
    "Let's first understand the range of `Decimal` values:"
   ]
  },
  {
   "cell_type": "code",
   "execution_count": 1,
   "metadata": {
    "dotnet_interactive": {
     "language": "csharp"
    },
    "polyglot_notebook": {
     "kernelName": "csharp"
    },
    "vscode": {
     "languageId": "polyglot-notebook"
    }
   },
   "outputs": [
    {
     "name": "stdout",
     "output_type": "stream",
     "text": [
      "The range of the decimal type is -79228162514264337593543950335 to 79228162514264337593543950335\r\n"
     ]
    }
   ],
   "source": [
    "decimal min = decimal.MinValue;\n",
    "decimal max = decimal.MaxValue;\n",
    "Console.WriteLine($\"The range of the decimal type is {min} to {max}\");"
   ]
  },
  {
   "cell_type": "markdown",
   "metadata": {},
   "source": [
    "When you run this code, you'll see that `Decimal` has a smaller range compared to `double`, but it offers more precision.\n",
    "\n",
    "### Precision Comparison\n",
    "\n",
    "Let's compare the precision of `double` and `decimal` by performing a simple division:"
   ]
  },
  {
   "cell_type": "code",
   "execution_count": 2,
   "metadata": {
    "dotnet_interactive": {
     "language": "csharp"
    },
    "polyglot_notebook": {
     "kernelName": "csharp"
    },
    "vscode": {
     "languageId": "polyglot-notebook"
    }
   },
   "outputs": [
    {
     "name": "stdout",
     "output_type": "stream",
     "text": [
      "0.3333333333333333\n",
      "0.3333333333333333333333333333\n"
     ]
    }
   ],
   "source": [
    "double a = 1.0;\n",
    "double b = 3.0;\n",
    "Console.WriteLine(a / b);\n",
    "\n",
    "decimal c = 1.0M;\n",
    "decimal d = 3.0M;\n",
    "Console.WriteLine(c / d);"
   ]
  },
  {
   "cell_type": "markdown",
   "metadata": {},
   "source": [
    "In this code, we calculate 1 divided by 3 using both `double` and `decimal` and print the results. You'll notice that `decimal` provides a more precise result.\n",
    "\n",
    "## Playground\n",
    "\n",
    "Now, it's your turn to experiment with what you've learned! Here are some starting ideas:\n",
    "\n",
    "1. Calculate the area of a circle with a radius of 2.5 inches using `decimal` and `double`. Compare the results.\n",
    "\n",
    "2. Change the number types (e.g., int, short) and see how precision affects the outcome.\n",
    "\n",
    "3. Use `Math.PI` as the value of $\\pi$ in your calculations.\n",
    "Feel free to explore and experiment with different scenarios in this playground.\n",
    "\n",
    "Have fun learning about Decimal and its advantages in precision!"
   ]
  },
  {
   "cell_type": "code",
   "execution_count": null,
   "metadata": {
    "dotnet_interactive": {
     "language": "csharp"
    },
    "polyglot_notebook": {
     "kernelName": "csharp"
    },
    "vscode": {
     "languageId": "polyglot-notebook"
    }
   },
   "outputs": [],
   "source": [
    "/**\n",
    " * 1. Calculate the area of a circle with a radius of 2.5 inches using `decimal` and `double`. Compare the results.\n",
    " */"
   ]
  },
  {
   "cell_type": "code",
   "execution_count": null,
   "metadata": {
    "dotnet_interactive": {
     "language": "csharp"
    },
    "polyglot_notebook": {
     "kernelName": "csharp"
    },
    "vscode": {
     "languageId": "polyglot-notebook"
    }
   },
   "outputs": [],
   "source": [
    "2. Change the number types (e.g., int, short) and see how precision affects the outcome."
   ]
  },
  {
   "cell_type": "code",
   "execution_count": null,
   "metadata": {
    "dotnet_interactive": {
     "language": "csharp"
    },
    "polyglot_notebook": {
     "kernelName": "csharp"
    },
    "vscode": {
     "languageId": "polyglot-notebook"
    }
   },
   "outputs": [],
   "source": [
    "3. Use `Math.PI` as the value of $\\pi$ in your calculations.\n",
    "Feel free to explore and experiment with different scenarios in this playground."
   ]
  },
  {
   "cell_type": "markdown",
   "metadata": {},
   "source": [
    "## ⚠️ Solutions Below! ⚠️"
   ]
  },
  {
   "cell_type": "code",
   "execution_count": 4,
   "metadata": {
    "dotnet_interactive": {
     "language": "csharp"
    },
    "polyglot_notebook": {
     "kernelName": "csharp"
    },
    "vscode": {
     "languageId": "polyglot-notebook"
    }
   },
   "outputs": [
    {
     "name": "stdout",
     "output_type": "stream",
     "text": [
      "Area using double: 19.634954084936208\n",
      "Area using decimal: 19.6349540849361875\n"
     ]
    }
   ],
   "source": [
    "decimal radiusDecimal = 2.5M; // Use the 'M' suffix to specify a decimal literal\n",
    "double radiusDouble = (double)radiusDecimal; // Explicitly cast the decimal to double\n",
    "\n",
    "// Calculate the area using Math.PI as the value of pi\n",
    "double areaDouble = Math.PI * radiusDouble * radiusDouble;\n",
    "decimal areaDecimal = (decimal)Math.PI * radiusDecimal * radiusDecimal;\n",
    "\n",
    "Console.WriteLine($\"Area using double: {areaDouble}\");\n",
    "Console.WriteLine($\"Area using decimal: {areaDecimal}\");\n"
   ]
  },
  {
   "cell_type": "markdown",
   "metadata": {},
   "source": [
    "This code calculates the area of a circle using both `double` and `decimal` data types, with `Math.PI` as the value of $\\pi$. Here's a breakdown:\n",
    "\n",
    "1. **decimal radiusDecimal = 2.5M;**: This line declares a variable named `radiusDecimal` of type decimal and assigns it the value `2.5M`. The 'M' suffix indicates that this is a decimal literal.\n",
    "\n",
    "2. **double radiusDouble = (double)radiusDecimal;**: Here, we declare a variable named `radiusDouble` of type `double`. We explicitly cast the `radiusDecimal` to `double` using `(double)` to ensure it's compatible with the `double` data type.\n",
    "\n",
    "3. **double areaDouble = Math.PI * radiusDouble * radiusDouble;**: This line calculates the area of the circle using `double` precision. It multiplies `Math.PI` (which is a constant representing the value of $\\pi$) by `radiusDouble` squared (radius times radius).\n",
    "\n",
    "4. **decimal areaDecimal = (decimal)Math.PI * radiusDecimal * radiusDecimal;**: Similarly, this line calculates the area of the circle using `decimal` precision. It casts `Math.PI` to `decimal` using `(decimal)` to ensure compatibility and then performs the calculation.\n",
    "\n",
    "Finally, `Console.WriteLine()` is used to display the results. It prints the calculated areas for both `double` and `decimal` types.\n",
    "\n",
    "The key takeaway here is that `decimal` offers higher precision for decimal arithmetic, which can be crucial in financial or scientific calculations where accuracy is essential. `double` provides a larger range but may have slight rounding errors in very precise calculations. This code demonstrates how to work with both data types and the importance of selecting the appropriate type for your specific needs."
   ]
  },
  {
   "cell_type": "code",
   "execution_count": 6,
   "metadata": {
    "dotnet_interactive": {
     "language": "csharp"
    },
    "polyglot_notebook": {
     "kernelName": "csharp"
    },
    "vscode": {
     "languageId": "polyglot-notebook"
    }
   },
   "outputs": [
    {
     "name": "stdout",
     "output_type": "stream",
     "text": [
      "Area using int: 12\n",
      "Area using short: 12\n",
      "Area using decimal: 19.6349540849362\n",
      "Area using double: 19.634954084936208\n"
     ]
    }
   ],
   "source": [
    "int radiusInt = 2;         // Using int for limited precision\n",
    "short radiusShort = 2;     // Using short for even more limited precision\n",
    "decimal radiusDecimal = 2.5M;  // Using decimal for precision\n",
    "double radiusDouble = 2.5;    // Using double for comparison\n",
    "\n",
    "// Calculate the area using int\n",
    "int areaInt = (int)(Math.PI * radiusInt * radiusInt);\n",
    "\n",
    "// Calculate the area using short\n",
    "short areaShort = (short)(Math.PI * radiusShort * radiusShort);\n",
    "\n",
    "// Calculate the area using decimal\n",
    "decimal areaDecimal = (decimal)(Math.PI * (double)radiusDecimal * (double)radiusDecimal);\n",
    "\n",
    "// Calculate the area using double\n",
    "double areaDouble = Math.PI * radiusDouble * radiusDouble;\n",
    "\n",
    "// Compare the results\n",
    "Console.WriteLine($\"Area using int: {areaInt}\");\n",
    "Console.WriteLine($\"Area using short: {areaShort}\");\n",
    "Console.WriteLine($\"Area using decimal: {areaDecimal}\");\n",
    "Console.WriteLine($\"Area using double: {areaDouble}\");"
   ]
  },
  {
   "cell_type": "markdown",
   "metadata": {},
   "source": [
    "> \\> What is the range of values that can be represented by float and double data types?\n",
    "\n",
    "The range of values that can be represented by float and double data types depends on their size and precision. \n",
    "\n",
    "For float, the range is approximately $1.5 * 10^-45$ to $3.4 * 10^38$, with a precision of about 7 digits.\n",
    "\n",
    "For double, the range is approximately $5.0 * 10^-324$ to $1.7 * 10^308$, with a precision of about 15-16 digits. \n",
    "\n",
    "It's important to note that the actual range and precision may vary depending on the specific implementation and hardware used.\n",
    "\n",
    "> \\> What is the difference between decimal and double data types?\n",
    "\n",
    "The main difference between decimal and double data types is their precision and range. Decimal is a 128-bit data type, which means it requires 16 bytes of memory to store a single value. This is twice the size of a double data type, which is 64-bit and requires 8 bytes of memory. The larger size of the decimal data type allows it to provide high precision for decimal and monetary calculations. It can represent decimal numbers with up to 28-29 significant digits and has a smaller range than double. \n",
    "\n",
    "On the other hand, double is a 64-bit data type that provides a larger range of values than decimal, but with less precision. It can represent decimal numbers with up to 15-16 significant digits. Double is commonly used for scientific and engineering calculations where a wide range of values is required.\n",
    "\n",
    "In summary, decimal is suitable for financial and monetary calculations that require high precision, while double is suitable for scientific and engineering calculations that require a wide range of values."
   ]
  }
 ],
 "metadata": {
  "language_info": {
   "name": "python"
  },
  "orig_nbformat": 4
 },
 "nbformat": 4,
 "nbformat_minor": 2
}
