{
 "cells": [
  {
   "cell_type": "markdown",
   "metadata": {},
   "source": [
    "# Contains\n",
    "\n",
    "This lesson is about searching strings in C#. You'll learn how to check if a string contains another string, whether it starts or ends with a specific substring, and how to use these string searching methods. Let's go through the key points step by step.\n",
    "\n",
    "## Contains\n",
    "\n",
    "The `Contains` method is used to check if a string contains another string within it. It returns a boolean value (`true` or `false`) to indicate whether the sought string is found.\n",
    "\n",
    "Here's an example:"
   ]
  },
  {
   "cell_type": "code",
   "execution_count": 1,
   "metadata": {
    "dotnet_interactive": {
     "language": "csharp"
    },
    "polyglot_notebook": {
     "kernelName": "csharp"
    },
    "vscode": {
     "languageId": "polyglot-notebook"
    }
   },
   "outputs": [
    {
     "name": "stdout",
     "output_type": "stream",
     "text": [
      "True\n",
      "False\n"
     ]
    }
   ],
   "source": [
    "string songLyrics = \"You say goodbye, and I say hello\";\n",
    "Console.WriteLine(songLyrics.Contains(\"goodbye\"));\n",
    "Console.WriteLine(songLyrics.Contains(\"greetings\"));"
   ]
  },
  {
   "cell_type": "markdown",
   "metadata": {},
   "source": [
    "You can use `Contains` to check if a particular substring exists within a string.\n",
    "\n",
    "## StartsWith and EndsWith\n",
    "\n",
    "`StartsWith` and `EndsWith` are methods similar to `Contains`, but they specifically check if a string starts with or ends with a given substring.\n",
    "\n",
    "Here's an example:"
   ]
  },
  {
   "cell_type": "code",
   "execution_count": 2,
   "metadata": {
    "dotnet_interactive": {
     "language": "csharp"
    },
    "polyglot_notebook": {
     "kernelName": "csharp"
    },
    "vscode": {
     "languageId": "polyglot-notebook"
    }
   },
   "outputs": [
    {
     "name": "stdout",
     "output_type": "stream",
     "text": [
      "True\n",
      "False\n",
      "True\n",
      "False\n"
     ]
    }
   ],
   "source": [
    "string songLyrics = \"You say goodbye, and I say hello\";\n",
    "Console.WriteLine(songLyrics.StartsWith(\"You\"));\n",
    "Console.WriteLine(songLyrics.StartsWith(\"I\"));\n",
    "Console.WriteLine(songLyrics.EndsWith(\"hello\"));\n",
    "Console.WriteLine(songLyrics.EndsWith(\"goodbye\"));"
   ]
  },
  {
   "cell_type": "markdown",
   "metadata": {},
   "source": [
    "These methods are useful for checking the beginning or ending of a string."
   ]
  }
 ],
 "metadata": {
  "language_info": {
   "name": "python"
  },
  "orig_nbformat": 4
 },
 "nbformat": 4,
 "nbformat_minor": 2
}
