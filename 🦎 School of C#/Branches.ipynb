{
 "cells": [
  {
   "cell_type": "markdown",
   "metadata": {},
   "source": [
    "# Branches\n",
    "\n",
    "In C#, branches using `if` statements are used to make decisions in your code. Let's explore the basics of `if` statements.\n",
    "\n",
    "## Basic if Statement\n",
    "\n",
    "An `if` statement allows you to execute a block of code conditionally. Here's a simple example:"
   ]
  },
  {
   "cell_type": "code",
   "execution_count": 1,
   "metadata": {
    "dotnet_interactive": {
     "language": "csharp"
    },
    "polyglot_notebook": {
     "kernelName": "csharp"
    },
    "vscode": {
     "languageId": "polyglot-notebook"
    }
   },
   "outputs": [
    {
     "name": "stdout",
     "output_type": "stream",
     "text": [
      "The answer is greater than 10.\r\n"
     ]
    }
   ],
   "source": [
    "int a = 5;\n",
    "int b = 6;\n",
    "\n",
    "if (a + b > 10)\n",
    "{\n",
    "    Console.WriteLine(\"The answer is greater than 10.\");\n",
    "}"
   ]
  },
  {
   "cell_type": "markdown",
   "metadata": {},
   "source": [
    "In this code, if the sum of `a` and `b` is greater than 10, the message \"The answer is greater than 10.\" will be printed.\n",
    "\n",
    "You can also add an `else` block to handle the case when the condition is not met:"
   ]
  },
  {
   "cell_type": "code",
   "execution_count": 2,
   "metadata": {
    "dotnet_interactive": {
     "language": "csharp"
    },
    "polyglot_notebook": {
     "kernelName": "csharp"
    },
    "vscode": {
     "languageId": "polyglot-notebook"
    }
   },
   "outputs": [
    {
     "name": "stdout",
     "output_type": "stream",
     "text": [
      "The answer is not greater than 10.\r\n"
     ]
    }
   ],
   "source": [
    "int a = 5;\n",
    "int b = 3;\n",
    "\n",
    "if (a + b > 10)\n",
    "{\n",
    "    Console.WriteLine(\"The answer is greater than 10.\");\n",
    "}\n",
    "else\n",
    "{\n",
    "    Console.WriteLine(\"The answer is not greater than 10.\");\n",
    "}\n"
   ]
  },
  {
   "cell_type": "markdown",
   "metadata": {},
   "source": [
    "## Conditions\n",
    "\n",
    "The condition in an `if` statement is a boolean expression that evaluates to either true or false. You can use various comparison operators like `>`, `<`, `<=`, `>=`, or `==` to create conditions.\n",
    "\n",
    "For example:"
   ]
  },
  {
   "cell_type": "code",
   "execution_count": 3,
   "metadata": {
    "dotnet_interactive": {
     "language": "csharp"
    },
    "polyglot_notebook": {
     "kernelName": "csharp"
    },
    "vscode": {
     "languageId": "polyglot-notebook"
    }
   },
   "outputs": [
    {
     "name": "stdout",
     "output_type": "stream",
     "text": [
      "This condition is False\r\n"
     ]
    }
   ],
   "source": [
    "bool outcome = 3 > 5;\n",
    "Console.WriteLine(\"This condition is \" + outcome);"
   ]
  },
  {
   "cell_type": "markdown",
   "metadata": {},
   "source": [
    "Here, `outcome` will be `false` because 3 is not greater than 5.\n",
    "\n",
    "## Multi-line if Statements\n",
    "\n",
    "You can use curly braces `{}` to define multi-line code blocks within `if` statements. This is useful for executing multiple statements based on a condition:"
   ]
  },
  {
   "cell_type": "code",
   "execution_count": 4,
   "metadata": {
    "dotnet_interactive": {
     "language": "csharp"
    },
    "polyglot_notebook": {
     "kernelName": "csharp"
    },
    "vscode": {
     "languageId": "polyglot-notebook"
    }
   },
   "outputs": [
    {
     "name": "stdout",
     "output_type": "stream",
     "text": [
      "The answer is not greater than 10\n",
      "Or the first number is not equal to the second\n"
     ]
    }
   ],
   "source": [
    "int a = 5;\n",
    "int b = 3;\n",
    "int c = 4;\n",
    "\n",
    "if ((a + b + c > 10) && (a == b))\n",
    "{\n",
    "    Console.WriteLine(\"The answer is greater than 10\");\n",
    "    Console.WriteLine(\"And the first number is equal to the second\");\n",
    "}\n",
    "else\n",
    "{\n",
    "    Console.WriteLine(\"The answer is not greater than 10\");\n",
    "    Console.WriteLine(\"Or the first number is not equal to the second\");\n",
    "}"
   ]
  },
  {
   "cell_type": "markdown",
   "metadata": {},
   "source": [
    "In this example, it checks if the sum of `a`, `b`, and `c` is greater than 10 AND if `a` is equal to `b`. If both conditions are true, it goes into the `if` block; otherwise, it goes into the `else` block.\n",
    "\n",
    "You can also use `||` for logical OR in conditions:"
   ]
  },
  {
   "cell_type": "code",
   "execution_count": 5,
   "metadata": {
    "dotnet_interactive": {
     "language": "csharp"
    },
    "polyglot_notebook": {
     "kernelName": "csharp"
    },
    "vscode": {
     "languageId": "polyglot-notebook"
    }
   },
   "outputs": [
    {
     "name": "stdout",
     "output_type": "stream",
     "text": [
      "You are eligible to drive.\r\n"
     ]
    }
   ],
   "source": [
    "int age = 25;\n",
    "bool hasLicense = true;\n",
    "\n",
    "if (age >= 18 || hasLicense)\n",
    "{\n",
    "    Console.WriteLine(\"You are eligible to drive.\");\n",
    "}\n",
    "else\n",
    "{\n",
    "    Console.WriteLine(\"You are not eligible to drive.\");\n",
    "}"
   ]
  },
  {
   "cell_type": "markdown",
   "metadata": {},
   "source": [
    "This code checks if either of the conditions is true:\n",
    "\n",
    "1. **age >= 18** checks if the person is 18 years or older.\n",
    "\n",
    "2. **hasLicense** checks if the person has a valid driver's license.\n",
    "\n",
    "If either of these conditions is true, it prints \"You are eligible to drive.\" Otherwise, it prints \"You are not eligible to drive.\"\n",
    "\n",
    "These if statements are essential for controlling the flow of your program based on specific conditions or criteria."
   ]
  }
 ],
 "metadata": {
  "language_info": {
   "name": "python"
  },
  "orig_nbformat": 4
 },
 "nbformat": 4,
 "nbformat_minor": 2
}
