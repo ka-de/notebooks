{
 "cells": [
  {
   "cell_type": "markdown",
   "metadata": {},
   "source": [
    "# Lists and Namespaces\n",
    "\n",
    "In C#, lists are powerful data structures that can hold a collection of elements. In this tutorial, we are using the **List\\<string\\>** class, which can store a list of strings.\n",
    "\n",
    "1. **System.Collections.Generic**: This is a namespace that contains the List class. By including using System.Collections.Generic;, you avoid having to write the full namespace every time you use List.\n",
    "\n",
    "2. **var**: It's used when you want to declare a variable without explicitly specifying its type. In this case, `var names` means that `names` is a list, but you don't have to explicitly say it's a `List<string>`.\n",
    "\n",
    "\n",
    "## Iterating Through the List\n",
    "\n",
    "Next, we explore two methods of iterating through the list:\n",
    "\n",
    "Method 1 - `foreach`"
   ]
  },
  {
   "cell_type": "code",
   "execution_count": 1,
   "metadata": {
    "dotnet_interactive": {
     "language": "csharp"
    },
    "polyglot_notebook": {
     "kernelName": "csharp"
    },
    "vscode": {
     "languageId": "polyglot-notebook"
    }
   },
   "outputs": [
    {
     "name": "stdout",
     "output_type": "stream",
     "text": [
      "Hello <NAME>!\n",
      "Hello ANA!\n",
      "Hello FELIPE!\n"
     ]
    }
   ],
   "source": [
    "using System;\n",
    "using System.Collections.Generic;\n",
    "\n",
    "var names = new List<string> { \"<name>\", \"Ana\", \"Felipe\" }; // Initialize the 'names' list\n",
    "\n",
    "foreach (var name in names)\n",
    "{\n",
    "    Console.WriteLine($\"Hello {name.ToUpper()}!\");\n",
    "}"
   ]
  },
  {
   "cell_type": "markdown",
   "metadata": {},
   "source": [
    "This loop goes through each element (name) in the `names` list and prints a greeting. It uses `name` as an individual element in the `names` list.\n",
    "\n",
    "Method 2 - `for`"
   ]
  },
  {
   "cell_type": "code",
   "execution_count": 2,
   "metadata": {
    "dotnet_interactive": {
     "language": "csharp"
    },
    "polyglot_notebook": {
     "kernelName": "csharp"
    },
    "vscode": {
     "languageId": "polyglot-notebook"
    }
   },
   "outputs": [
    {
     "name": "stdout",
     "output_type": "stream",
     "text": [
      "Hello <NAME>\n",
      "Hello ANA\n",
      "Hello FELIPE\n"
     ]
    }
   ],
   "source": [
    "for (int i = 0; i < names.Count; i++)\n",
    "{\n",
    "    Console.WriteLine($\"Hello {names[i].ToUpper()}\");\n",
    "}"
   ]
  },
  {
   "cell_type": "markdown",
   "metadata": {},
   "source": [
    "This loop iterates using a standard `for` loop, which relies on the index `i` to access elements in the list. It achieves the same result as the `foreach` loop but uses a different style.\n",
    "\n",
    "## Adding and Removing Elements\n",
    "\n",
    "The tutorial also covers how to add and remove elements from a list:\n",
    "\n",
    "**Adding**: You can use the `Add()` method to add elements to the end of a list.\n",
    "\n",
    "**Removing**: The `Remove()` method allows you to remove specific elements by providing the element you want to remove.\n",
    "\n",
    "## Accessing Specific Elements\n",
    "\n",
    "Lastly, it demonstrates how to access a specific element in the list using indexing:"
   ]
  },
  {
   "cell_type": "code",
   "execution_count": 3,
   "metadata": {
    "dotnet_interactive": {
     "language": "csharp"
    },
    "polyglot_notebook": {
     "kernelName": "csharp"
    },
    "vscode": {
     "languageId": "polyglot-notebook"
    }
   },
   "outputs": [
    {
     "name": "stdout",
     "output_type": "stream",
     "text": [
      "Ana\r\n"
     ]
    }
   ],
   "source": [
    "Console.WriteLine(names[1]);"
   ]
  },
  {
   "cell_type": "markdown",
   "metadata": {},
   "source": [
    "Remember that C# lists are zero-based, meaning the first element has an index of 0.\n",
    "\n",
    "Feel free to experiment with these concepts in your C# programming journey! ⟁"
   ]
  }
 ],
 "metadata": {
  "language_info": {
   "name": "python"
  },
  "orig_nbformat": 4
 },
 "nbformat": 4,
 "nbformat_minor": 2
}
