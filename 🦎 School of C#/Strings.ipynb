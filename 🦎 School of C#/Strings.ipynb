{
 "cells": [
  {
   "cell_type": "markdown",
   "metadata": {},
   "source": [
    "# Strings\n",
    "\n",
    "A string in C# is a sequence of characters, similar to a friendship bracelet where letters are strung together to form a name.\n",
    "\n",
    "## Strings and String Literals\n",
    "\n",
    "In C#, you can create string variables and string literals. A string literal is constant text enclosed in double quotes. Here's an example:"
   ]
  },
  {
   "cell_type": "code",
   "execution_count": 1,
   "metadata": {
    "dotnet_interactive": {
     "language": "csharp"
    },
    "polyglot_notebook": {
     "kernelName": "csharp"
    },
    "vscode": {
     "languageId": "polyglot-notebook"
    }
   },
   "outputs": [
    {
     "name": "stdout",
     "output_type": "stream",
     "text": [
      "My friends are Maria and Sophia\r\n"
     ]
    }
   ],
   "source": [
    "string firstFriend = \"Maria\";\n",
    "string secondFriend = \"Sophia\";\n",
    "Console.WriteLine($\"My friends are {firstFriend} and {secondFriend}\");"
   ]
  },
  {
   "cell_type": "markdown",
   "metadata": {},
   "source": [
    "* **firstFriend** and **secondFriend** are variables containing strings.\n",
    "* **\"My friends are {firstFriend} and {secondFriend}\"** is a string literal that uses string interpolation to include the values of the variables.\n",
    "\n",
    "You can change the values of `firstFriend` and `secondFriend` to see different names printed.\n",
    "\n",
    "## String Properties\n",
    "\n",
    "Strings have properties, and one of the most commonly used properties is `Length`, which returns the number of characters in a string. Here's how you can use it:"
   ]
  },
  {
   "cell_type": "code",
   "execution_count": 2,
   "metadata": {
    "dotnet_interactive": {
     "language": "csharp"
    },
    "polyglot_notebook": {
     "kernelName": "csharp"
    },
    "vscode": {
     "languageId": "polyglot-notebook"
    }
   },
   "outputs": [
    {
     "name": "stdout",
     "output_type": "stream",
     "text": [
      "The name Maria has 5 letters.\n",
      "The name Sophia has 6 letters.\n"
     ]
    }
   ],
   "source": [
    "Console.WriteLine($\"The name {firstFriend} has {firstFriend.Length} letters.\");\n",
    "Console.WriteLine($\"The name {secondFriend} has {secondFriend.Length} letters.\");"
   ]
  },
  {
   "cell_type": "markdown",
   "metadata": {},
   "source": [
    "These lines calculate and display the lengths of the names stored in `firstFriend` and `secondFriend`.\n",
    "\n",
    "## String Methods\n",
    "\n",
    "### Leading and Trailing Spaces\n",
    "\n",
    "Strings can have leading or trailing spaces (white space). You can use methods like `Trim`, `TrimStart`, and `TrimEnd` to remove these spaces:"
   ]
  },
  {
   "cell_type": "code",
   "execution_count": 3,
   "metadata": {
    "dotnet_interactive": {
     "language": "csharp"
    },
    "polyglot_notebook": {
     "kernelName": "csharp"
    },
    "vscode": {
     "languageId": "polyglot-notebook"
    }
   },
   "outputs": [
    {
     "name": "stdout",
     "output_type": "stream",
     "text": [
      "[      Hello World!       ]\n",
      "[Hello World!       ]\n",
      "[      Hello World!]\n",
      "[Hello World!]\n"
     ]
    }
   ],
   "source": [
    "string greeting = \"      Hello World!       \";\n",
    "Console.WriteLine($\"[{greeting}]\");\n",
    "\n",
    "string trimmedGreeting = greeting.TrimStart();\n",
    "Console.WriteLine($\"[{trimmedGreeting}]\");\n",
    "\n",
    "trimmedGreeting = greeting.TrimEnd();\n",
    "Console.WriteLine($\"[{trimmedGreeting}]\");\n",
    "\n",
    "trimmedGreeting = greeting.Trim();\n",
    "Console.WriteLine($\"[{trimmedGreeting}]\");"
   ]
  },
  {
   "cell_type": "markdown",
   "metadata": {},
   "source": [
    "These lines demonstrate how to trim spaces from a string using various methods.\n",
    "\n",
    "### Replace\n",
    "\n",
    "You can replace substrings in a string with other values using the `Replace` method:"
   ]
  },
  {
   "cell_type": "code",
   "execution_count": 4,
   "metadata": {
    "dotnet_interactive": {
     "language": "csharp"
    },
    "polyglot_notebook": {
     "kernelName": "csharp"
    },
    "vscode": {
     "languageId": "polyglot-notebook"
    }
   },
   "outputs": [
    {
     "name": "stdout",
     "output_type": "stream",
     "text": [
      "Hello World!\n",
      "Greetings World!\n"
     ]
    }
   ],
   "source": [
    "string sayHello = \"Hello World!\";\n",
    "Console.WriteLine(sayHello);\n",
    "sayHello = sayHello.Replace(\"Hello\", \"Greetings\");\n",
    "Console.WriteLine(sayHello);"
   ]
  },
  {
   "cell_type": "markdown",
   "metadata": {},
   "source": [
    "This code replaces \"Hello\" with \"Greetings\" in the `sayHello` string.\n",
    "\n",
    "### Changing Case\n",
    "\n",
    "To change the case of a string, you can use `ToUpper` and `ToLower`:"
   ]
  },
  {
   "cell_type": "code",
   "execution_count": 5,
   "metadata": {
    "dotnet_interactive": {
     "language": "csharp"
    },
    "polyglot_notebook": {
     "kernelName": "csharp"
    },
    "vscode": {
     "languageId": "polyglot-notebook"
    }
   },
   "outputs": [
    {
     "name": "stdout",
     "output_type": "stream",
     "text": [
      "WHISPER\n",
      "shout\n"
     ]
    }
   ],
   "source": [
    "Console.WriteLine(\"WhiSPer\".ToUpper());\n",
    "Console.WriteLine(\"sHoUt\".ToLower());"
   ]
  }
 ],
 "metadata": {
  "language_info": {
   "name": "python"
  },
  "orig_nbformat": 4
 },
 "nbformat": 4,
 "nbformat_minor": 2
}
