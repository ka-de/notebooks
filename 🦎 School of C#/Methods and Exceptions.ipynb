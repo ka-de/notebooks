{
 "cells": [
  {
   "cell_type": "markdown",
   "metadata": {},
   "source": [
    "# Methods and Exceptions\n",
    "\n",
    "## Methods in C#\n",
    "\n",
    "Methods in C# are blocks of code that perform specific tasks. They are essential for organizing and reusing code in your programs. In this tutorial, we'll define methods and demonstrate how to call them.\n",
    "\n",
    "Defining a Method\n",
    "\n",
    "Let's create a simple method that adds two numbers and returns the result."
   ]
  },
  {
   "cell_type": "code",
   "execution_count": 17,
   "metadata": {
    "dotnet_interactive": {
     "language": "csharp"
    },
    "polyglot_notebook": {
     "kernelName": "csharp"
    },
    "vscode": {
     "languageId": "polyglot-notebook"
    }
   },
   "outputs": [
    {
     "name": "stdout",
     "output_type": "stream",
     "text": [
      "The sum of 5 and 3 is 8\r\n"
     ]
    }
   ],
   "source": [
    "using System;\n",
    "\n",
    "public class Program\n",
    "{\n",
    "    // Define a public method that adds two numbers\n",
    "    public static int Add(int a, int b)\n",
    "    {\n",
    "        return a + b;\n",
    "    }\n",
    "\n",
    "    public static void Main()\n",
    "    {\n",
    "        int num1 = 5;\n",
    "        int num2 = 3;\n",
    "\n",
    "        // Call the Add method and store the result in a variable\n",
    "        int sum = Add(num1, num2);\n",
    "\n",
    "        Console.WriteLine($\"The sum of {num1} and {num2} is {sum}\");\n",
    "    }\n",
    "}\n",
    "\n",
    "Program.Main();"
   ]
  },
  {
   "cell_type": "markdown",
   "metadata": {},
   "source": [
    "In this example, we define a public method called `Add`, which takes two integers as parameters and returns their sum. We then call this method within the `Main` method and display the result.\n",
    "\n",
    "Method Parameters and Return Types\n",
    "\n",
    "* **Parameters**: Methods can take zero or more parameters, which are inputs required for the method to perform its task.\n",
    "\n",
    "* **Return Types**: Methods can return a value using the `return` keyword. The return type is specified in the method signature. If a method doesn't return a value, you can use `void` as the return type.\n",
    "\n",
    "## Handling Exceptions\n",
    "\n",
    "In C#, exceptions are used to handle runtime errors and unexpected situations in your code. Let's learn how to handle exceptions gracefully."
   ]
  },
  {
   "cell_type": "code",
   "execution_count": 19,
   "metadata": {
    "dotnet_interactive": {
     "language": "csharp"
    },
    "polyglot_notebook": {
     "kernelName": "csharp"
    },
    "vscode": {
     "languageId": "polyglot-notebook"
    }
   },
   "outputs": [
    {
     "name": "stdout",
     "output_type": "stream",
     "text": [
      "Error: Division by zero is not allowed.\r\n"
     ]
    }
   ],
   "source": [
    "using System;\n",
    "\n",
    "public class Program\n",
    "{\n",
    "    public static void Main()\n",
    "    {\n",
    "        int dividend = 10;\n",
    "        int divisor = 0;\n",
    "\n",
    "        try\n",
    "        {\n",
    "            int result = Divide(dividend, divisor);\n",
    "            Console.WriteLine($\"Result of division: {result}\");\n",
    "        }\n",
    "        catch (DivideByZeroException ex)\n",
    "        {\n",
    "            Console.WriteLine($\"Error: {ex.Message}\");\n",
    "        }\n",
    "    }\n",
    "\n",
    "    public static int Divide(int dividend, int divisor)\n",
    "    {\n",
    "        if (divisor == 0)\n",
    "        {\n",
    "            throw new DivideByZeroException(\"Division by zero is not allowed.\");\n",
    "        }\n",
    "\n",
    "        return dividend / divisor;\n",
    "    }\n",
    "}\n",
    "\n",
    "Program.Main();"
   ]
  },
  {
   "cell_type": "markdown",
   "metadata": {},
   "source": [
    "In this example, we attempt to divide `dividend` by `divisor` and handle the `DivideByZeroException` that may occur if `divisor` is zero. If an exception is thrown, we catch it and display an error message.\n",
    "\n",
    "## Throwing Custom Exceptions\n",
    "\n",
    "You can also create custom exceptions to handle specific situations in your code."
   ]
  },
  {
   "cell_type": "code",
   "execution_count": 20,
   "metadata": {
    "dotnet_interactive": {
     "language": "csharp"
    },
    "polyglot_notebook": {
     "kernelName": "csharp"
    },
    "vscode": {
     "languageId": "polyglot-notebook"
    }
   },
   "outputs": [
    {
     "name": "stdout",
     "output_type": "stream",
     "text": [
      "Error: Age must be 18 or older.\r\n"
     ]
    }
   ],
   "source": [
    "using System;\n",
    "\n",
    "public class Program\n",
    "{\n",
    "    public static void Main()\n",
    "    {\n",
    "        int age = 15;\n",
    "\n",
    "        try\n",
    "        {\n",
    "            CheckAge(age);\n",
    "            Console.WriteLine(\"Age is valid.\");\n",
    "        }\n",
    "        catch (AgeValidationException ex)\n",
    "        {\n",
    "            Console.WriteLine($\"Error: {ex.Message}\");\n",
    "        }\n",
    "    }\n",
    "\n",
    "    public static void CheckAge(int age)\n",
    "    {\n",
    "        if (age < 18)\n",
    "        {\n",
    "            throw new AgeValidationException(\"Age must be 18 or older.\");\n",
    "        }\n",
    "    }\n",
    "}\n",
    "\n",
    "public class AgeValidationException : Exception\n",
    "{\n",
    "    public AgeValidationException(string message) : base(message)\n",
    "    {\n",
    "    }\n",
    "}\n",
    "\n",
    "Program.Main();"
   ]
  },
  {
   "cell_type": "markdown",
   "metadata": {},
   "source": [
    "Here, we define a custom exception `AgeValidationException` and use it in the `CheckAge` method to validate the age. If the age is less than 18, we throw this custom exception. In the `Main` method, we catch and handle the exception."
   ]
  }
 ],
 "metadata": {
  "language_info": {
   "name": "python"
  },
  "orig_nbformat": 4
 },
 "nbformat": 4,
 "nbformat_minor": 2
}
