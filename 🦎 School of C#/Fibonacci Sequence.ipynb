{
 "cells": [
  {
   "cell_type": "markdown",
   "metadata": {},
   "source": [
    "# Fibonacci Sequence\n",
    "\n",
    "The Fibonacci sequence is a series of numbers where each number is the sum of the two preceding ones, usually starting with 0 and 1. So, it goes like this: 0, 1, 1, 2, 3, 5, 8, 13, 21, and so on.\n",
    "\n",
    "\\begin{align*}\n",
    "F(n) = \\begin{cases} \n",
    "0 & \\text{if } n = 0 \\\\\n",
    "1 & \\text{if } n = 1 \\\\\n",
    "F(n-1) + F(n-2) & \\text{otherwise}\n",
    "\\end{cases}\n",
    "\\end{align*}\n",
    "\n",
    "Or, taken out of context, to put it simply:\n",
    "\n",
    "$$\n",
    "F(n) = F(n-1) + F(n-2)\n",
    "$$\n",
    "\n",
    "Humans have long been fascinated with the Fibonacci sequence, and it has been used in many different areas, such as architecture, music, and art. Naturally it has seeped into the computing world as well, and it is a common interview question to ask a candidate to write a function that returns the nth value of the Fibonacci sequence. This is a great question because it tests a candidate's ability to think recursively and to understand the concept of memoization, but it is also inefficient at computing large values of `n`. In this notebook, we will explore a different way of computing `n`, namely: **Matrix Exponentiation**. Let's get the code right out of the way:"
   ]
  },
  {
   "cell_type": "code",
   "execution_count": 3,
   "metadata": {
    "dotnet_interactive": {
     "language": "csharp"
    },
    "polyglot_notebook": {
     "kernelName": "csharp"
    },
    "vscode": {
     "languageId": "polyglot-notebook"
    }
   },
   "outputs": [
    {
     "name": "stdout",
     "output_type": "stream",
     "text": [
      "Fibonacci(1000) = 43466557686937456435688527675040625802564660517371780402481729089536555417949051890403879840079255169295922593080322634775209689623239873322471161642996440906533187938298969649928516003704476137795166849228875\r\n"
     ]
    }
   ],
   "source": [
    "using System;\n",
    "using System.Numerics;\n",
    "\n",
    "class Program\n",
    "{\n",
    "    public static void Main()\n",
    "    {\n",
    "        const int n = 1000;\n",
    "        BigInteger result = CalculateFibonacci(n);\n",
    "        Console.WriteLine($\"Fibonacci({n}) = {result}\");\n",
    "    }\n",
    "\n",
    "    static BigInteger CalculateFibonacci(int n)\n",
    "    {\n",
    "        if (n <= 1)\n",
    "            return n;\n",
    "\n",
    "        BigInteger[,] matrix = { { 1, 1 }, { 1, 0 } };\n",
    "        MatrixPower(matrix, n - 1);\n",
    "\n",
    "        return matrix[0, 0];\n",
    "    }\n",
    "\n",
    "    static void MatrixPower(BigInteger[,] matrix, int n)\n",
    "    {\n",
    "        if (n <= 1)\n",
    "            return;\n",
    "\n",
    "        BigInteger[,] temp = { { 1, 1 }, { 1, 0 } };\n",
    "        MatrixPower(matrix, n / 2);\n",
    "        MultiplyMatrices(matrix, matrix);\n",
    "\n",
    "        if (n % 2 != 0)\n",
    "            MultiplyMatrices(matrix, temp);\n",
    "    }\n",
    "\n",
    "    static void MultiplyMatrices(BigInteger[,] a, BigInteger[,] b)\n",
    "    {\n",
    "        BigInteger x = a[0, 0] * b[0, 0] + a[0, 1] * b[1, 0];\n",
    "        BigInteger y = a[0, 0] * b[0, 1] + a[0, 1] * b[1, 1];\n",
    "        BigInteger z = a[1, 0] * b[0, 0] + a[1, 1] * b[1, 0];\n",
    "        BigInteger w = a[1, 0] * b[0, 1] + a[1, 1] * b[1, 1];\n",
    "\n",
    "        a[0, 0] = x;\n",
    "        a[0, 1] = y;\n",
    "        a[1, 0] = z;\n",
    "        a[1, 1] = w;\n",
    "    }\n",
    "}\n",
    "\n",
    "Program.Main();"
   ]
  },
  {
   "cell_type": "markdown",
   "metadata": {},
   "source": [
    "The code provided implements an efficient algorithm to calculate the nth Fibonacci number using matrix exponentiation. This method is significantly faster than the recursive approach, especially for large values of `n`.\n",
    "\n",
    "The Fibonacci sequence is often defined using the previously shown recurrence relation. This recursive approach can be slow for large values of `n` because it recalculates the same Fibonacci numbers multiple times.\n",
    "\n",
    "Matrix exponentiation offers a more efficient way to calculate Fibonacci numbers. It leverages the mathematical properties of matrices to compute the nth Fibonacci number in `O(log n)` time. The core idea is to represent the Fibonacci recurrence relation in matrix form and then use matrix exponentiation to find the result.\n",
    "\n",
    "$$\n",
    "\\begin{pmatrix}\n",
    "F(n) \\\\\n",
    "F(n-1)\n",
    "\\end{pmatrix}\n",
    "=\n",
    "\\begin{pmatrix}\n",
    "1 & 1 \\\\\n",
    "1 & 0\n",
    "\\end{pmatrix}^{n-1}\n",
    "\\begin{pmatrix}\n",
    "1 \\\\\n",
    "0\n",
    "\\end{pmatrix}\n",
    "$$\n",
    "\n",
    "In the formula, we use 2x2 matrices to represent certain values related to the Fibonacci sequence. These matrices are:\n",
    "\n",
    "The matrix on the left side:\n",
    "\n",
    "$$\n",
    "\\begin{pmatrix}\n",
    "F(n) \\\\\n",
    "F(n-1)\n",
    "\\end{pmatrix}\n",
    "$$\n",
    "\n",
    "The matrix in the middle:\n",
    "\n",
    "$$\n",
    "\\begin{pmatrix}\n",
    "1 & 1 \\\\\n",
    "1 & 0\n",
    "\\end{pmatrix}\n",
    "$$\n",
    "\n",
    "This matrix represents the transformation from one Fibonacci number to the next. The top row represents the next Fibonacci number $(F(n))$ in terms of the current $(F(n-1))$ and previous $(F(n-2))$ Fibonacci numbers.\n",
    "\n",
    "The matrix on the right side:\n",
    "\n",
    "$$\n",
    "\\begin{pmatrix}\n",
    "1 \\\\\n",
    "0\n",
    "\\end{pmatrix}\n",
    "$$\n",
    "\n",
    "This matrix represents the initial conditions. It starts with the first Fibonacci number $(F(1))$ and the zeroth Fibonacci number $(F(0))$.\n",
    "\n",
    "The exponentiation operation $^{(n-1)}$ means that we are raising the middle matrix to the power of $(n-1)$. This represents the application of the transformation matrix multiple times to calculate the nth Fibonacci number.\n",
    "\n",
    "The result of this matrix multiplication on the right side gives us the nth Fibonacci number (F(n)) and the (n-1)th Fibonacci number $(F(n-1))$.\n",
    "\n",
    "In summary, this formula uses matrices and matrix exponentiation to efficiently compute the nth and (n-1)th Fibonacci numbers. It leverages the fact that matrix exponentiation can be used to represent the recursive nature of the Fibonacci sequence in a more efficient way, especially for large values of 'n'."
   ]
  }
 ],
 "metadata": {
  "kernelspec": {
   "display_name": "base",
   "language": "python",
   "name": "python3"
  },
  "language_info": {
   "name": "python",
   "version": "3.11.5"
  },
  "orig_nbformat": 4
 },
 "nbformat": 4,
 "nbformat_minor": 2
}
