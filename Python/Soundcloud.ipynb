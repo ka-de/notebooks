{
 "cells": [
  {
   "cell_type": "markdown",
   "metadata": {},
   "source": [
    "# SoundCloud\n",
    "\n",
    "API access denied? No problem! 🤠"
   ]
  },
  {
   "cell_type": "code",
   "execution_count": 17,
   "metadata": {},
   "outputs": [
    {
     "name": "stdout",
     "output_type": "stream",
     "text": [
      "Title: Does It Even Have a Mind?\n",
      "Artist: _ka_de\n",
      "Published Date: September 05, 2023 10:40 AM\n",
      "Duration: 0:19\n",
      "Link: https://soundcloud.com/kadelam/does-it-even-have-one\n",
      "\n",
      "\n",
      "Title: 430_2a\n",
      "Artist: _ka_de\n",
      "Published Date: July 01, 2020 12:19 PM\n",
      "Duration: 0:54\n",
      "Link: https://soundcloud.com/kadelam/430_2a\n",
      "\n",
      "\n",
      "Title: TRIUMVIRATE\n",
      "Artist: _ka_de\n",
      "Published Date: March 05, 2020 05:20 AM\n",
      "Duration: 6s\n",
      "Link: https://soundcloud.com/kadelam/triumvirate\n",
      "\n",
      "\n"
     ]
    }
   ],
   "source": [
    "import requests\n",
    "from bs4 import BeautifulSoup\n",
    "from datetime import datetime\n",
    "\n",
    "# URL of the artist's SoundCloud page\n",
    "url = \"https://soundcloud.com/kadelam\"\n",
    "\n",
    "# Send a GET request to the URL\n",
    "response = requests.get(url)\n",
    "\n",
    "# Check if the request was successful\n",
    "if response.status_code == 200:\n",
    "    # Parse the HTML content of the page\n",
    "    soup = BeautifulSoup(response.content, 'html.parser')\n",
    "\n",
    "    # Find all article elements with class \"audible\"\n",
    "    tracks = soup.find_all(\"article\", class_=\"audible\")\n",
    "\n",
    "    if tracks:\n",
    "        # Get details of the last 3 uploads\n",
    "        for track in tracks[:3]:\n",
    "            title_elem = track.find(\"h2\", itemprop=\"name\").find(\"a\")\n",
    "            title = title_elem.text.strip()\n",
    "            artist_elem = title_elem.find_next(\"a\", href=\"/kadelam\")\n",
    "            artist = artist_elem.text.strip()\n",
    "            pubdate_elem = track.find(\"time\", pubdate=True)\n",
    "            pubdate_raw = pubdate_elem.text.strip() if pubdate_elem else \"N/A\"\n",
    "            \n",
    "            # Convert the date to a human-readable format\n",
    "            pubdate_datetime = datetime.strptime(pubdate_raw, \"%Y-%m-%dT%H:%M:%SZ\")\n",
    "            pubdate_human_readable = pubdate_datetime.strftime(\"%B %d, %Y %I:%M %p\")\n",
    "            \n",
    "            duration_elem = track.find(\"meta\", itemprop=\"duration\")\n",
    "            duration_raw = duration_elem[\"content\"] if duration_elem else \"N/A\"\n",
    "\n",
    "            # Convert the duration to a human-readable format\n",
    "            duration_parts = duration_raw[2:].split(\"H\")\n",
    "            hours = int(duration_parts[0]) if duration_parts[0] else 0\n",
    "            minutes = int(duration_parts[1].split(\"M\")[0]) if \"M\" in duration_parts[1] else 0\n",
    "            seconds = int(duration_parts[1].split(\"M\")[1].replace(\"S\", \"\")) if \"M\" in duration_parts[1] else 0\n",
    "            \n",
    "            if hours > 0:\n",
    "                duration_human_readable = f\"{hours}:{minutes:02d}:{seconds:02d}\"\n",
    "            elif minutes == 0 and seconds < 10:\n",
    "                duration_human_readable = f\"{seconds}s\"\n",
    "            else:\n",
    "                duration_human_readable = f\"{minutes}:{seconds:02d}\"\n",
    "            \n",
    "            track_link = title_elem[\"href\"]\n",
    "\n",
    "            print(f\"Title: {title}\")\n",
    "            print(f\"Artist: {artist}\")\n",
    "            print(f\"Published Date: {pubdate_human_readable}\")\n",
    "            print(f\"Duration: {duration_human_readable}\")\n",
    "            print(f\"Link: https://soundcloud.com{track_link}\")\n",
    "            print(\"\\n\")\n",
    "    else:\n",
    "        print(\"No tracks found on the artist's page.\")\n",
    "else:\n",
    "    print(\"Failed to retrieve the webpage.\")"
   ]
  }
 ],
 "metadata": {
  "kernelspec": {
   "display_name": "Python 3",
   "language": "python",
   "name": "python3"
  },
  "language_info": {
   "codemirror_mode": {
    "name": "ipython",
    "version": 3
   },
   "file_extension": ".py",
   "mimetype": "text/x-python",
   "name": "python",
   "nbconvert_exporter": "python",
   "pygments_lexer": "ipython3",
   "version": "3.11.5"
  },
  "orig_nbformat": 4
 },
 "nbformat": 4,
 "nbformat_minor": 2
}
