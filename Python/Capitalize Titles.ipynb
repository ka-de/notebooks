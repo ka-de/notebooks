{
 "cells": [
  {
   "cell_type": "markdown",
   "metadata": {},
   "source": [
    "# Capitalize Titles\n",
    "\n",
    "Don't overthink it!"
   ]
  },
  {
   "cell_type": "code",
   "execution_count": 1,
   "metadata": {},
   "outputs": [
    {
     "name": "stdout",
     "output_type": "stream",
     "text": [
      "Find the Most Frequently Occuring Element in a List\n"
     ]
    }
   ],
   "source": [
    "def capitalize_title(title):\n",
    "    # List of words to be lowercase (articles, short prepositions, coordinating conjunctions)\n",
    "    lowercase_words = [\"a\", \"an\", \"the\", \"and\", \"but\", \"or\", \"for\", \"nor\", \"as\", \"at\", \"by\", \"of\", \"on\", \"to\", \"in\", \"with\"]\n",
    "\n",
    "    # Tokenize the input title\n",
    "    words = title.split()\n",
    "\n",
    "    # Capitalize the first word\n",
    "    words[0] = words[0].capitalize()\n",
    "\n",
    "    # Capitalize major words and apply lowercase rules\n",
    "    for i in range(1, len(words)):\n",
    "        if words[i].lower() not in lowercase_words:\n",
    "            words[i] = words[i].capitalize()\n",
    "        else:\n",
    "            words[i] = words[i].lower()\n",
    "\n",
    "    # Reconstruct the title with proper capitalization\n",
    "    capitalized_title = ' '.join(words)\n",
    "    \n",
    "    return capitalized_title\n",
    "\n",
    "# Get user input\n",
    "user_input = input(\"Enter a title: \")\n",
    "\n",
    "# Capitalize the title according to the guidelines\n",
    "capitalized_title = capitalize_title(user_input)\n",
    "\n",
    "print(capitalized_title)"
   ]
  }
 ],
 "metadata": {
  "kernelspec": {
   "display_name": "Python 3",
   "language": "python",
   "name": "python3"
  },
  "language_info": {
   "codemirror_mode": {
    "name": "ipython",
    "version": 3
   },
   "file_extension": ".py",
   "mimetype": "text/x-python",
   "name": "python",
   "nbconvert_exporter": "python",
   "pygments_lexer": "ipython3",
   "version": "3.11.5"
  },
  "orig_nbformat": 4
 },
 "nbformat": 4,
 "nbformat_minor": 2
}
