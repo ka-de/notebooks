{
 "cells": [
  {
   "cell_type": "markdown",
   "metadata": {},
   "source": [
    "# A Simple Static Site Generator"
   ]
  },
  {
   "cell_type": "code",
   "execution_count": 22,
   "metadata": {},
   "outputs": [
    {
     "ename": "TemplateNotFound",
     "evalue": "template.html",
     "output_type": "error",
     "traceback": [
      "\u001b[1;31m---------------------------------------------------------------------------\u001b[0m",
      "\u001b[1;31mTemplateNotFound\u001b[0m                          Traceback (most recent call last)",
      "Cell \u001b[1;32mIn[22], line 60\u001b[0m\n\u001b[0;32m     58\u001b[0m create_content(\u001b[39m\"\u001b[39m\u001b[39mMy First Post\u001b[39m\u001b[39m\"\u001b[39m, \u001b[39m\"\u001b[39m\u001b[39mThis is the content of my first post.\u001b[39m\u001b[39m\"\u001b[39m)\n\u001b[0;32m     59\u001b[0m create_content(\u001b[39m\"\u001b[39m\u001b[39mAnother Post\u001b[39m\u001b[39m\"\u001b[39m, \u001b[39m\"\u001b[39m\u001b[39mThis is another post on my website.\u001b[39m\u001b[39m\"\u001b[39m)\n\u001b[1;32m---> 60\u001b[0m build_website()\n",
      "Cell \u001b[1;32mIn[22], line 47\u001b[0m, in \u001b[0;36mbuild_website\u001b[1;34m()\u001b[0m\n\u001b[0;32m     44\u001b[0m         \u001b[39mbreak\u001b[39;00m\n\u001b[0;32m     46\u001b[0m \u001b[39m# Load a Jinja2 template\u001b[39;00m\n\u001b[1;32m---> 47\u001b[0m template \u001b[39m=\u001b[39m template_env\u001b[39m.\u001b[39;49mget_template(\u001b[39m'\u001b[39;49m\u001b[39mtemplate.html\u001b[39;49m\u001b[39m'\u001b[39;49m)\n\u001b[0;32m     49\u001b[0m \u001b[39m# Render the template with title and HTML content\u001b[39;00m\n\u001b[0;32m     50\u001b[0m rendered_html \u001b[39m=\u001b[39m template\u001b[39m.\u001b[39mrender(title\u001b[39m=\u001b[39mtitle, content\u001b[39m=\u001b[39mhtml_content)\n",
      "File \u001b[1;32mc:\\Users\\molekule\\AppData\\Local\\Programs\\Python\\Python311\\Lib\\site-packages\\jinja2\\environment.py:1010\u001b[0m, in \u001b[0;36mEnvironment.get_template\u001b[1;34m(self, name, parent, globals)\u001b[0m\n\u001b[0;32m   1007\u001b[0m \u001b[39mif\u001b[39;00m parent \u001b[39mis\u001b[39;00m \u001b[39mnot\u001b[39;00m \u001b[39mNone\u001b[39;00m:\n\u001b[0;32m   1008\u001b[0m     name \u001b[39m=\u001b[39m \u001b[39mself\u001b[39m\u001b[39m.\u001b[39mjoin_path(name, parent)\n\u001b[1;32m-> 1010\u001b[0m \u001b[39mreturn\u001b[39;00m \u001b[39mself\u001b[39;49m\u001b[39m.\u001b[39;49m_load_template(name, \u001b[39mglobals\u001b[39;49m)\n",
      "File \u001b[1;32mc:\\Users\\molekule\\AppData\\Local\\Programs\\Python\\Python311\\Lib\\site-packages\\jinja2\\environment.py:969\u001b[0m, in \u001b[0;36mEnvironment._load_template\u001b[1;34m(self, name, globals)\u001b[0m\n\u001b[0;32m    965\u001b[0m             template\u001b[39m.\u001b[39mglobals\u001b[39m.\u001b[39mupdate(\u001b[39mglobals\u001b[39m)\n\u001b[0;32m    967\u001b[0m         \u001b[39mreturn\u001b[39;00m template\n\u001b[1;32m--> 969\u001b[0m template \u001b[39m=\u001b[39m \u001b[39mself\u001b[39;49m\u001b[39m.\u001b[39;49mloader\u001b[39m.\u001b[39;49mload(\u001b[39mself\u001b[39;49m, name, \u001b[39mself\u001b[39;49m\u001b[39m.\u001b[39;49mmake_globals(\u001b[39mglobals\u001b[39;49m))\n\u001b[0;32m    971\u001b[0m \u001b[39mif\u001b[39;00m \u001b[39mself\u001b[39m\u001b[39m.\u001b[39mcache \u001b[39mis\u001b[39;00m \u001b[39mnot\u001b[39;00m \u001b[39mNone\u001b[39;00m:\n\u001b[0;32m    972\u001b[0m     \u001b[39mself\u001b[39m\u001b[39m.\u001b[39mcache[cache_key] \u001b[39m=\u001b[39m template\n",
      "File \u001b[1;32mc:\\Users\\molekule\\AppData\\Local\\Programs\\Python\\Python311\\Lib\\site-packages\\jinja2\\loaders.py:126\u001b[0m, in \u001b[0;36mBaseLoader.load\u001b[1;34m(self, environment, name, globals)\u001b[0m\n\u001b[0;32m    122\u001b[0m     \u001b[39mglobals\u001b[39m \u001b[39m=\u001b[39m {}\n\u001b[0;32m    124\u001b[0m \u001b[39m# first we try to get the source for this template together\u001b[39;00m\n\u001b[0;32m    125\u001b[0m \u001b[39m# with the filename and the uptodate function.\u001b[39;00m\n\u001b[1;32m--> 126\u001b[0m source, filename, uptodate \u001b[39m=\u001b[39m \u001b[39mself\u001b[39;49m\u001b[39m.\u001b[39;49mget_source(environment, name)\n\u001b[0;32m    128\u001b[0m \u001b[39m# try to load the code from the bytecode cache if there is a\u001b[39;00m\n\u001b[0;32m    129\u001b[0m \u001b[39m# bytecode cache configured.\u001b[39;00m\n\u001b[0;32m    130\u001b[0m bcc \u001b[39m=\u001b[39m environment\u001b[39m.\u001b[39mbytecode_cache\n",
      "File \u001b[1;32mc:\\Users\\molekule\\AppData\\Local\\Programs\\Python\\Python311\\Lib\\site-packages\\jinja2\\loaders.py:218\u001b[0m, in \u001b[0;36mFileSystemLoader.get_source\u001b[1;34m(self, environment, template)\u001b[0m\n\u001b[0;32m    216\u001b[0m     \u001b[39m# Use normpath to convert Windows altsep to sep.\u001b[39;00m\n\u001b[0;32m    217\u001b[0m     \u001b[39mreturn\u001b[39;00m contents, os\u001b[39m.\u001b[39mpath\u001b[39m.\u001b[39mnormpath(filename), uptodate\n\u001b[1;32m--> 218\u001b[0m \u001b[39mraise\u001b[39;00m TemplateNotFound(template)\n",
      "\u001b[1;31mTemplateNotFound\u001b[0m: template.html"
     ]
    }
   ],
   "source": [
    "import os\n",
    "import shutil\n",
    "import markdown\n",
    "from jinja2 import Environment, FileSystemLoader\n",
    "\n",
    "# Create the 'content' directory if it doesn't exist\n",
    "if not os.path.exists(\"content\"):\n",
    "    os.makedirs(\"content\")\n",
    "\n",
    "# Create the 'public/static' directory if it doesn't exist\n",
    "if not os.path.exists(\"public/static\"):\n",
    "    os.makedirs(\"public/static\")\n",
    "\n",
    "# Create a Jinja2 environment with a templates folder\n",
    "template_env = Environment(loader=FileSystemLoader('../Data'))\n",
    "# Function to create a new content file\n",
    "def create_content(title, content):\n",
    "    filename = title.lower().replace(\" \", \"-\") + \".md\"\n",
    "    with open(\"content/\" + filename, \"w\") as file:\n",
    "        file.write(f\"---\\ntitle: {title}\\ndate: 2023-09-04\\n---\\n\\n{content}\")\n",
    "\n",
    "# Function to build the website\n",
    "def build_website():\n",
    "    # Clear the output directory\n",
    "    if os.path.exists(\"public\"):\n",
    "        shutil.rmtree(\"public\")\n",
    "\n",
    "    # Create the 'public' directory\n",
    "    os.makedirs(\"public\")\n",
    "\n",
    "    # Process content files and build pages\n",
    "    for filename in os.listdir(\"content\"):\n",
    "        if filename.endswith(\".md\"):\n",
    "            with open(\"content/\" + filename, \"r\") as file:\n",
    "                content = file.read()\n",
    "                # Extract metadata (e.g., title, date)\n",
    "                # Convert Markdown to HTML\n",
    "                html_content = markdown.markdown(content)\n",
    "                \n",
    "                # Extract title from metadata\n",
    "                metadata_lines = content.split('\\n')\n",
    "                for line in metadata_lines:\n",
    "                    if line.startswith(\"title:\"):\n",
    "                        title = line[len(\"title:\"):].strip()\n",
    "                        break\n",
    "\n",
    "                # Load a Jinja2 template\n",
    "                template = template_env.get_template('template.html')\n",
    "\n",
    "                # Render the template with title and HTML content\n",
    "                rendered_html = template.render(title=title, content=html_content)\n",
    "\n",
    "                # Create the HTML file in 'public' directory\n",
    "                html_filename = filename.replace(\".md\", \".html\")\n",
    "                with open(f\"public/{html_filename}\", \"w\") as html_file:\n",
    "                    html_file.write(rendered_html)\n",
    "\n",
    "# Example usage\n",
    "create_content(\"My First Post\", \"This is the content of my first post.\")\n",
    "create_content(\"Another Post\", \"This is another post on my website.\")\n",
    "build_website()"
   ]
  }
 ],
 "metadata": {
  "kernelspec": {
   "display_name": "Python 3",
   "language": "python",
   "name": "python3"
  },
  "language_info": {
   "codemirror_mode": {
    "name": "ipython",
    "version": 3
   },
   "file_extension": ".py",
   "mimetype": "text/x-python",
   "name": "python",
   "nbconvert_exporter": "python",
   "pygments_lexer": "ipython3",
   "version": "3.11.5"
  },
  "orig_nbformat": 4
 },
 "nbformat": 4,
 "nbformat_minor": 2
}
