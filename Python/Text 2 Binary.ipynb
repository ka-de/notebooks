{
 "cells": [
  {
   "cell_type": "markdown",
   "metadata": {},
   "source": [
    "# Text 2 Binary"
   ]
  },
  {
   "cell_type": "code",
   "execution_count": 2,
   "metadata": {},
   "outputs": [
    {
     "name": "stdout",
     "output_type": "stream",
     "text": [
      "Binary representation:\n",
      "01101000 01100101 01111001 00100000 01110011 01100101 01111000 01111001\n"
     ]
    }
   ],
   "source": [
    "def text_to_binary(text):\n",
    "    binary_result = ' '.join(format(ord(char), '08b') for char in text)\n",
    "    return binary_result\n",
    "\n",
    "if __name__ == \"__main__\":\n",
    "    input_text = input(\"Enter the text you want to convert to binary: \")\n",
    "    binary_text = text_to_binary(input_text)\n",
    "    print(\"Binary representation:\")\n",
    "    print(binary_text)"
   ]
  }
 ],
 "metadata": {
  "kernelspec": {
   "display_name": "Python 3",
   "language": "python",
   "name": "python3"
  },
  "language_info": {
   "codemirror_mode": {
    "name": "ipython",
    "version": 3
   },
   "file_extension": ".py",
   "mimetype": "text/x-python",
   "name": "python",
   "nbconvert_exporter": "python",
   "pygments_lexer": "ipython3",
   "version": "3.11.5"
  },
  "orig_nbformat": 4
 },
 "nbformat": 4,
 "nbformat_minor": 2
}
