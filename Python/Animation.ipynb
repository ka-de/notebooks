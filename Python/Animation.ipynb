{
 "cells": [
  {
   "cell_type": "markdown",
   "metadata": {},
   "source": [
    "# Animation\n",
    "\n",
    "This code uses Pygame to create a simple animation  of a red object moving smoothly in a circular path on a black background. The position of the object is calculated using trigonometric functions, and the animation loop continuously updates the angle to achieve the circular motion effect."
   ]
  },
  {
   "cell_type": "code",
   "execution_count": 9,
   "metadata": {},
   "outputs": [
    {
     "ename": "SystemExit",
     "evalue": "",
     "output_type": "error",
     "traceback": [
      "An exception has occurred, use %tb to see the full traceback.\n",
      "\u001b[1;31mSystemExit\u001b[0m\n"
     ]
    }
   ],
   "source": [
    "import pygame\n",
    "import sys\n",
    "import math\n",
    "\n",
    "pygame.init()\n",
    "screen = pygame.display.set_mode((400, 400))\n",
    "clock = pygame.time.Clock()\n",
    "\n",
    "# Animation Parameters\n",
    "angle = 0  # Initial angle\n",
    "angular_speed = 0.02  # Angular speed (radians per frame)\n",
    "radius = 100  # Radius of the circular path\n",
    "\n",
    "while True:\n",
    "    for event in pygame.event.get():\n",
    "        if event.type == pygame.QUIT:\n",
    "            pygame.quit()\n",
    "            sys.exit()\n",
    "\n",
    "    screen.fill((0, 0, 0))\n",
    "\n",
    "    # Calculate Position\n",
    "    x = 200 + radius * math.cos(angle)  # Calculate x-coordinate based on angle and radius\n",
    "    y = 200 + radius * math.sin(angle)  # Calculate y-coordinate based on angle and radius\n",
    "\n",
    "    # Update Angle for Animation\n",
    "    angle += angular_speed  # Increment the angle to create continuous motion\n",
    "\n",
    "    # Draw the Moving Object\n",
    "    pygame.draw.circle(screen, (255, 0, 0), (int(x), int(y)), 20)  # Draw a circle at the calculated position\n",
    "\n",
    "    pygame.display.flip()\n",
    "    clock.tick(60)  # Limit the frame rate to 60 frames per second"
   ]
  },
  {
   "cell_type": "markdown",
   "metadata": {},
   "source": [
    "1. **Initialization**: The code initializes the Pygame library, creates a 400x400 pixel display window (`screen`), and sets up a clock object to control the frame rate.\n",
    "2. **Animation Parameters**:\n",
    "    * `angle`: This variable represents the current angle along a circular path. It starts at 0 radians.\n",
    "    * `angular_speed`: This variable controls the angular speed of the animation in radians per frame. It's set to 0.02 radians per frame, determining how quickly the object moves along the circular path.\n",
    "    * `radius`: The radius of the circular path is set to 100 pixels. This defines how far the object is from the center of the screen.\n",
    "3. **Main Game Loop**:\n",
    "    The program enters an infinite loop (`while True`) that constitutes the main game loop.\n",
    "    Inside this loop, it checks for Pygame events, specifically the `pygame.QUIT` event, which allows the user to close the window and exit the program.\n",
    "4. **Screen Clearing**:\n",
    "    At the beginning of each frame, the screen is filled with a black background using `screen.fill((0, 0, 0))`. This effectively clears the previous frame.\n",
    "5. **Position Calculation**:\n",
    "    The x and y coordinates of the red object are calculated based on the current angle. These calculations use trigonometric functions:\n",
    "    * `x = 200 + radius * math.cos(angle)`: Calculates the x-coordinate based on the angle and radius.\n",
    "    * `y = 200 + radius * math.sin(angle)`: Calculates the y-coordinate based on the angle and radius.\n",
    "    These calculations effectively move the object along a circular path centered at (200, 200) on the screen.\n",
    "6. **Angle Update**:\n",
    "    The `angle` variable is updated by adding `angular_speed` to it. This continuous update of the angle results in the smooth animation of the object moving along the circular path.\n",
    "7. **Drawing the Object**:\n",
    "    The red object (a circle) is drawn on the screen at the calculated `(x, y)` position using `pygame.draw.circle`. It has a radius of 20 pixels.\n",
    "8. **Display Update and Frame Rate Control**:\n",
    "    `pygame.display.flip()` updates the display to show the changes made during the current frame.\n",
    "    `clock.tick(60)` limits the frame rate to 60 frames per second, ensuring that the animation runs at a consistent speed."
   ]
  }
 ],
 "metadata": {
  "kernelspec": {
   "display_name": "Python 3",
   "language": "python",
   "name": "python3"
  },
  "language_info": {
   "codemirror_mode": {
    "name": "ipython",
    "version": 3
   },
   "file_extension": ".py",
   "mimetype": "text/x-python",
   "name": "python",
   "nbconvert_exporter": "python",
   "pygments_lexer": "ipython3",
   "version": "3.11.5"
  },
  "orig_nbformat": 4
 },
 "nbformat": 4,
 "nbformat_minor": 2
}
