{
 "cells": [
  {
   "cell_type": "markdown",
   "metadata": {},
   "source": [
    "# Returning Lengths From Objects\n",
    "\n",
    "The following snippet demonstrates how to create a class for representing books and how to customize the behavior of the `len()` function for instances of that class."
   ]
  },
  {
   "cell_type": "code",
   "execution_count": 2,
   "metadata": {},
   "outputs": [
    {
     "name": "stdout",
     "output_type": "stream",
     "text": [
      "320\n"
     ]
    }
   ],
   "source": [
    "class Book:\n",
    "    def __init__(self, title, pages):\n",
    "        self.title = title\n",
    "        self.pages = pages\n",
    "\n",
    "    def __len__(self):\n",
    "        return self.pages\n",
    "\n",
    "book = Book('Book', 320)\n",
    "print(len(book))"
   ]
  },
  {
   "cell_type": "markdown",
   "metadata": {},
   "source": [
    "This Python code defines a class called `Book`. The `Book` class has an initializer `__init__` that takes two parameters: `title` and `pages`. It initializes two instance variables, `self.title` and `self.pages`, with the values passed as arguments.\n",
    "\n",
    "Additionally, the `Book` class defines a special method `__len__`. The `__len__` method is used to customize the behavior of the `len()` function when applied to an instance of the `Book` class. In this case, the `__len__` method returns the value of the `self.pages` attribute, which represents the number of pages in the book.\n",
    "\n",
    "After defining the `Book` class, an instance of the class named `book` is created with the title 'Book' and 320 pages. Finally, the `len()` function is called on the `book` instance, and it returns the number of pages in the book, which is 320. This value is printed to the console."
   ]
  }
 ],
 "metadata": {
  "kernelspec": {
   "display_name": "Python 3",
   "language": "python",
   "name": "python3"
  },
  "language_info": {
   "codemirror_mode": {
    "name": "ipython",
    "version": 3
   },
   "file_extension": ".py",
   "mimetype": "text/x-python",
   "name": "python",
   "nbconvert_exporter": "python",
   "pygments_lexer": "ipython3",
   "version": "3.11.5"
  },
  "orig_nbformat": 4
 },
 "nbformat": 4,
 "nbformat_minor": 2
}
