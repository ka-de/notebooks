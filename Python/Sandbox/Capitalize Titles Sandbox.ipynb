{
 "cells": [
  {
   "cell_type": "markdown",
   "metadata": {},
   "source": [
    "# Check for Proper US English Title"
   ]
  },
  {
   "cell_type": "code",
   "execution_count": 4,
   "metadata": {},
   "outputs": [
    {
     "name": "stderr",
     "output_type": "stream",
     "text": [
      "[nltk_data] Downloading package punkt to\n",
      "[nltk_data]     C:\\Users\\molekule\\AppData\\Roaming\\nltk_data...\n",
      "[nltk_data]   Package punkt is already up-to-date!\n"
     ]
    },
    {
     "name": "stdout",
     "output_type": "stream",
     "text": [
      "The title follows US English title case rules.\n"
     ]
    }
   ],
   "source": [
    "import nltk\n",
    "from nltk.tokenize import word_tokenize\n",
    "nltk.download('punkt')\n",
    "\n",
    "def validate_title(title):\n",
    "    # Tokenize the title into words\n",
    "    words = word_tokenize(title)\n",
    "\n",
    "    # Define a list of words that should not be capitalized\n",
    "    lowercase_words = ['a', 'an', 'the', 'and', 'but', 'or', 'in', 'on', 'of', 'for', 'to', 'with']\n",
    "\n",
    "    # Initialize lists to store reasons for invalidity\n",
    "    reasons = []\n",
    "\n",
    "    # Check if the first word is capitalized\n",
    "    if not words[0][0].isupper():\n",
    "        reasons.append(\"The first word is not capitalized.\")\n",
    "\n",
    "    # Check if the last word is capitalized\n",
    "    last_word_index = -1\n",
    "    while last_word_index >= -len(words) and not words[last_word_index].isalpha():\n",
    "        last_word_index -= 1\n",
    "\n",
    "    if last_word_index < -len(words) or not words[last_word_index].istitle():\n",
    "        reasons.append(\"The last word is not capitalized.\")\n",
    "\n",
    "    # Check if major words are capitalized and non-major words are not\n",
    "    for word in words[1:-1]:  # Exclude the first and last words\n",
    "        if word.lower() not in lowercase_words and not word[0].isupper():\n",
    "            reasons.append(f\"'{word}' should be capitalized.\")\n",
    "\n",
    "    if reasons:\n",
    "        return \"\\n\".join(reasons)\n",
    "    else:\n",
    "        return \"The title follows US English title case rules.\"\n",
    "\n",
    "# Input title to be checked\n",
    "input_title = input(\"Enter a title: \")\n",
    "\n",
    "result = validate_title(input_title)\n",
    "print(result)"
   ]
  },
  {
   "cell_type": "code",
   "execution_count": 5,
   "metadata": {},
   "outputs": [
    {
     "name": "stdout",
     "output_type": "stream",
     "text": [
      "The title follows US English title case rules.\n"
     ]
    }
   ],
   "source": [
    "import nltk\n",
    "from nltk.tokenize import word_tokenize\n",
    "# nltk.download('punkt')\n",
    "\n",
    "def validate_title(title):\n",
    "    # Tokenize the title into words\n",
    "    words = word_tokenize(title)\n",
    "\n",
    "    # Define a list of words that should not be capitalized\n",
    "    lowercase_words = ['a', 'an', 'the', 'and', 'but', 'or', 'in', 'on', 'of', 'for', 'to', 'with', 'A', 'In']\n",
    "\n",
    "    # Initialize lists to store reasons for invalidity\n",
    "    reasons = []\n",
    "\n",
    "    # Check if the first word is capitalized\n",
    "    if not words[0][0].isupper():\n",
    "        reasons.append(\"The first word is not capitalized.\")\n",
    "\n",
    "    # Check if the last word is capitalized\n",
    "    last_word_index = -1\n",
    "    while last_word_index >= -len(words) and not words[last_word_index].isalpha():\n",
    "        last_word_index -= 1\n",
    "\n",
    "    if last_word_index < -len(words) or not words[last_word_index].istitle():\n",
    "        reasons.append(\"The last word is not capitalized.\")\n",
    "\n",
    "    # Check if major words are capitalized and non-major words are not\n",
    "    for word in words[1:-1]:  # Exclude the first and last words\n",
    "        if word.lower() not in lowercase_words and not word[0].isupper():\n",
    "            reasons.append(f\"'{word}' should be capitalized.\")\n",
    "\n",
    "    if reasons:\n",
    "        return \"\\n\".join(reasons)\n",
    "    else:\n",
    "        return \"The title follows US English title case rules.\"\n",
    "\n",
    "# Input title to be checked\n",
    "input_title = input(\"Enter a title: \")\n",
    "\n",
    "result = validate_title(input_title)\n",
    "print(result)"
   ]
  },
  {
   "cell_type": "code",
   "execution_count": 6,
   "metadata": {},
   "outputs": [
    {
     "name": "stderr",
     "output_type": "stream",
     "text": [
      "[nltk_data] Downloading package punkt to\n",
      "[nltk_data]     C:\\Users\\molekule\\AppData\\Roaming\\nltk_data...\n",
      "[nltk_data]   Package punkt is already up-to-date!\n",
      "[nltk_data] Downloading package averaged_perceptron_tagger to\n",
      "[nltk_data]     C:\\Users\\molekule\\AppData\\Roaming\\nltk_data...\n",
      "[nltk_data]   Unzipping taggers\\averaged_perceptron_tagger.zip.\n"
     ]
    },
    {
     "name": "stdout",
     "output_type": "stream",
     "text": [
      "Not a valid English US title.\n"
     ]
    }
   ],
   "source": [
    "import nltk\n",
    "from nltk import word_tokenize, pos_tag\n",
    "\n",
    "# Download NLTK data if not already installed\n",
    "nltk.download('punkt')\n",
    "nltk.download('averaged_perceptron_tagger')\n",
    "\n",
    "def is_valid_title(title):\n",
    "    # Tokenize the input title\n",
    "    words = word_tokenize(title)\n",
    "\n",
    "    # Use NLTK to tag the parts of speech\n",
    "    pos_tags = pos_tag(words)\n",
    "\n",
    "    # Define valid title grammar rules (NN: Noun, JJ: Adjective)\n",
    "    valid_rules = [\n",
    "        ('DT', 'JJ', 'NN'),  # Valid: \"The Beautiful Day\"\n",
    "        ('DT', 'NN'),        # Valid: \"The Book\"\n",
    "        ('NN', 'IN', 'NN'),  # Valid: \"City of Angels\"\n",
    "    ]\n",
    "\n",
    "    # Check if the pos_tags match any valid rule\n",
    "    for rule in valid_rules:\n",
    "        if all(tag in pos_tags[i] for i, tag in enumerate(rule)):\n",
    "            return True\n",
    "\n",
    "    return False\n",
    "\n",
    "# Get user input\n",
    "user_input = input(\"Enter a title: \")\n",
    "\n",
    "# Check if it's a valid title\n",
    "if is_valid_title(user_input):\n",
    "    print(\"Valid English US title.\")\n",
    "else:\n",
    "    print(\"Not a valid English US title.\")"
   ]
  },
  {
   "cell_type": "code",
   "execution_count": 8,
   "metadata": {},
   "outputs": [
    {
     "name": "stderr",
     "output_type": "stream",
     "text": [
      "[nltk_data] Downloading package punkt to\n",
      "[nltk_data]     C:\\Users\\molekule\\AppData\\Roaming\\nltk_data...\n",
      "[nltk_data]   Package punkt is already up-to-date!\n",
      "[nltk_data] Downloading package averaged_perceptron_tagger to\n",
      "[nltk_data]     C:\\Users\\molekule\\AppData\\Roaming\\nltk_data...\n",
      "[nltk_data]   Package averaged_perceptron_tagger is already up-to-\n",
      "[nltk_data]       date!\n"
     ]
    },
    {
     "name": "stdout",
     "output_type": "stream",
     "text": [
      "Valid English US title.\n"
     ]
    }
   ],
   "source": [
    "import nltk\n",
    "from nltk import word_tokenize, pos_tag\n",
    "\n",
    "# Download NLTK data if not already installed\n",
    "nltk.download('punkt')\n",
    "nltk.download('averaged_perceptron_tagger')\n",
    "\n",
    "def is_valid_title(title):\n",
    "    # Tokenize the input title\n",
    "    words = word_tokenize(title)\n",
    "\n",
    "    # Use NLTK to tag the parts of speech\n",
    "    pos_tags = pos_tag(words)\n",
    "\n",
    "    # Define valid title grammar rules (NN: Noun, JJ: Adjective)\n",
    "    valid_rules = [\n",
    "        ('DT', 'JJ', 'NN'),  # Valid: \"The Beautiful Day\"\n",
    "        ('DT', 'NN'),        # Valid: \"The Book\"\n",
    "        ('NN', 'IN', 'NN'),  # Valid: \"City of Angels\"\n",
    "    ]\n",
    "\n",
    "    # Check if the pos_tags match any valid rule\n",
    "    for rule in valid_rules:\n",
    "        if all(tag in [tag for (word, tag) in pos_tags] for tag in rule):\n",
    "            return True, []\n",
    "\n",
    "    # If none of the valid rules match, determine the exact reasons for invalidity\n",
    "    reasons = []\n",
    "    for i, (word, tag) in enumerate(pos_tags):\n",
    "        valid_tags = [tag for rule in valid_rules for tag in rule]\n",
    "        if tag not in valid_tags:\n",
    "            reasons.append(f\"'{word}' (pos: {tag}) is not allowed in this context at position {i + 1}\")\n",
    "\n",
    "    return False, reasons\n",
    "\n",
    "# Get user input\n",
    "user_input = input(\"Enter a title: \")\n",
    "\n",
    "# Check if it's a valid title and get the reasons if it's not valid\n",
    "is_valid, invalid_reasons = is_valid_title(user_input)\n",
    "\n",
    "if is_valid:\n",
    "    print(\"Valid English US title.\")\n",
    "else:\n",
    "    print(\"Not a valid English US title. Reasons:\")\n",
    "    for reason in invalid_reasons:\n",
    "        print(reason)"
   ]
  },
  {
   "cell_type": "code",
   "execution_count": 9,
   "metadata": {},
   "outputs": [
    {
     "name": "stdout",
     "output_type": "stream",
     "text": [
      "Capitalized Title: Find the Most Frequently Occurring Element in a List\n"
     ]
    }
   ],
   "source": [
    "def capitalize_title(title):\n",
    "    # List of words to be lowercase (articles, short prepositions, coordinating conjunctions)\n",
    "    lowercase_words = [\"a\", \"an\", \"the\", \"and\", \"but\", \"or\", \"for\", \"in\", \"on\", \"at\"]\n",
    "\n",
    "    # Tokenize the input title\n",
    "    words = title.split()\n",
    "\n",
    "    # Capitalize the first word\n",
    "    words[0] = words[0].capitalize()\n",
    "\n",
    "    # Capitalize major words and apply lowercase rules\n",
    "    for i in range(1, len(words)):\n",
    "        if words[i].lower() not in lowercase_words:\n",
    "            words[i] = words[i].capitalize()\n",
    "        else:\n",
    "            words[i] = words[i].lower()\n",
    "\n",
    "    # Reconstruct the title with proper capitalization\n",
    "    capitalized_title = ' '.join(words)\n",
    "    \n",
    "    return capitalized_title\n",
    "\n",
    "# Get user input\n",
    "user_input = input(\"Enter a title: \")\n",
    "\n",
    "# Capitalize the title according to the guidelines\n",
    "capitalized_title = capitalize_title(user_input)\n",
    "\n",
    "print(capitalized_title)"
   ]
  }
 ],
 "metadata": {
  "kernelspec": {
   "display_name": "Python 3",
   "language": "python",
   "name": "python3"
  },
  "language_info": {
   "codemirror_mode": {
    "name": "ipython",
    "version": 3
   },
   "file_extension": ".py",
   "mimetype": "text/x-python",
   "name": "python",
   "nbconvert_exporter": "python",
   "pygments_lexer": "ipython3",
   "version": "3.11.4"
  },
  "orig_nbformat": 4
 },
 "nbformat": 4,
 "nbformat_minor": 2
}
