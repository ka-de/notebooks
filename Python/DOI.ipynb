{
 "cells": [
  {
   "cell_type": "markdown",
   "metadata": {},
   "source": [
    "# DOI\n",
    "\n",
    "A DOI, or Digital Object Identifier, is a unique alphanumeric string assigned to a digital or physical object to provide a permanent and reliable way to identify and access it on the internet. DOIs are commonly used for academic and scholarly publications, research papers, articles, datasets, and other digital content."
   ]
  },
  {
   "cell_type": "code",
   "execution_count": 5,
   "metadata": {},
   "outputs": [
    {
     "name": "stdout",
     "output_type": "stream",
     "text": [
      "Title: Cancer Statistics, 2009\n",
      "Authors: Jemal, Siegel, Ward, Hao, Xu, Thun\n",
      "Publication Date: 2009\n",
      "URL: http://dx.doi.org/10.3322/caac.20006\n"
     ]
    }
   ],
   "source": [
    "import requests\n",
    "\n",
    "# Define the DOI you want to resolve\n",
    "doi_to_resolve = \"10.3322/caac.20006\"\n",
    "# Define the CrossRef API endpoint for DOI resolution\n",
    "crossref_api_url = f\"https://api.crossref.org/works/{doi_to_resolve}\"\n",
    "\n",
    "try:\n",
    "    # Send a GET request to the CrossRef API\n",
    "    response = requests.get(crossref_api_url)\n",
    "\n",
    "    # Check if the request was successful (status code 200)\n",
    "    if response.status_code == 200:\n",
    "        # Parse the JSON response\n",
    "        data = response.json()\n",
    "\n",
    "        # Extract information from the response\n",
    "        title = data[\"message\"][\"title\"][0]\n",
    "        authors = \", \".join(author[\"family\"] for author in data[\"message\"][\"author\"])\n",
    "        publication_date = data[\"message\"][\"issued\"][\"date-parts\"][0][0]\n",
    "        URL = data[\"message\"][\"URL\"]\n",
    "\n",
    "        # Print the retrieved information\n",
    "        print(f\"Title: {title}\")\n",
    "        print(f\"Authors: {authors}\")\n",
    "        print(f\"Publication Date: {publication_date}\")\n",
    "        print(f\"URL: {URL}\")\n",
    "    else:\n",
    "        print(f\"Failed to resolve DOI. Status Code: {response.status_code}\")\n",
    "\n",
    "except Exception as e:\n",
    "    print(f\"An error occurred: {str(e)}\")"
   ]
  }
 ],
 "metadata": {
  "kernelspec": {
   "display_name": "Python 3",
   "language": "python",
   "name": "python3"
  },
  "language_info": {
   "codemirror_mode": {
    "name": "ipython",
    "version": 3
   },
   "file_extension": ".py",
   "mimetype": "text/x-python",
   "name": "python",
   "nbconvert_exporter": "python",
   "pygments_lexer": "ipython3",
   "version": "3.11.5"
  },
  "orig_nbformat": 4
 },
 "nbformat": 4,
 "nbformat_minor": 2
}
