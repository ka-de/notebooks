{
 "cells": [
  {
   "cell_type": "markdown",
   "metadata": {},
   "source": [
    "# Basics - Hello World👋🪐"
   ]
  },
  {
   "cell_type": "code",
   "execution_count": 1,
   "metadata": {},
   "outputs": [
    {
     "name": "stdout",
     "output_type": "stream",
     "text": [
      "私は バラス・ホルヴァート です。私はPythonが苦手です！\n",
      "My name is Balazs Horvath. I'm not good with Python!\n"
     ]
    }
   ],
   "source": [
    "import re\n",
    "from translate import Translator\n",
    "\n",
    "def custom_replace(text):\n",
    "    patterns = [\n",
    "        (r'is (\\w)', lambda x: 'is B'),\n",
    "        (r'(B\\w\\w\\w)', lambda x: x.group(0)[:2] + 'l' + x.group(0)[3:]),\n",
    "        (r'\\bB(\\w+)\\b', lambda x: 'B' + x.group(1) + 'z'),\n",
    "        (r'sz', 'zs'),\n",
    "        (r'\\bH(\\w*?)l', lambda x: 'H' + x.group(1) + 'r'),\n",
    "        (r'\\bH(\\w+)\\b', lambda x: 'H' + x.group(1) + 'h')\n",
    "    ]\n",
    "\n",
    "    for pattern, repl in patterns:\n",
    "        text = re.sub(pattern, repl, text)\n",
    "\n",
    "    return text\n",
    "\n",
    "japanese_text = \"私は バラス・ホルヴァート です。私はPythonが苦手です！\"\n",
    "translator = Translator(to_lang=\"en\", from_lang=\"ja\")\n",
    "translation = translator.translate(japanese_text)\n",
    "\n",
    "translation = custom_replace(translation)\n",
    "\n",
    "print(japanese_text + \"\\n\" + translation)"
   ]
  }
 ],
 "metadata": {
  "kernelspec": {
   "display_name": "Python 3",
   "language": "python",
   "name": "python3"
  },
  "language_info": {
   "codemirror_mode": {
    "name": "ipython",
    "version": 3
   },
   "file_extension": ".py",
   "mimetype": "text/x-python",
   "name": "python",
   "nbconvert_exporter": "python",
   "pygments_lexer": "ipython3",
   "version": "3.11.5"
  },
  "orig_nbformat": 4
 },
 "nbformat": 4,
 "nbformat_minor": 2
}
