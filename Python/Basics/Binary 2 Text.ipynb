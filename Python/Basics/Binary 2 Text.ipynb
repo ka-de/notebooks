{
 "cells": [
  {
   "cell_type": "markdown",
   "metadata": {},
   "source": [
    "# Binary 2 Text"
   ]
  },
  {
   "cell_type": "code",
   "execution_count": 1,
   "metadata": {},
   "outputs": [
    {
     "name": "stdout",
     "output_type": "stream",
     "text": [
      "Text representation:\n",
      "hey sexy\n"
     ]
    }
   ],
   "source": [
    "def binary_to_text(binary_text):\n",
    "    text_result = ''.join(chr(int(char, 2)) for char in binary_text.split())\n",
    "    return text_result\n",
    "\n",
    "if __name__ == \"__main__\":\n",
    "    input_binary = input(\"Enter the binary you want to convert to text: \")\n",
    "    text_result = binary_to_text(input_binary)\n",
    "    print(\"Text representation:\")\n",
    "    print(text_result)"
   ]
  }
 ],
 "metadata": {
  "kernelspec": {
   "display_name": "Python 3",
   "language": "python",
   "name": "python3"
  },
  "language_info": {
   "codemirror_mode": {
    "name": "ipython",
    "version": 3
   },
   "file_extension": ".py",
   "mimetype": "text/x-python",
   "name": "python",
   "nbconvert_exporter": "python",
   "pygments_lexer": "ipython3",
   "version": "3.11.5"
  },
  "orig_nbformat": 4
 },
 "nbformat": 4,
 "nbformat_minor": 2
}
