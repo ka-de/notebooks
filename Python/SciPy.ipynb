{
 "cells": [
  {
   "cell_type": "markdown",
   "metadata": {},
   "source": [
    "# SciPy\n",
    "\n",
    "SciPy is a powerful open-source library for scientific and technical computing in Python. It builds upon the capabilities of NumPy and provides additional functionality to tackle a wide range of scientific and engineering problems. Whether you're working on numerical integration, linear algebra, optimization, statistics, or more, SciPy offers a comprehensive toolbox of functions and sub-packages to assist you in your computational tasks.\n",
    "\n",
    "## Numerical Integration\n",
    "\n",
    "Numerical integration, also known as numerical integration or numerical quadrature, is a technique in mathematics and computational science used to approximate the definite integral of a function. The definite integral represents the area under a curve between two specified limits (the integral bounds).\n",
    "\n",
    "The primary idea behind numerical integration is to divide the region under the curve into smaller subregions, approximate the area of each subregion, and then sum these approximations to get an estimate of the total area. This is particularly useful when the integral cannot be solved analytically using traditional calculus methods.\n",
    "\n",
    "Numerical integration is widely used in various fields, including physics, engineering, computer science, and data analysis, where it's often employed to solve problems involving complex or real-world functions that lack analytical solutions. The choice of integration method depends on the function being integrated and the desired level of accuracy, they are often used in various aspects of game programming, such as physics simulations, collision detection, and animation.\n",
    "\n",
    "There are various numerical integration methods, each with its own approach to approximating the integral. Some common numerical integration techniques include:\n",
    "\n",
    "1. **Rectangular Rule (Midpoint, Left, Right)**: These methods divide the interval into subintervals and approximate the function as a constant within each subinterval. The midpoint rule uses the function's value at the midpoint of each subinterval, while the left and right rules use the function's value at the left or right endpoint of each subinterval."
   ]
  },
  {
   "cell_type": "markdown",
   "metadata": {},
   "source": [
    "1. quad_explain - Explanation of quad's usage:"
   ]
  },
  {
   "cell_type": "code",
   "execution_count": 84,
   "metadata": {},
   "outputs": [
    {
     "name": "stdout",
     "output_type": "stream",
     "text": [
      "Help on function quad in module scipy.integrate._quadpack_py:\n",
      "\n",
      "quad(func, a, b, args=(), full_output=0, epsabs=1.49e-08, epsrel=1.49e-08, limit=50, points=None, weight=None, wvar=None, wopts=None, maxp1=50, limlst=50, complex_func=False)\n",
      "    Compute a definite integral.\n",
      "    \n",
      "    Integrate func from `a` to `b` (possibly infinite interval) using a\n",
      "    technique from the Fortran library QUADPACK.\n",
      "    \n",
      "    Parameters\n",
      "    ----------\n",
      "    func : {function, scipy.LowLevelCallable}\n",
      "        A Python function or method to integrate. If `func` takes many\n",
      "        arguments, it is integrated along the axis corresponding to the\n",
      "        first argument.\n",
      "    \n",
      "        If the user desires improved integration performance, then `f` may\n",
      "        be a `scipy.LowLevelCallable` with one of the signatures::\n",
      "    \n",
      "            double func(double x)\n",
      "            double func(double x, void *user_data)\n",
      "            double func(int n, double *xx)\n",
      "            double func(int n, double *xx, void *user_data)\n",
      "    \n",
      "        The ``user_data`` is the data contained in the `scipy.LowLevelCallable`.\n",
      "        In the call forms with ``xx``,  ``n`` is the length of the ``xx``\n",
      "        array which contains ``xx[0] == x`` and the rest of the items are\n",
      "        numbers contained in the ``args`` argument of quad.\n",
      "    \n",
      "        In addition, certain ctypes call signatures are supported for\n",
      "        backward compatibility, but those should not be used in new code.\n",
      "    a : float\n",
      "        Lower limit of integration (use -numpy.inf for -infinity).\n",
      "    b : float\n",
      "        Upper limit of integration (use numpy.inf for +infinity).\n",
      "    args : tuple, optional\n",
      "        Extra arguments to pass to `func`.\n",
      "    full_output : int, optional\n",
      "        Non-zero to return a dictionary of integration information.\n",
      "        If non-zero, warning messages are also suppressed and the\n",
      "        message is appended to the output tuple.\n",
      "    complex_func : bool, optional\n",
      "        Indicate if the function's (`func`) return type is real\n",
      "        (``complex_func=False``: default) or complex (``complex_func=True``).\n",
      "        In both cases, the function's argument is real.\n",
      "        If full_output is also non-zero, the `infodict`, `message`, and\n",
      "        `explain` for the real and complex components are returned in\n",
      "        a dictionary with keys \"real output\" and \"imag output\".\n",
      "    \n",
      "    Returns\n",
      "    -------\n",
      "    y : float\n",
      "        The integral of func from `a` to `b`.\n",
      "    abserr : float\n",
      "        An estimate of the absolute error in the result.\n",
      "    infodict : dict\n",
      "        A dictionary containing additional information.\n",
      "    message\n",
      "        A convergence message.\n",
      "    explain\n",
      "        Appended only with 'cos' or 'sin' weighting and infinite\n",
      "        integration limits, it contains an explanation of the codes in\n",
      "        infodict['ierlst']\n",
      "    \n",
      "    Other Parameters\n",
      "    ----------------\n",
      "    epsabs : float or int, optional\n",
      "        Absolute error tolerance. Default is 1.49e-8. `quad` tries to obtain\n",
      "        an accuracy of ``abs(i-result) <= max(epsabs, epsrel*abs(i))``\n",
      "        where ``i`` = integral of `func` from `a` to `b`, and ``result`` is the\n",
      "        numerical approximation. See `epsrel` below.\n",
      "    epsrel : float or int, optional\n",
      "        Relative error tolerance. Default is 1.49e-8.\n",
      "        If ``epsabs <= 0``, `epsrel` must be greater than both 5e-29\n",
      "        and ``50 * (machine epsilon)``. See `epsabs` above.\n",
      "    limit : float or int, optional\n",
      "        An upper bound on the number of subintervals used in the adaptive\n",
      "        algorithm.\n",
      "    points : (sequence of floats,ints), optional\n",
      "        A sequence of break points in the bounded integration interval\n",
      "        where local difficulties of the integrand may occur (e.g.,\n",
      "        singularities, discontinuities). The sequence does not have\n",
      "        to be sorted. Note that this option cannot be used in conjunction\n",
      "        with ``weight``.\n",
      "    weight : float or int, optional\n",
      "        String indicating weighting function. Full explanation for this\n",
      "        and the remaining arguments can be found below.\n",
      "    wvar : optional\n",
      "        Variables for use with weighting functions.\n",
      "    wopts : optional\n",
      "        Optional input for reusing Chebyshev moments.\n",
      "    maxp1 : float or int, optional\n",
      "        An upper bound on the number of Chebyshev moments.\n",
      "    limlst : int, optional\n",
      "        Upper bound on the number of cycles (>=3) for use with a sinusoidal\n",
      "        weighting and an infinite end-point.\n",
      "    \n",
      "    See Also\n",
      "    --------\n",
      "    dblquad : double integral\n",
      "    tplquad : triple integral\n",
      "    nquad : n-dimensional integrals (uses `quad` recursively)\n",
      "    fixed_quad : fixed-order Gaussian quadrature\n",
      "    quadrature : adaptive Gaussian quadrature\n",
      "    odeint : ODE integrator\n",
      "    ode : ODE integrator\n",
      "    simpson : integrator for sampled data\n",
      "    romb : integrator for sampled data\n",
      "    scipy.special : for coefficients and roots of orthogonal polynomials\n",
      "    \n",
      "    Notes\n",
      "    -----\n",
      "    For valid results, the integral must converge; behavior for divergent\n",
      "    integrals is not guaranteed.\n",
      "    \n",
      "    **Extra information for quad() inputs and outputs**\n",
      "    \n",
      "    If full_output is non-zero, then the third output argument\n",
      "    (infodict) is a dictionary with entries as tabulated below. For\n",
      "    infinite limits, the range is transformed to (0,1) and the\n",
      "    optional outputs are given with respect to this transformed range.\n",
      "    Let M be the input argument limit and let K be infodict['last'].\n",
      "    The entries are:\n",
      "    \n",
      "    'neval'\n",
      "        The number of function evaluations.\n",
      "    'last'\n",
      "        The number, K, of subintervals produced in the subdivision process.\n",
      "    'alist'\n",
      "        A rank-1 array of length M, the first K elements of which are the\n",
      "        left end points of the subintervals in the partition of the\n",
      "        integration range.\n",
      "    'blist'\n",
      "        A rank-1 array of length M, the first K elements of which are the\n",
      "        right end points of the subintervals.\n",
      "    'rlist'\n",
      "        A rank-1 array of length M, the first K elements of which are the\n",
      "        integral approximations on the subintervals.\n",
      "    'elist'\n",
      "        A rank-1 array of length M, the first K elements of which are the\n",
      "        moduli of the absolute error estimates on the subintervals.\n",
      "    'iord'\n",
      "        A rank-1 integer array of length M, the first L elements of\n",
      "        which are pointers to the error estimates over the subintervals\n",
      "        with ``L=K`` if ``K<=M/2+2`` or ``L=M+1-K`` otherwise. Let I be the\n",
      "        sequence ``infodict['iord']`` and let E be the sequence\n",
      "        ``infodict['elist']``.  Then ``E[I[1]], ..., E[I[L]]`` forms a\n",
      "        decreasing sequence.\n",
      "    \n",
      "    If the input argument points is provided (i.e., it is not None),\n",
      "    the following additional outputs are placed in the output\n",
      "    dictionary. Assume the points sequence is of length P.\n",
      "    \n",
      "    'pts'\n",
      "        A rank-1 array of length P+2 containing the integration limits\n",
      "        and the break points of the intervals in ascending order.\n",
      "        This is an array giving the subintervals over which integration\n",
      "        will occur.\n",
      "    'level'\n",
      "        A rank-1 integer array of length M (=limit), containing the\n",
      "        subdivision levels of the subintervals, i.e., if (aa,bb) is a\n",
      "        subinterval of ``(pts[1], pts[2])`` where ``pts[0]`` and ``pts[2]``\n",
      "        are adjacent elements of ``infodict['pts']``, then (aa,bb) has level l\n",
      "        if ``|bb-aa| = |pts[2]-pts[1]| * 2**(-l)``.\n",
      "    'ndin'\n",
      "        A rank-1 integer array of length P+2. After the first integration\n",
      "        over the intervals (pts[1], pts[2]), the error estimates over some\n",
      "        of the intervals may have been increased artificially in order to\n",
      "        put their subdivision forward. This array has ones in slots\n",
      "        corresponding to the subintervals for which this happens.\n",
      "    \n",
      "    **Weighting the integrand**\n",
      "    \n",
      "    The input variables, *weight* and *wvar*, are used to weight the\n",
      "    integrand by a select list of functions. Different integration\n",
      "    methods are used to compute the integral with these weighting\n",
      "    functions, and these do not support specifying break points. The\n",
      "    possible values of weight and the corresponding weighting functions are.\n",
      "    \n",
      "    ==========  ===================================   =====================\n",
      "    ``weight``  Weight function used                  ``wvar``\n",
      "    ==========  ===================================   =====================\n",
      "    'cos'       cos(w*x)                              wvar = w\n",
      "    'sin'       sin(w*x)                              wvar = w\n",
      "    'alg'       g(x) = ((x-a)**alpha)*((b-x)**beta)   wvar = (alpha, beta)\n",
      "    'alg-loga'  g(x)*log(x-a)                         wvar = (alpha, beta)\n",
      "    'alg-logb'  g(x)*log(b-x)                         wvar = (alpha, beta)\n",
      "    'alg-log'   g(x)*log(x-a)*log(b-x)                wvar = (alpha, beta)\n",
      "    'cauchy'    1/(x-c)                               wvar = c\n",
      "    ==========  ===================================   =====================\n",
      "    \n",
      "    wvar holds the parameter w, (alpha, beta), or c depending on the weight\n",
      "    selected. In these expressions, a and b are the integration limits.\n",
      "    \n",
      "    For the 'cos' and 'sin' weighting, additional inputs and outputs are\n",
      "    available.\n",
      "    \n",
      "    For finite integration limits, the integration is performed using a\n",
      "    Clenshaw-Curtis method which uses Chebyshev moments. For repeated\n",
      "    calculations, these moments are saved in the output dictionary:\n",
      "    \n",
      "    'momcom'\n",
      "        The maximum level of Chebyshev moments that have been computed,\n",
      "        i.e., if ``M_c`` is ``infodict['momcom']`` then the moments have been\n",
      "        computed for intervals of length ``|b-a| * 2**(-l)``,\n",
      "        ``l=0,1,...,M_c``.\n",
      "    'nnlog'\n",
      "        A rank-1 integer array of length M(=limit), containing the\n",
      "        subdivision levels of the subintervals, i.e., an element of this\n",
      "        array is equal to l if the corresponding subinterval is\n",
      "        ``|b-a|* 2**(-l)``.\n",
      "    'chebmo'\n",
      "        A rank-2 array of shape (25, maxp1) containing the computed\n",
      "        Chebyshev moments. These can be passed on to an integration\n",
      "        over the same interval by passing this array as the second\n",
      "        element of the sequence wopts and passing infodict['momcom'] as\n",
      "        the first element.\n",
      "    \n",
      "    If one of the integration limits is infinite, then a Fourier integral is\n",
      "    computed (assuming w neq 0). If full_output is 1 and a numerical error\n",
      "    is encountered, besides the error message attached to the output tuple,\n",
      "    a dictionary is also appended to the output tuple which translates the\n",
      "    error codes in the array ``info['ierlst']`` to English messages. The\n",
      "    output information dictionary contains the following entries instead of\n",
      "    'last', 'alist', 'blist', 'rlist', and 'elist':\n",
      "    \n",
      "    'lst'\n",
      "        The number of subintervals needed for the integration (call it ``K_f``).\n",
      "    'rslst'\n",
      "        A rank-1 array of length M_f=limlst, whose first ``K_f`` elements\n",
      "        contain the integral contribution over the interval\n",
      "        ``(a+(k-1)c, a+kc)`` where ``c = (2*floor(|w|) + 1) * pi / |w|``\n",
      "        and ``k=1,2,...,K_f``.\n",
      "    'erlst'\n",
      "        A rank-1 array of length ``M_f`` containing the error estimate\n",
      "        corresponding to the interval in the same position in\n",
      "        ``infodict['rslist']``.\n",
      "    'ierlst'\n",
      "        A rank-1 integer array of length ``M_f`` containing an error flag\n",
      "        corresponding to the interval in the same position in\n",
      "        ``infodict['rslist']``.  See the explanation dictionary (last entry\n",
      "        in the output tuple) for the meaning of the codes.\n",
      "    \n",
      "    \n",
      "    **Details of QUADPACK level routines**\n",
      "    \n",
      "    `quad` calls routines from the FORTRAN library QUADPACK. This section\n",
      "    provides details on the conditions for each routine to be called and a\n",
      "    short description of each routine. The routine called depends on\n",
      "    `weight`, `points` and the integration limits `a` and `b`.\n",
      "    \n",
      "    ================  ==============  ==========  =====================\n",
      "    QUADPACK routine  `weight`        `points`    infinite bounds\n",
      "    ================  ==============  ==========  =====================\n",
      "    qagse             None            No          No\n",
      "    qagie             None            No          Yes\n",
      "    qagpe             None            Yes         No\n",
      "    qawoe             'sin', 'cos'    No          No\n",
      "    qawfe             'sin', 'cos'    No          either `a` or `b`\n",
      "    qawse             'alg*'          No          No\n",
      "    qawce             'cauchy'        No          No\n",
      "    ================  ==============  ==========  =====================\n",
      "    \n",
      "    The following provides a short desciption from [1]_ for each\n",
      "    routine.\n",
      "    \n",
      "    qagse\n",
      "        is an integrator based on globally adaptive interval\n",
      "        subdivision in connection with extrapolation, which will\n",
      "        eliminate the effects of integrand singularities of\n",
      "        several types.\n",
      "    qagie\n",
      "        handles integration over infinite intervals. The infinite range is\n",
      "        mapped onto a finite interval and subsequently the same strategy as\n",
      "        in ``QAGS`` is applied.\n",
      "    qagpe\n",
      "        serves the same purposes as QAGS, but also allows the\n",
      "        user to provide explicit information about the location\n",
      "        and type of trouble-spots i.e. the abscissae of internal\n",
      "        singularities, discontinuities and other difficulties of\n",
      "        the integrand function.\n",
      "    qawoe\n",
      "        is an integrator for the evaluation of\n",
      "        :math:`\\int^b_a \\cos(\\omega x)f(x)dx` or\n",
      "        :math:`\\int^b_a \\sin(\\omega x)f(x)dx`\n",
      "        over a finite interval [a,b], where :math:`\\omega` and :math:`f`\n",
      "        are specified by the user. The rule evaluation component is based\n",
      "        on the modified Clenshaw-Curtis technique\n",
      "    \n",
      "        An adaptive subdivision scheme is used in connection\n",
      "        with an extrapolation procedure, which is a modification\n",
      "        of that in ``QAGS`` and allows the algorithm to deal with\n",
      "        singularities in :math:`f(x)`.\n",
      "    qawfe\n",
      "        calculates the Fourier transform\n",
      "        :math:`\\int^\\infty_a \\cos(\\omega x)f(x)dx` or\n",
      "        :math:`\\int^\\infty_a \\sin(\\omega x)f(x)dx`\n",
      "        for user-provided :math:`\\omega` and :math:`f`. The procedure of\n",
      "        ``QAWO`` is applied on successive finite intervals, and convergence\n",
      "        acceleration by means of the :math:`\\varepsilon`-algorithm is applied\n",
      "        to the series of integral approximations.\n",
      "    qawse\n",
      "        approximate :math:`\\int^b_a w(x)f(x)dx`, with :math:`a < b` where\n",
      "        :math:`w(x) = (x-a)^{\\alpha}(b-x)^{\\beta}v(x)` with\n",
      "        :math:`\\alpha,\\beta > -1`, where :math:`v(x)` may be one of the\n",
      "        following functions: :math:`1`, :math:`\\log(x-a)`, :math:`\\log(b-x)`,\n",
      "        :math:`\\log(x-a)\\log(b-x)`.\n",
      "    \n",
      "        The user specifies :math:`\\alpha`, :math:`\\beta` and the type of the\n",
      "        function :math:`v`. A globally adaptive subdivision strategy is\n",
      "        applied, with modified Clenshaw-Curtis integration on those\n",
      "        subintervals which contain `a` or `b`.\n",
      "    qawce\n",
      "        compute :math:`\\int^b_a f(x) / (x-c)dx` where the integral must be\n",
      "        interpreted as a Cauchy principal value integral, for user specified\n",
      "        :math:`c` and :math:`f`. The strategy is globally adaptive. Modified\n",
      "        Clenshaw-Curtis integration is used on those intervals containing the\n",
      "        point :math:`x = c`.\n",
      "    \n",
      "    **Integration of Complex Function of a Real Variable**\n",
      "    \n",
      "    A complex valued function, :math:`f`, of a real variable can be written as\n",
      "    :math:`f = g + ih`.  Similarly, the integral of :math:`f` can be\n",
      "    written as\n",
      "    \n",
      "    .. math::\n",
      "        \\int_a^b f(x) dx = \\int_a^b g(x) dx + i\\int_a^b h(x) dx\n",
      "    \n",
      "    assuming that the integrals of :math:`g` and :math:`h` exist\n",
      "    over the inteval :math:`[a,b]` [2]_. Therefore, ``quad`` integrates\n",
      "    complex-valued functions by integrating the real and imaginary components\n",
      "    separately.\n",
      "    \n",
      "    \n",
      "    References\n",
      "    ----------\n",
      "    \n",
      "    .. [1] Piessens, Robert; de Doncker-Kapenga, Elise;\n",
      "           Überhuber, Christoph W.; Kahaner, David (1983).\n",
      "           QUADPACK: A subroutine package for automatic integration.\n",
      "           Springer-Verlag.\n",
      "           ISBN 978-3-540-12553-2.\n",
      "    \n",
      "    .. [2] McCullough, Thomas; Phillips, Keith (1973).\n",
      "           Foundations of Analysis in the Complex Plane.\n",
      "           Holt Rinehart Winston.\n",
      "           ISBN 0-03-086370-8\n",
      "    \n",
      "    Examples\n",
      "    --------\n",
      "    Calculate :math:`\\int^4_0 x^2 dx` and compare with an analytic result\n",
      "    \n",
      "    >>> from scipy import integrate\n",
      "    >>> import numpy as np\n",
      "    >>> x2 = lambda x: x**2\n",
      "    >>> integrate.quad(x2, 0, 4)\n",
      "    (21.333333333333332, 2.3684757858670003e-13)\n",
      "    >>> print(4**3 / 3.)  # analytical result\n",
      "    21.3333333333\n",
      "    \n",
      "    Calculate :math:`\\int^\\infty_0 e^{-x} dx`\n",
      "    \n",
      "    >>> invexp = lambda x: np.exp(-x)\n",
      "    >>> integrate.quad(invexp, 0, np.inf)\n",
      "    (1.0, 5.842605999138044e-11)\n",
      "    \n",
      "    Calculate :math:`\\int^1_0 a x \\,dx` for :math:`a = 1, 3`\n",
      "    \n",
      "    >>> f = lambda x, a: a*x\n",
      "    >>> y, err = integrate.quad(f, 0, 1, args=(1,))\n",
      "    >>> y\n",
      "    0.5\n",
      "    >>> y, err = integrate.quad(f, 0, 1, args=(3,))\n",
      "    >>> y\n",
      "    1.5\n",
      "    \n",
      "    Calculate :math:`\\int^1_0 x^2 + y^2 dx` with ctypes, holding\n",
      "    y parameter as 1::\n",
      "    \n",
      "        testlib.c =>\n",
      "            double func(int n, double args[n]){\n",
      "                return args[0]*args[0] + args[1]*args[1];}\n",
      "        compile to library testlib.*\n",
      "    \n",
      "    ::\n",
      "    \n",
      "       from scipy import integrate\n",
      "       import ctypes\n",
      "       lib = ctypes.CDLL('/home/.../testlib.*') #use absolute path\n",
      "       lib.func.restype = ctypes.c_double\n",
      "       lib.func.argtypes = (ctypes.c_int,ctypes.c_double)\n",
      "       integrate.quad(lib.func,0,1,(1))\n",
      "       #(1.3333333333333333, 1.4802973661668752e-14)\n",
      "       print((1.0**3/3.0 + 1.0) - (0.0**3/3.0 + 0.0)) #Analytic result\n",
      "       # 1.3333333333333333\n",
      "    \n",
      "    Be aware that pulse shapes and other sharp features as compared to the\n",
      "    size of the integration interval may not be integrated correctly using\n",
      "    this method. A simplified example of this limitation is integrating a\n",
      "    y-axis reflected step function with many zero values within the integrals\n",
      "    bounds.\n",
      "    \n",
      "    >>> y = lambda x: 1 if x<=0 else 0\n",
      "    >>> integrate.quad(y, -1, 1)\n",
      "    (1.0, 1.1102230246251565e-14)\n",
      "    >>> integrate.quad(y, -1, 100)\n",
      "    (1.0000000002199108, 1.0189464580163188e-08)\n",
      "    >>> integrate.quad(y, -1, 10000)\n",
      "    (0.0, 0.0)\n",
      "\n"
     ]
    }
   ],
   "source": [
    "import scipy.integrate as spi\n",
    "help(spi.quad)"
   ]
  },
  {
   "cell_type": "markdown",
   "metadata": {},
   "source": [
    "1. `nquad` - N-dimensional integration:"
   ]
  },
  {
   "cell_type": "code",
   "execution_count": 85,
   "metadata": {},
   "outputs": [
    {
     "name": "stdout",
     "output_type": "stream",
     "text": [
      "0.12499999999999999\n"
     ]
    }
   ],
   "source": [
    "import scipy.integrate as spi\n",
    "import numpy as np\n",
    "\n",
    "def f(x, y, z):\n",
    "    return np.prod([x, y, z])\n",
    "\n",
    "result, _ = spi.nquad(f, [(0, 1), (0, 1), (0, 1)])\n",
    "print(result)"
   ]
  },
  {
   "cell_type": "markdown",
   "metadata": {},
   "source": [
    "1. `tplquad` - Triple integration:"
   ]
  },
  {
   "cell_type": "code",
   "execution_count": 86,
   "metadata": {},
   "outputs": [
    {
     "name": "stdout",
     "output_type": "stream",
     "text": [
      "0.12499999999999999\n"
     ]
    }
   ],
   "source": [
    "import scipy.integrate as spi\n",
    "\n",
    "def f(x, y, z):\n",
    "    return x * y * z\n",
    "\n",
    "result, _ = spi.tplquad(f, 0, 1, lambda x: 0, lambda x: 1, lambda x, y: 0, lambda x, y: 1)\n",
    "print(result)"
   ]
  },
  {
   "cell_type": "markdown",
   "metadata": {},
   "source": [
    "1. `dblquad` - Double integration:"
   ]
  },
  {
   "cell_type": "code",
   "execution_count": 87,
   "metadata": {},
   "outputs": [
    {
     "name": "stdout",
     "output_type": "stream",
     "text": [
      "0.24999999999999997\n"
     ]
    }
   ],
   "source": [
    "import scipy.integrate as spi\n",
    "\n",
    "def f(x, y):\n",
    "    return x * y\n",
    "\n",
    "result, _ = spi.dblquad(f, 0, 1, lambda x: 0, lambda x: 1)\n",
    "print(result)"
   ]
  },
  {
   "cell_type": "code",
   "execution_count": 88,
   "metadata": {},
   "outputs": [
    {
     "name": "stdout",
     "output_type": "stream",
     "text": [
      "Romberg Integration Result: 0.3333333333333333\n"
     ]
    }
   ],
   "source": [
    "from scipy.integrate import romberg\n",
    "\n",
    "# Define the function to integrate\n",
    "def func(x):\n",
    "    return x**2\n",
    "\n",
    "# Define integration limits\n",
    "a, b = 0, 1\n",
    "\n",
    "# Perform Romberg integration\n",
    "result = romberg(func, a, b)\n",
    "print(\"Romberg Integration Result:\", result)"
   ]
  },
  {
   "cell_type": "code",
   "execution_count": 89,
   "metadata": {},
   "outputs": [
    {
     "name": "stdout",
     "output_type": "stream",
     "text": [
      "Fixed-Order Gaussian Quadrature Result (n=2): 0.33333333333333337\n"
     ]
    }
   ],
   "source": [
    "from scipy.integrate import fixed_quad\n",
    "\n",
    "# Define the function to integrate\n",
    "def func(x):\n",
    "    return x**2\n",
    "\n",
    "# Define integration limits\n",
    "a, b = 0, 1\n",
    "\n",
    "# Choose a fixed-order Gaussian quadrature rule (e.g., 2-point)\n",
    "n = 2\n",
    "\n",
    "# Perform fixed-order Gaussian quadrature\n",
    "result, error = fixed_quad(func, a, b, n=n)\n",
    "print(f\"Fixed-Order Gaussian Quadrature Result (n={n}):\", result)"
   ]
  },
  {
   "cell_type": "markdown",
   "metadata": {},
   "source": [
    "2. **Trapezoidal Rule**: This method approximates the curve as a series of trapezoids, with each trapezoid covering a subinterval. It calculates the area of each trapezoid and sums them to estimate the integral."
   ]
  },
  {
   "cell_type": "code",
   "execution_count": 90,
   "metadata": {},
   "outputs": [
    {
     "name": "stdout",
     "output_type": "stream",
     "text": [
      "Trapezoidal Integration Result: 0.33335033840084355\n"
     ]
    }
   ],
   "source": [
    "import numpy as np\n",
    "from scipy.integrate import trapz\n",
    "\n",
    "# Define a function (or use discrete data points)\n",
    "x = np.linspace(0, 1, 100)\n",
    "y = x**2\n",
    "\n",
    "# Perform trapezoidal integration\n",
    "result = trapz(y, x)\n",
    "print(\"Trapezoidal Integration Result:\", result)"
   ]
  },
  {
   "cell_type": "markdown",
   "metadata": {},
   "source": [
    "3. **Simpson's Rule**: This technique approximates the curve as a series of parabolic segments, using quadratic interpolation between points. It provides more accurate results than the trapezoidal rule for relatively smooth functions."
   ]
  },
  {
   "cell_type": "code",
   "execution_count": 91,
   "metadata": {},
   "outputs": [
    {
     "name": "stdout",
     "output_type": "stream",
     "text": [
      "Simpson's Rule Integration Result: 0.3333333333333333\n"
     ]
    }
   ],
   "source": [
    "import numpy as np\n",
    "from scipy.integrate import simps\n",
    "\n",
    "# Define a function (or use discrete data points)\n",
    "x = np.linspace(0, 1, 100)\n",
    "y = x**2\n",
    "\n",
    "# Perform Simpson's rule integration\n",
    "result = simps(y, x)\n",
    "print(\"Simpson's Rule Integration Result:\", result)"
   ]
  },
  {
   "cell_type": "markdown",
   "metadata": {},
   "source": [
    "4. **Gaussian Quadrature**: This is a sophisticated numerical integration method that selects specific sample points (nodes) and associated weights to provide accurate approximations for various types of functions. It can achieve high accuracy with relatively few sample points."
   ]
  },
  {
   "cell_type": "code",
   "execution_count": 92,
   "metadata": {},
   "outputs": [
    {
     "name": "stdout",
     "output_type": "stream",
     "text": [
      "Result: 0.33333333333333337\n"
     ]
    }
   ],
   "source": [
    "from scipy.integrate import quad\n",
    "\n",
    "# Define a function to integrate\n",
    "def func(x):\n",
    "    return x**2\n",
    "\n",
    "# Integrate func from 0 to 1\n",
    "result, error = quad(func, 0, 1)\n",
    "print(\"Result:\", result)"
   ]
  },
  {
   "cell_type": "markdown",
   "metadata": {},
   "source": [
    "1. Import the `quad` function, which is part of the SciPy library for numerical integration.\n",
    "2. Next, we define a simple function named func(x) that returns the square of the input value `x`.\n",
    "3. * `quad(func, 0, 1)` is the key part of the code. It calls the `quad` function to integrate `func` over the interval [0, 1].\n",
    "    * `result` stores the estimated integral value (the result of the integration).\n",
    "    * `error` stores an estimate of the absolute error in the result.\n",
    "4. Print the result of the numerical integration to the console.\n",
    "\n",
    "In this specific example, the code calculates the definite integral of the function `x^2` from 0 to 1. The result, which represents the area under the curve of the function within the specified interval, is printed to the console."
   ]
  },
  {
   "cell_type": "code",
   "execution_count": 93,
   "metadata": {},
   "outputs": [
    {
     "name": "stdout",
     "output_type": "stream",
     "text": [
      "Solution: [2. 3.]\n"
     ]
    }
   ],
   "source": [
    "from scipy.linalg import solve\n",
    "\n",
    "# Define a coefficient matrix A and a constant vector b\n",
    "A = [[3, 1], [1, 2]]\n",
    "b = [9, 8]\n",
    "\n",
    "# Solve for x in Ax = b\n",
    "x = solve(A, b)\n",
    "print(\"Solution:\", x)"
   ]
  },
  {
   "cell_type": "code",
   "execution_count": 94,
   "metadata": {},
   "outputs": [
    {
     "name": "stdout",
     "output_type": "stream",
     "text": [
      "Optimal Solution: [-1.07505143e-08 -1.07505143e-08]\n"
     ]
    }
   ],
   "source": [
    "from scipy.optimize import minimize\n",
    "\n",
    "# Define an objective function\n",
    "def objective(x):\n",
    "    return x[0]**2 + x[1]**2\n",
    "\n",
    "# Minimize the objective function\n",
    "initial_guess = [1, 1]\n",
    "result = minimize(objective, initial_guess)\n",
    "print(\"Optimal Solution:\", result.x)"
   ]
  },
  {
   "cell_type": "code",
   "execution_count": 95,
   "metadata": {},
   "outputs": [
    {
     "name": "stdout",
     "output_type": "stream",
     "text": [
      "Interpolated Values: [0.5 6.5]\n"
     ]
    }
   ],
   "source": [
    "from scipy.interpolate import interp1d\n",
    "import numpy as np\n",
    "\n",
    "# Define data points\n",
    "x = np.array([0, 1, 2, 3, 4])\n",
    "y = np.array([0, 1, 4, 9, 16])\n",
    "\n",
    "# Create an interpolation function\n",
    "f = interp1d(x, y, kind='linear')\n",
    "\n",
    "# Interpolate values at new points\n",
    "new_x = np.array([0.5, 2.5])\n",
    "interpolated_values = f(new_x)\n",
    "print(\"Interpolated Values:\", interpolated_values)"
   ]
  },
  {
   "cell_type": "code",
   "execution_count": 96,
   "metadata": {},
   "outputs": [
    {
     "name": "stdout",
     "output_type": "stream",
     "text": [
      "PDF at 0: 0.3989422804014327\n",
      "CDF at 1: 0.8413447460685429\n"
     ]
    }
   ],
   "source": [
    "from scipy.stats import norm\n",
    "\n",
    "# Create a normal distribution with mean 0 and standard deviation 1\n",
    "dist = norm(loc=0, scale=1)\n",
    "\n",
    "# Calculate the probability density function (PDF) at a specific value\n",
    "pdf_value = dist.pdf(0)\n",
    "print(\"PDF at 0:\", pdf_value)\n",
    "\n",
    "# Calculate the cumulative distribution function (CDF) at a specific value\n",
    "cdf_value = dist.cdf(1)\n",
    "print(\"CDF at 1:\", cdf_value)"
   ]
  },
  {
   "cell_type": "code",
   "execution_count": 97,
   "metadata": {},
   "outputs": [
    {
     "name": "stdout",
     "output_type": "stream",
     "text": [
      "Area under the curve: 2.00\n"
     ]
    },
    {
     "data": {
      "image/png": "[encoded data removed]",
      "text/plain": [
       "<Figure size 640x480 with 1 Axes>"
      ]
     },
     "metadata": {},
     "output_type": "display_data"
    }
   ],
   "source": [
    "import scipy.integrate as spi\n",
    "import numpy as np\n",
    "import matplotlib.pyplot as plt\n",
    "\n",
    "# Define the function representing the curve (sine wave)\n",
    "def f(x):\n",
    "    return np.sin(x)\n",
    "\n",
    "# Define the integration limits\n",
    "a = 0  # Lower limit\n",
    "b = np.pi  # Upper limit (one full period of the sine wave)\n",
    "\n",
    "# Calculate the area under the curve using quad\n",
    "area, _ = spi.quad(f, a, b)\n",
    "\n",
    "# Plot the sine wave\n",
    "x = np.linspace(0, 2 * np.pi, 1000)\n",
    "y = f(x)\n",
    "\n",
    "plt.plot(x, y, label='Sine Wave')\n",
    "plt.fill_between(x, 0, y, where=(x >= a) & (x <= b), alpha=0.5, label='Area under Curve')\n",
    "plt.legend()\n",
    "plt.xlabel('x')\n",
    "plt.ylabel('y')\n",
    "plt.title('Area under a Sine Wave')\n",
    "plt.grid(True)\n",
    "\n",
    "# Display the calculated area\n",
    "print(f\"Area under the curve: {area:.2f}\")\n",
    "\n",
    "# Show the plot\n",
    "plt.show()"
   ]
  },
  {
   "cell_type": "markdown",
   "metadata": {},
   "source": [
    "This code calculates the area under a sine wave curve between the limits of 0 and π (pi), then plots the sine wave and shades the area below it to visualize the integration result.\n",
    "\n",
    "1. It imports necessary libraries: scipy for numerical integration, numpy for mathematical operations, and matplotlib for plotting.\n",
    "2. Defines the sine wave function `f(x) = sin(x)`.\n",
    "3. Sets the integration limits `a` (lower limit) to 0 and `b` (upper limit) to π (pi), covering one full period of the sine wave.\n",
    "4. Uses the `spi.quad` function to calculate the area under the curve.\n",
    "5. Generates x-values for plotting using `np.linspace` and computes corresponding y-values using the sine function.\n",
    "6. Plots the sine wave and fills the area under the curve with shading.\n",
    "7. Adds labels, a title, and a legend to the plot.\n",
    "8. Displays the calculated area under the curve.\n",
    "9. Finally, shows the plot with the shaded area representing the integral result."
   ]
  },
  {
   "cell_type": "markdown",
   "metadata": {},
   "source": [
    "## Physics Simulation"
   ]
  },
  {
   "cell_type": "code",
   "execution_count": 98,
   "metadata": {},
   "outputs": [
    {
     "name": "stdout",
     "output_type": "stream",
     "text": [
      "Position: 0.90, Velocity: 9.02\n",
      "Position: 1.71, Velocity: 8.04\n",
      "Position: 2.41, Velocity: 7.06\n",
      "Position: 3.02, Velocity: 6.08\n",
      "Position: 3.53, Velocity: 5.10\n",
      "Position: 3.94, Velocity: 4.12\n",
      "Position: 4.26, Velocity: 3.14\n",
      "Position: 4.47, Velocity: 2.16\n",
      "Position: 4.59, Velocity: 1.18\n",
      "Position: 4.61, Velocity: 0.20\n"
     ]
    }
   ],
   "source": [
    "# Simulate object motion using integration\n",
    "def update_position(position, velocity, acceleration, time_step):\n",
    "    velocity += acceleration * time_step\n",
    "    position += velocity * time_step\n",
    "    return position, velocity\n",
    "\n",
    "# Usage\n",
    "initial_position = 0\n",
    "initial_velocity = 10\n",
    "acceleration = -9.8  # Acceleration due to gravity\n",
    "time_step = 0.1\n",
    "\n",
    "for _ in range(10):\n",
    "    initial_position, initial_velocity = update_position(initial_position, initial_velocity, acceleration, time_step)\n",
    "    print(f\"Position: {initial_position:.2f}, Velocity: {initial_velocity:.2f}\")"
   ]
  },
  {
   "cell_type": "markdown",
   "metadata": {},
   "source": [
    "Was this example unsatisfying? I guess we could demonstrate physics "
   ]
  },
  {
   "cell_type": "code",
   "execution_count": 103,
   "metadata": {},
   "outputs": [
    {
     "ename": "SystemExit",
     "evalue": "",
     "output_type": "error",
     "traceback": [
      "An exception has occurred, use %tb to see the full traceback.\n",
      "\u001b[1;31mSystemExit\u001b[0m\n"
     ]
    }
   ],
   "source": [
    "import pygame\n",
    "import sys\n",
    "\n",
    "pygame.init()\n",
    "screen = pygame.display.set_mode((400, 400))\n",
    "clock = pygame.time.Clock()\n",
    "\n",
    "# Ball properties\n",
    "ball_radius = 20\n",
    "ball_color = (255, 0, 0)\n",
    "ball_position = [100, 100]\n",
    "ball_velocity = [2, 0]  # Initial velocity in x-direction\n",
    "\n",
    "# Gravity\n",
    "gravity = 0.1\n",
    "\n",
    "while True:\n",
    "    for event in pygame.event.get():\n",
    "        if event.type == pygame.QUIT:\n",
    "            pygame.quit()\n",
    "            sys.exit()\n",
    "\n",
    "    screen.fill((0, 0, 0))\n",
    "\n",
    "    # Update ball position using integration\n",
    "    ball_velocity[1] += gravity  # Apply gravity\n",
    "    ball_position[0] += ball_velocity[0]\n",
    "    ball_position[1] += ball_velocity[1]\n",
    "\n",
    "    # Bounce when hitting the bottom\n",
    "    if ball_position[1] + ball_radius > 400:\n",
    "        ball_position[1] = 400 - ball_radius\n",
    "        ball_velocity[1] *= -0.8  # Reverse velocity and reduce it (elastic collision)\n",
    "\n",
    "    # Bounce when hitting the sides\n",
    "    if ball_position[0] + ball_radius > 400 or ball_position[0] - ball_radius < 0:\n",
    "        ball_velocity[0] *= -1  # Reverse velocity\n",
    "\n",
    "    # Draw the ball\n",
    "    pygame.draw.circle(screen, ball_color, (int(ball_position[0]), int(ball_position[1])), ball_radius)\n",
    "\n",
    "    pygame.display.flip()\n",
    "    clock.tick(60)\n"
   ]
  },
  {
   "cell_type": "markdown",
   "metadata": {},
   "source": [
    "## Collision Detection"
   ]
  },
  {
   "cell_type": "code",
   "execution_count": 112,
   "metadata": {},
   "outputs": [
    {
     "name": "stdout",
     "output_type": "stream",
     "text": [
      "Collision detected!\n"
     ]
    }
   ],
   "source": [
    "# Simple collision detection between two rectangles\n",
    "def is_collision(rect1, rect2):\n",
    "    if (rect1['x'] < rect2['x'] + rect2['width'] and\n",
    "        rect1['x'] + rect1['width'] > rect2['x'] and\n",
    "        rect1['y'] < rect2['y'] + rect2['height'] and\n",
    "        rect1['y'] + rect1['height'] > rect2['y']):\n",
    "        return True\n",
    "    return False\n",
    "\n",
    "# Example rectangles\n",
    "rect1 = {'x': 0, 'y': 0, 'width': 20, 'height': 20}\n",
    "rect2 = {'x': 10, 'y': 10, 'width': 20, 'height': 20}\n",
    "\n",
    "if is_collision(rect1, rect2):\n",
    "    print(\"Collision detected!\")"
   ]
  },
  {
   "cell_type": "code",
   "execution_count": 111,
   "metadata": {},
   "outputs": [
    {
     "ename": "SystemExit",
     "evalue": "",
     "output_type": "error",
     "traceback": [
      "An exception has occurred, use %tb to see the full traceback.\n",
      "\u001b[1;31mSystemExit\u001b[0m\n"
     ]
    },
    {
     "name": "stderr",
     "output_type": "stream",
     "text": [
      "C:\\Users\\molekule\\AppData\\Roaming\\Python\\Python311\\site-packages\\IPython\\core\\interactiveshell.py:3516: UserWarning: To exit: use 'exit', 'quit', or Ctrl-D.\n",
      "  warn(\"To exit: use 'exit', 'quit', or Ctrl-D.\", stacklevel=1)\n"
     ]
    }
   ],
   "source": [
    "import pygame\n",
    "import sys\n",
    "\n",
    "pygame.init()\n",
    "screen = pygame.display.set_mode((400, 400))\n",
    "clock = pygame.time.Clock()\n",
    "\n",
    "# Define two moving circles\n",
    "circle1 = {'x': 100, 'y': 200, 'radius': 20, 'velocity_x': 3, 'color': (255, 0, 0)}\n",
    "circle2 = {'x': 300, 'y': 200, 'radius': 20, 'velocity_x': -2, 'color': (0, 0, 255)}\n",
    "\n",
    "# Integration time step (adjust as needed)\n",
    "time_step = 0.1\n",
    "\n",
    "running = True\n",
    "\n",
    "while running:\n",
    "    for event in pygame.event.get():\n",
    "        if event.type == pygame.QUIT:\n",
    "            running = False\n",
    "\n",
    "    screen.fill((0, 0, 0))\n",
    "\n",
    "    # Update positions using integration\n",
    "    circle1['x'] += circle1['velocity_x'] * time_step\n",
    "    circle2['x'] += circle2['velocity_x'] * time_step\n",
    "\n",
    "    # Check for collision using integration (time-of-impact)\n",
    "    distance = abs(circle1['x'] - circle2['x'])\n",
    "    combined_radii = circle1['radius'] + circle2['radius']\n",
    "\n",
    "    if distance <= combined_radii:\n",
    "        # Collision detected, perform collision response\n",
    "        circle1['velocity_x'], circle2['velocity_x'] = circle2['velocity_x'], circle1['velocity_x']\n",
    "\n",
    "    # Draw circles\n",
    "    pygame.draw.circle(screen, circle1['color'], (int(circle1['x']), int(circle1['y'])), circle1['radius'])\n",
    "    pygame.draw.circle(screen, circle2['color'], (int(circle2['x']), int(circle2['y'])), circle2['radius'])\n",
    "\n",
    "    pygame.display.flip()\n",
    "    clock.tick(60)\n",
    "\n",
    "pygame.quit()\n",
    "sys.exit()"
   ]
  },
  {
   "cell_type": "markdown",
   "metadata": {},
   "source": [
    "1. Imports the necessary modules\n",
    "2. Initializes Pygame and create a window.\n",
    "3. Sets up a clock for controlling the frame rate.\n",
    "4. Defines two circle objects with initial positions, radii, velocities, and colors.\n",
    "    * `x` and `y` are the initial positions of the circles.\n",
    "    * `radius` defines the radius of each circle.\n",
    "    * `velocity_x` represents the initial velocity in the x-direction.\n",
    "    * `color` determines the color of the circles (as an RGB tuple).\n",
    "5. Sets the integration time step (time_step) to control how frequently positions and collisions are calculated. Adjust this value as needed:"
   ]
  },
  {
   "cell_type": "code",
   "execution_count": 123,
   "metadata": {},
   "outputs": [
    {
     "ename": "SystemExit",
     "evalue": "",
     "output_type": "error",
     "traceback": [
      "An exception has occurred, use %tb to see the full traceback.\n",
      "\u001b[1;31mSystemExit\u001b[0m\n"
     ]
    }
   ],
   "source": [
    "import pygame\n",
    "import sys\n",
    "\n",
    "# Pygame initialization\n",
    "pygame.init()\n",
    "screen = pygame.display.set_mode((400, 400))\n",
    "clock = pygame.time.Clock()\n",
    "\n",
    "# Circle parameters\n",
    "circle_radius = 20\n",
    "circle_color1 = (255, 0, 0)\n",
    "circle_color2 = (0, 0, 255)\n",
    "\n",
    "# Initial circle positions\n",
    "x_circle1 = 100\n",
    "x_circle2 = 300\n",
    "\n",
    "# Initial circle velocities\n",
    "velocity_circle1 = 3  # Replace with your velocity value\n",
    "velocity_circle2 = -2  # Replace with your velocity value\n",
    "\n",
    "# Game loop\n",
    "running = True\n",
    "\n",
    "while running:\n",
    "    for event in pygame.event.get():\n",
    "        if event.type == pygame.QUIT:\n",
    "            running = False\n",
    "\n",
    "    screen.fill((0, 0, 0))\n",
    "\n",
    "    # Update circle positions\n",
    "    x_circle1 += velocity_circle1\n",
    "    x_circle2 += velocity_circle2\n",
    "\n",
    "    # Check for collision\n",
    "    distance = abs(x_circle1 - x_circle2)\n",
    "    combined_radii = 2 * circle_radius  # Sum of radii of both circles\n",
    "\n",
    "    if distance <= combined_radii:\n",
    "        # Collision detected, reverse velocities\n",
    "        velocity_circle1 *= -1\n",
    "        velocity_circle2 *= -1\n",
    "\n",
    "    # Draw circles at their current positions\n",
    "    pygame.draw.circle(screen, circle_color1, (int(x_circle1), 200), circle_radius)\n",
    "    pygame.draw.circle(screen, circle_color2, (int(x_circle2), 200), circle_radius)\n",
    "\n",
    "    pygame.display.flip()\n",
    "    clock.tick(60)\n",
    "\n",
    "pygame.quit()\n",
    "sys.exit()"
   ]
  },
  {
   "cell_type": "code",
   "execution_count": 145,
   "metadata": {},
   "outputs": [
    {
     "ename": "KeyboardInterrupt",
     "evalue": "",
     "output_type": "error",
     "traceback": [
      "\u001b[1;31m---------------------------------------------------------------------------\u001b[0m",
      "\u001b[1;31mKeyboardInterrupt\u001b[0m                         Traceback (most recent call last)",
      "Cell \u001b[1;32mIn[145], line 70\u001b[0m\n\u001b[0;32m     67\u001b[0m     screen\u001b[39m.\u001b[39mblit(debug_surface, (\u001b[39m10\u001b[39m, \u001b[39m10\u001b[39m))\n\u001b[0;32m     69\u001b[0m     pygame\u001b[39m.\u001b[39mdisplay\u001b[39m.\u001b[39mflip()\n\u001b[1;32m---> 70\u001b[0m     clock\u001b[39m.\u001b[39;49mtick(\u001b[39m60\u001b[39;49m)\n\u001b[0;32m     72\u001b[0m pygame\u001b[39m.\u001b[39mquit()\n",
      "\u001b[1;31mKeyboardInterrupt\u001b[0m: "
     ]
    }
   ],
   "source": [
    "import pygame\n",
    "import numpy as np\n",
    "from scipy.integrate import odeint\n",
    "\n",
    "# Pygame initialization\n",
    "pygame.init()\n",
    "screen = pygame.display.set_mode((800, 600))\n",
    "clock = pygame.time.Clock()\n",
    "\n",
    "# Circle parameters\n",
    "circle_radius = 20\n",
    "circle_color1 = (255, 0, 0)\n",
    "circle_color2 = (0, 0, 255)\n",
    "\n",
    "# Define the equations of motion for two objects\n",
    "def equations_of_motion(obj_state, t, velocity):\n",
    "    x, v = obj_state\n",
    "    dxdt = v\n",
    "    return [dxdt, 0]  # Horizontal motion only, no acceleration\n",
    "\n",
    "# Initial conditions\n",
    "initial_state_obj1 = [100, 5]  # Initial position and velocity of object 1\n",
    "initial_state_obj2 = [300, -2]  # Initial position and velocity of object 2\n",
    "\n",
    "# Initialize velocities\n",
    "velocity_obj1 = 5\n",
    "velocity_obj2 = -2\n",
    "\n",
    "# Font for debug text\n",
    "font = pygame.font.Font(None, 24)  # Smaller font size\n",
    "\n",
    "# Game loop\n",
    "running = True\n",
    "\n",
    "while running:\n",
    "    for event in pygame.event.get():\n",
    "        if event.type == pygame.QUIT:\n",
    "            running = False\n",
    "\n",
    "    screen.fill((0, 0, 0))\n",
    "\n",
    "    # Integrate the equations of motion for both objects\n",
    "    t = np.linspace(0, 0.1, 2)  # Small time step for real-time updates\n",
    "    result_obj1 = odeint(equations_of_motion, initial_state_obj1, t, args=(velocity_obj1,))\n",
    "    result_obj2 = odeint(equations_of_motion, initial_state_obj2, t, args=(velocity_obj2,))\n",
    "\n",
    "    # Calculate the distance between the centers of the circles\n",
    "    distance = abs(result_obj1[1, 0] - result_obj2[1, 0])\n",
    "\n",
    "    # Check for collision based on the sum of radii\n",
    "    if distance <= 2 * circle_radius:\n",
    "        # Collision detected, reverse velocities\n",
    "        velocity_obj1 *= -1\n",
    "        velocity_obj2 *= -1\n",
    "\n",
    "    # Update the positions of the circles based on integration results\n",
    "    initial_state_obj1[0] = result_obj1[-1, 0]\n",
    "    initial_state_obj2[0] = result_obj2[-1, 0]\n",
    "\n",
    "    # Draw circles at their current positions\n",
    "    pygame.draw.circle(screen, circle_color1, (int(result_obj1[1, 0]), 300), circle_radius)\n",
    "    pygame.draw.circle(screen, circle_color2, (int(result_obj2[1, 0]), 300), circle_radius)\n",
    "\n",
    "    # Display debug information on the screen\n",
    "    debug_text = f\"Distance: {distance:.2f}, Pos 1: {result_obj1[1, 0]:.2f}, Pos 2: {result_obj2[1, 0]:.2f}\"\n",
    "    debug_surface = font.render(debug_text, True, (255, 255, 255))\n",
    "    screen.blit(debug_surface, (10, 10))\n",
    "\n",
    "    pygame.display.flip()\n",
    "    clock.tick(60)\n",
    "\n",
    "pygame.quit()"
   ]
  }
 ],
 "metadata": {
  "kernelspec": {
   "display_name": "Python 3",
   "language": "python",
   "name": "python3"
  },
  "language_info": {
   "codemirror_mode": {
    "name": "ipython",
    "version": 3
   },
   "file_extension": ".py",
   "mimetype": "text/x-python",
   "name": "python",
   "nbconvert_exporter": "python",
   "pygments_lexer": "ipython3",
   "version": "3.11.5"
  },
  "orig_nbformat": 4
 },
 "nbformat": 4,
 "nbformat_minor": 2
}
