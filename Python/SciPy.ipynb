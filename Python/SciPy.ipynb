{
 "cells": [
  {
   "cell_type": "markdown",
   "metadata": {},
   "source": [
    "# SciPy\n",
    "\n",
    "SciPy is a powerful open-source library for scientific and technical computing in Python. It builds upon the capabilities of NumPy and provides additional functionality to tackle a wide range of scientific and engineering problems. Whether you're working on numerical integration, linear algebra, optimization, statistics, or more, SciPy offers a comprehensive toolbox of functions and sub-packages to assist you in your computational tasks.\n",
    "\n",
    "## Numerical Integration\n",
    "\n",
    "Numerical integration, also known as numerical integration or numerical quadrature, is a technique in mathematics and computational science used to approximate the definite integral of a function. The definite integral represents the area under a curve between two specified limits (the integral bounds).\n",
    "\n",
    "The primary idea behind numerical integration is to divide the region under the curve into smaller subregions, approximate the area of each subregion, and then sum these approximations to get an estimate of the total area. This is particularly useful when the integral cannot be solved analytically using traditional calculus methods.\n",
    "\n",
    "There are various numerical integration methods, each with its own approach to approximating the integral. Some common numerical integration techniques include:\n",
    "\n",
    "1. **Rectangular Rule (Midpoint, Left, Right)**: These methods divide the interval into subintervals and approximate the function as a constant within each subinterval. The midpoint rule uses the function's value at the midpoint of each subinterval, while the left and right rules use the function's value at the left or right endpoint of each subinterval.\n",
    "\n",
    "3. **Simpson's Rule**: This technique approximates the curve as a series of parabolic segments, using quadratic interpolation between points. It provides more accurate results than the trapezoidal rule for relatively smooth functions.\n",
    "\n",
    "\n",
    "Numerical integration is widely used in various fields, including physics, engineering, computer science, and data analysis, where it's often employed to solve problems involving complex or real-world functions that lack analytical solutions. The choice of integration method depends on the function being integrated and the desired level of accuracy.\n",
    "\n",
    "SciPy simplifies the process of numerical integration, allowing you to compute definite integrals efficiently with the quad function."
   ]
  },
  {
   "cell_type": "markdown",
   "metadata": {},
   "source": [
    "2. **Trapezoidal Rule**: This method approximates the curve as a series of trapezoids, with each trapezoid covering a subinterval. It calculates the area of each trapezoid and sums them to estimate the integral."
   ]
  },
  {
   "cell_type": "code",
   "execution_count": 10,
   "metadata": {},
   "outputs": [
    {
     "name": "stdout",
     "output_type": "stream",
     "text": [
      "Trapezoidal Integration Result: 0.33335033840084355\n"
     ]
    }
   ],
   "source": [
    "import numpy as np\n",
    "from scipy.integrate import trapz\n",
    "\n",
    "# Define a function (or use discrete data points)\n",
    "x = np.linspace(0, 1, 100)\n",
    "y = x**2\n",
    "\n",
    "# Perform trapezoidal integration\n",
    "result = trapz(y, x)\n",
    "print(\"Trapezoidal Integration Result:\", result)"
   ]
  },
  {
   "cell_type": "markdown",
   "metadata": {},
   "source": [
    "4. **Gaussian Quadrature**: This is a sophisticated numerical integration method that selects specific sample points (nodes) and associated weights to provide accurate approximations for various types of functions. It can achieve high accuracy with relatively few sample points."
   ]
  },
  {
   "cell_type": "code",
   "execution_count": 5,
   "metadata": {},
   "outputs": [
    {
     "name": "stdout",
     "output_type": "stream",
     "text": [
      "Result: 0.33333333333333337\n"
     ]
    }
   ],
   "source": [
    "from scipy.integrate import quad\n",
    "\n",
    "# Define a function to integrate\n",
    "def func(x):\n",
    "    return x**2\n",
    "\n",
    "# Integrate func from 0 to 1\n",
    "result, error = quad(func, 0, 1)\n",
    "print(\"Result:\", result)"
   ]
  },
  {
   "cell_type": "markdown",
   "metadata": {},
   "source": [
    "1. Import the `quad` function, which is part of the SciPy library for numerical integration.\n",
    "2. Next, we define a simple function named func(x) that returns the square of the input value `x`.\n",
    "3. * `quad(func, 0, 1)` is the key part of the code. It calls the `quad` function to integrate `func` over the interval [0, 1].\n",
    "    * `result` stores the estimated integral value (the result of the integration).\n",
    "    * `error` stores an estimate of the absolute error in the result.\n",
    "4. Print the result of the numerical integration to the console.\n",
    "\n",
    "In this specific example, the code calculates the definite integral of the function `x^2` from 0 to 1. The result, which represents the area under the curve of the function within the specified interval, is printed to the console."
   ]
  },
  {
   "cell_type": "code",
   "execution_count": 6,
   "metadata": {},
   "outputs": [
    {
     "name": "stdout",
     "output_type": "stream",
     "text": [
      "Solution: [2. 3.]\n"
     ]
    }
   ],
   "source": [
    "from scipy.linalg import solve\n",
    "\n",
    "# Define a coefficient matrix A and a constant vector b\n",
    "A = [[3, 1], [1, 2]]\n",
    "b = [9, 8]\n",
    "\n",
    "# Solve for x in Ax = b\n",
    "x = solve(A, b)\n",
    "print(\"Solution:\", x)"
   ]
  },
  {
   "cell_type": "code",
   "execution_count": 7,
   "metadata": {},
   "outputs": [
    {
     "name": "stdout",
     "output_type": "stream",
     "text": [
      "Optimal Solution: [-1.07505143e-08 -1.07505143e-08]\n"
     ]
    }
   ],
   "source": [
    "from scipy.optimize import minimize\n",
    "\n",
    "# Define an objective function\n",
    "def objective(x):\n",
    "    return x[0]**2 + x[1]**2\n",
    "\n",
    "# Minimize the objective function\n",
    "initial_guess = [1, 1]\n",
    "result = minimize(objective, initial_guess)\n",
    "print(\"Optimal Solution:\", result.x)"
   ]
  },
  {
   "cell_type": "code",
   "execution_count": 8,
   "metadata": {},
   "outputs": [
    {
     "name": "stdout",
     "output_type": "stream",
     "text": [
      "Interpolated Values: [0.5 6.5]\n"
     ]
    }
   ],
   "source": [
    "from scipy.interpolate import interp1d\n",
    "import numpy as np\n",
    "\n",
    "# Define data points\n",
    "x = np.array([0, 1, 2, 3, 4])\n",
    "y = np.array([0, 1, 4, 9, 16])\n",
    "\n",
    "# Create an interpolation function\n",
    "f = interp1d(x, y, kind='linear')\n",
    "\n",
    "# Interpolate values at new points\n",
    "new_x = np.array([0.5, 2.5])\n",
    "interpolated_values = f(new_x)\n",
    "print(\"Interpolated Values:\", interpolated_values)"
   ]
  },
  {
   "cell_type": "code",
   "execution_count": 9,
   "metadata": {},
   "outputs": [
    {
     "name": "stdout",
     "output_type": "stream",
     "text": [
      "PDF at 0: 0.3989422804014327\n",
      "CDF at 1: 0.8413447460685429\n"
     ]
    }
   ],
   "source": [
    "from scipy.stats import norm\n",
    "\n",
    "# Create a normal distribution with mean 0 and standard deviation 1\n",
    "dist = norm(loc=0, scale=1)\n",
    "\n",
    "# Calculate the probability density function (PDF) at a specific value\n",
    "pdf_value = dist.pdf(0)\n",
    "print(\"PDF at 0:\", pdf_value)\n",
    "\n",
    "# Calculate the cumulative distribution function (CDF) at a specific value\n",
    "cdf_value = dist.cdf(1)\n",
    "print(\"CDF at 1:\", cdf_value)"
   ]
  }
 ],
 "metadata": {
  "kernelspec": {
   "display_name": "Python 3",
   "language": "python",
   "name": "python3"
  },
  "language_info": {
   "codemirror_mode": {
    "name": "ipython",
    "version": 3
   },
   "file_extension": ".py",
   "mimetype": "text/x-python",
   "name": "python",
   "nbconvert_exporter": "python",
   "pygments_lexer": "ipython3",
   "version": "3.11.5"
  },
  "orig_nbformat": 4
 },
 "nbformat": 4,
 "nbformat_minor": 2
}
