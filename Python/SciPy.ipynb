{
 "cells": [
  {
   "cell_type": "markdown",
   "metadata": {},
   "source": [
    "# SciPy\n",
    "\n",
    "SciPy is a powerful open-source library for scientific and technical computing in Python. It builds upon the capabilities of NumPy and provides additional functionality to tackle a wide range of scientific and engineering problems. Whether you're working on numerical integration, linear algebra, optimization, statistics, or more, SciPy offers a comprehensive toolbox of functions and sub-packages to assist you in your computational tasks.\n",
    "\n",
    "## Numerical Integration\n",
    "\n",
    "Numerical integration, also known as numerical integration or numerical quadrature, is a technique in mathematics and computational science used to approximate the definite integral of a function. The definite integral represents the area under a curve between two specified limits (the integral bounds).\n",
    "\n",
    "The primary idea behind numerical integration is to divide the region under the curve into smaller subregions, approximate the area of each subregion, and then sum these approximations to get an estimate of the total area. This is particularly useful when the integral cannot be solved analytically using traditional calculus methods.\n",
    "\n",
    "Numerical integration is widely used in various fields, including physics, engineering, computer science, and data analysis, where it's often employed to solve problems involving complex or real-world functions that lack analytical solutions. The choice of integration method depends on the function being integrated and the desired level of accuracy, they are often used in various aspects of game programming, such as physics simulations, collision detection, and animation.\n",
    "\n",
    "There are various numerical integration methods, each with its own approach to approximating the integral. Some common numerical integration techniques include:\n",
    "\n",
    "1. **Rectangular Rule (Midpoint, Left, Right)**: These methods divide the interval into subintervals and approximate the function as a constant within each subinterval. The midpoint rule uses the function's value at the midpoint of each subinterval, while the left and right rules use the function's value at the left or right endpoint of each subinterval."
   ]
  },
  {
   "cell_type": "markdown",
   "metadata": {},
   "source": [
    "1. quad_explain - Explanation of quad's usage:"
   ]
  },
  {
   "cell_type": "code",
   "execution_count": null,
   "metadata": {},
   "outputs": [],
   "source": [
    "import scipy.integrate as spi\n",
    "help(spi.quad)"
   ]
  },
  {
   "cell_type": "markdown",
   "metadata": {},
   "source": [
    "1. `nquad` - N-dimensional integration:"
   ]
  },
  {
   "cell_type": "code",
   "execution_count": 85,
   "metadata": {},
   "outputs": [
    {
     "name": "stdout",
     "output_type": "stream",
     "text": [
      "0.12499999999999999\n"
     ]
    }
   ],
   "source": [
    "import scipy.integrate as spi\n",
    "import numpy as np\n",
    "\n",
    "def f(x, y, z):\n",
    "    return np.prod([x, y, z])\n",
    "\n",
    "result, _ = spi.nquad(f, [(0, 1), (0, 1), (0, 1)])\n",
    "print(result)"
   ]
  },
  {
   "cell_type": "markdown",
   "metadata": {},
   "source": [
    "1. `tplquad` - Triple integration:"
   ]
  },
  {
   "cell_type": "code",
   "execution_count": 86,
   "metadata": {},
   "outputs": [
    {
     "name": "stdout",
     "output_type": "stream",
     "text": [
      "0.12499999999999999\n"
     ]
    }
   ],
   "source": [
    "import scipy.integrate as spi\n",
    "\n",
    "def f(x, y, z):\n",
    "    return x * y * z\n",
    "\n",
    "result, _ = spi.tplquad(f, 0, 1, lambda x: 0, lambda x: 1, lambda x, y: 0, lambda x, y: 1)\n",
    "print(result)"
   ]
  },
  {
   "cell_type": "markdown",
   "metadata": {},
   "source": [
    "1. `dblquad` - Double integration:"
   ]
  },
  {
   "cell_type": "code",
   "execution_count": 87,
   "metadata": {},
   "outputs": [
    {
     "name": "stdout",
     "output_type": "stream",
     "text": [
      "0.24999999999999997\n"
     ]
    }
   ],
   "source": [
    "import scipy.integrate as spi\n",
    "\n",
    "def f(x, y):\n",
    "    return x * y\n",
    "\n",
    "result, _ = spi.dblquad(f, 0, 1, lambda x: 0, lambda x: 1)\n",
    "print(result)"
   ]
  },
  {
   "cell_type": "code",
   "execution_count": 88,
   "metadata": {},
   "outputs": [
    {
     "name": "stdout",
     "output_type": "stream",
     "text": [
      "Romberg Integration Result: 0.3333333333333333\n"
     ]
    }
   ],
   "source": [
    "from scipy.integrate import romberg\n",
    "\n",
    "# Define the function to integrate\n",
    "def func(x):\n",
    "    return x**2\n",
    "\n",
    "# Define integration limits\n",
    "a, b = 0, 1\n",
    "\n",
    "# Perform Romberg integration\n",
    "result = romberg(func, a, b)\n",
    "print(\"Romberg Integration Result:\", result)"
   ]
  },
  {
   "cell_type": "code",
   "execution_count": 89,
   "metadata": {},
   "outputs": [
    {
     "name": "stdout",
     "output_type": "stream",
     "text": [
      "Fixed-Order Gaussian Quadrature Result (n=2): 0.33333333333333337\n"
     ]
    }
   ],
   "source": [
    "from scipy.integrate import fixed_quad\n",
    "\n",
    "# Define the function to integrate\n",
    "def func(x):\n",
    "    return x**2\n",
    "\n",
    "# Define integration limits\n",
    "a, b = 0, 1\n",
    "\n",
    "# Choose a fixed-order Gaussian quadrature rule (e.g., 2-point)\n",
    "n = 2\n",
    "\n",
    "# Perform fixed-order Gaussian quadrature\n",
    "result, error = fixed_quad(func, a, b, n=n)\n",
    "print(f\"Fixed-Order Gaussian Quadrature Result (n={n}):\", result)"
   ]
  },
  {
   "cell_type": "markdown",
   "metadata": {},
   "source": [
    "2. **Trapezoidal Rule**: This method approximates the curve as a series of trapezoids, with each trapezoid covering a subinterval. It calculates the area of each trapezoid and sums them to estimate the integral."
   ]
  },
  {
   "cell_type": "code",
   "execution_count": 90,
   "metadata": {},
   "outputs": [
    {
     "name": "stdout",
     "output_type": "stream",
     "text": [
      "Trapezoidal Integration Result: 0.33335033840084355\n"
     ]
    }
   ],
   "source": [
    "import numpy as np\n",
    "from scipy.integrate import trapz\n",
    "\n",
    "# Define a function (or use discrete data points)\n",
    "x = np.linspace(0, 1, 100)\n",
    "y = x**2\n",
    "\n",
    "# Perform trapezoidal integration\n",
    "result = trapz(y, x)\n",
    "print(\"Trapezoidal Integration Result:\", result)"
   ]
  },
  {
   "cell_type": "markdown",
   "metadata": {},
   "source": [
    "3. **Simpson's Rule**: This technique approximates the curve as a series of parabolic segments, using quadratic interpolation between points. It provides more accurate results than the trapezoidal rule for relatively smooth functions."
   ]
  },
  {
   "cell_type": "code",
   "execution_count": 91,
   "metadata": {},
   "outputs": [
    {
     "name": "stdout",
     "output_type": "stream",
     "text": [
      "Simpson's Rule Integration Result: 0.3333333333333333\n"
     ]
    }
   ],
   "source": [
    "import numpy as np\n",
    "from scipy.integrate import simps\n",
    "\n",
    "# Define a function (or use discrete data points)\n",
    "x = np.linspace(0, 1, 100)\n",
    "y = x**2\n",
    "\n",
    "# Perform Simpson's rule integration\n",
    "result = simps(y, x)\n",
    "print(\"Simpson's Rule Integration Result:\", result)"
   ]
  },
  {
   "cell_type": "markdown",
   "metadata": {},
   "source": [
    "4. **Gaussian Quadrature**: This is a sophisticated numerical integration method that selects specific sample points (nodes) and associated weights to provide accurate approximations for various types of functions. It can achieve high accuracy with relatively few sample points."
   ]
  },
  {
   "cell_type": "code",
   "execution_count": 92,
   "metadata": {},
   "outputs": [
    {
     "name": "stdout",
     "output_type": "stream",
     "text": [
      "Result: 0.33333333333333337\n"
     ]
    }
   ],
   "source": [
    "from scipy.integrate import quad\n",
    "\n",
    "# Define a function to integrate\n",
    "def func(x):\n",
    "    return x**2\n",
    "\n",
    "# Integrate func from 0 to 1\n",
    "result, error = quad(func, 0, 1)\n",
    "print(\"Result:\", result)"
   ]
  },
  {
   "cell_type": "markdown",
   "metadata": {},
   "source": [
    "1. Import the `quad` function, which is part of the SciPy library for numerical integration.\n",
    "2. Next, we define a simple function named func(x) that returns the square of the input value `x`.\n",
    "3. * `quad(func, 0, 1)` is the key part of the code. It calls the `quad` function to integrate `func` over the interval [0, 1].\n",
    "    * `result` stores the estimated integral value (the result of the integration).\n",
    "    * `error` stores an estimate of the absolute error in the result.\n",
    "4. Print the result of the numerical integration to the console.\n",
    "\n",
    "In this specific example, the code calculates the definite integral of the function `x^2` from 0 to 1. The result, which represents the area under the curve of the function within the specified interval, is printed to the console."
   ]
  },
  {
   "cell_type": "code",
   "execution_count": 93,
   "metadata": {},
   "outputs": [
    {
     "name": "stdout",
     "output_type": "stream",
     "text": [
      "Solution: [2. 3.]\n"
     ]
    }
   ],
   "source": [
    "from scipy.linalg import solve\n",
    "\n",
    "# Define a coefficient matrix A and a constant vector b\n",
    "A = [[3, 1], [1, 2]]\n",
    "b = [9, 8]\n",
    "\n",
    "# Solve for x in Ax = b\n",
    "x = solve(A, b)\n",
    "print(\"Solution:\", x)"
   ]
  },
  {
   "cell_type": "code",
   "execution_count": 94,
   "metadata": {},
   "outputs": [
    {
     "name": "stdout",
     "output_type": "stream",
     "text": [
      "Optimal Solution: [-1.07505143e-08 -1.07505143e-08]\n"
     ]
    }
   ],
   "source": [
    "from scipy.optimize import minimize\n",
    "\n",
    "# Define an objective function\n",
    "def objective(x):\n",
    "    return x[0]**2 + x[1]**2\n",
    "\n",
    "# Minimize the objective function\n",
    "initial_guess = [1, 1]\n",
    "result = minimize(objective, initial_guess)\n",
    "print(\"Optimal Solution:\", result.x)"
   ]
  },
  {
   "cell_type": "code",
   "execution_count": 95,
   "metadata": {},
   "outputs": [
    {
     "name": "stdout",
     "output_type": "stream",
     "text": [
      "Interpolated Values: [0.5 6.5]\n"
     ]
    }
   ],
   "source": [
    "from scipy.interpolate import interp1d\n",
    "import numpy as np\n",
    "\n",
    "# Define data points\n",
    "x = np.array([0, 1, 2, 3, 4])\n",
    "y = np.array([0, 1, 4, 9, 16])\n",
    "\n",
    "# Create an interpolation function\n",
    "f = interp1d(x, y, kind='linear')\n",
    "\n",
    "# Interpolate values at new points\n",
    "new_x = np.array([0.5, 2.5])\n",
    "interpolated_values = f(new_x)\n",
    "print(\"Interpolated Values:\", interpolated_values)"
   ]
  },
  {
   "cell_type": "code",
   "execution_count": 96,
   "metadata": {},
   "outputs": [
    {
     "name": "stdout",
     "output_type": "stream",
     "text": [
      "PDF at 0: 0.3989422804014327\n",
      "CDF at 1: 0.8413447460685429\n"
     ]
    }
   ],
   "source": [
    "from scipy.stats import norm\n",
    "\n",
    "# Create a normal distribution with mean 0 and standard deviation 1\n",
    "dist = norm(loc=0, scale=1)\n",
    "\n",
    "# Calculate the probability density function (PDF) at a specific value\n",
    "pdf_value = dist.pdf(0)\n",
    "print(\"PDF at 0:\", pdf_value)\n",
    "\n",
    "# Calculate the cumulative distribution function (CDF) at a specific value\n",
    "cdf_value = dist.cdf(1)\n",
    "print(\"CDF at 1:\", cdf_value)"
   ]
  },
  {
   "cell_type": "code",
   "execution_count": 173,
   "metadata": {},
   "outputs": [
    {
     "name": "stdout",
     "output_type": "stream",
     "text": [
      "Area under the curve: 2.00\n"
     ]
    },
    {
     "data": {
      "image/png": "[encoded data removed]",
      "text/plain": [
       "<Figure size 1040x715 with 1 Axes>"
      ]
     },
     "metadata": {},
     "output_type": "display_data"
    }
   ],
   "source": [
    "import scipy.integrate as spi\n",
    "import numpy as np\n",
    "import matplotlib.pyplot as plt\n",
    "\n",
    "# Define the function representing the curve (sine wave)\n",
    "def f(x):\n",
    "    return np.sin(x)\n",
    "\n",
    "# Define the integration limits\n",
    "a = 0  # Lower limit\n",
    "b = np.pi  # Upper limit (one full period of the sine wave)\n",
    "\n",
    "# Calculate the area under the curve using quad\n",
    "area, _ = spi.quad(f, a, b)\n",
    "\n",
    "# Plot the sine wave\n",
    "x = np.linspace(0, 2 * np.pi, 1000)\n",
    "y = f(x)\n",
    "\n",
    "plt.plot(x, y, label='Sine Wave')\n",
    "plt.fill_between(x, 0, y, where=(x >= a) & (x <= b), alpha=0.5, label='Area under Curve')\n",
    "plt.legend()\n",
    "plt.xlabel('x')\n",
    "plt.ylabel('y')\n",
    "plt.title('Area under a Sine Wave')\n",
    "plt.grid(True)\n",
    "\n",
    "# Display the calculated area\n",
    "print(f\"Area under the curve: {area:.2f}\")\n",
    "\n",
    "# Show the plot\n",
    "plt.show()"
   ]
  },
  {
   "cell_type": "markdown",
   "metadata": {},
   "source": [
    "This code calculates the area under a sine wave curve between the limits of 0 and π (pi), then plots the sine wave and shades the area below it to visualize the integration result.\n",
    "\n",
    "1. It imports necessary libraries: scipy for numerical integration, numpy for mathematical operations, and matplotlib for plotting.\n",
    "2. Defines the sine wave function `f(x) = sin(x)`.\n",
    "3. Sets the integration limits `a` (lower limit) to 0 and `b` (upper limit) to π (pi), covering one full period of the sine wave.\n",
    "4. Uses the `spi.quad` function to calculate the area under the curve.\n",
    "5. Generates x-values for plotting using `np.linspace` and computes corresponding y-values using the sine function.\n",
    "6. Plots the sine wave and fills the area under the curve with shading.\n",
    "7. Adds labels, a title, and a legend to the plot.\n",
    "8. Displays the calculated area under the curve.\n",
    "9. Finally, shows the plot with the shaded area representing the integral result."
   ]
  },
  {
   "cell_type": "markdown",
   "metadata": {},
   "source": [
    "## Physics Simulation"
   ]
  },
  {
   "cell_type": "code",
   "execution_count": 98,
   "metadata": {},
   "outputs": [
    {
     "name": "stdout",
     "output_type": "stream",
     "text": [
      "Position: 0.90, Velocity: 9.02\n",
      "Position: 1.71, Velocity: 8.04\n",
      "Position: 2.41, Velocity: 7.06\n",
      "Position: 3.02, Velocity: 6.08\n",
      "Position: 3.53, Velocity: 5.10\n",
      "Position: 3.94, Velocity: 4.12\n",
      "Position: 4.26, Velocity: 3.14\n",
      "Position: 4.47, Velocity: 2.16\n",
      "Position: 4.59, Velocity: 1.18\n",
      "Position: 4.61, Velocity: 0.20\n"
     ]
    }
   ],
   "source": [
    "# Simulate object motion using integration\n",
    "def update_position(position, velocity, acceleration, time_step):\n",
    "    velocity += acceleration * time_step\n",
    "    position += velocity * time_step\n",
    "    return position, velocity\n",
    "\n",
    "# Usage\n",
    "initial_position = 0\n",
    "initial_velocity = 10\n",
    "acceleration = -9.8  # Acceleration due to gravity\n",
    "time_step = 0.1\n",
    "\n",
    "for _ in range(10):\n",
    "    initial_position, initial_velocity = update_position(initial_position, initial_velocity, acceleration, time_step)\n",
    "    print(f\"Position: {initial_position:.2f}, Velocity: {initial_velocity:.2f}\")"
   ]
  },
  {
   "cell_type": "markdown",
   "metadata": {},
   "source": [
    "Was this example unsatisfying? I guess we could demonstrate physics "
   ]
  },
  {
   "cell_type": "code",
   "execution_count": 1,
   "metadata": {},
   "outputs": [
    {
     "name": "stdout",
     "output_type": "stream",
     "text": [
      "pygame 2.5.1 (SDL 2.28.2, Python 3.11.5)\n",
      "Hello from the pygame community. https://www.pygame.org/contribute.html\n"
     ]
    },
    {
     "ename": "SystemExit",
     "evalue": "",
     "output_type": "error",
     "traceback": [
      "An exception has occurred, use %tb to see the full traceback.\n",
      "\u001b[1;31mSystemExit\u001b[0m\n"
     ]
    },
    {
     "name": "stderr",
     "output_type": "stream",
     "text": [
      "C:\\Users\\molekule\\AppData\\Roaming\\Python\\Python311\\site-packages\\IPython\\core\\interactiveshell.py:3516: UserWarning: To exit: use 'exit', 'quit', or Ctrl-D.\n",
      "  warn(\"To exit: use 'exit', 'quit', or Ctrl-D.\", stacklevel=1)\n"
     ]
    }
   ],
   "source": [
    "import pygame\n",
    "import sys\n",
    "\n",
    "pygame.init()\n",
    "screen = pygame.display.set_mode((400, 400))\n",
    "clock = pygame.time.Clock()\n",
    "\n",
    "# Ball properties\n",
    "ball_radius = 20\n",
    "ball_color = (255, 0, 0)\n",
    "ball_position = [100, 100]\n",
    "ball_velocity = [2, 0]  # Initial velocity in x-direction\n",
    "\n",
    "# Gravity\n",
    "gravity = 0.1\n",
    "\n",
    "while True:\n",
    "    for event in pygame.event.get():\n",
    "        if event.type == pygame.QUIT:\n",
    "            pygame.quit()\n",
    "            sys.exit()\n",
    "\n",
    "    screen.fill((0, 0, 0))\n",
    "\n",
    "    # Update ball position using integration\n",
    "    ball_velocity[1] += gravity  # Apply gravity\n",
    "    ball_position[0] += ball_velocity[0]\n",
    "    ball_position[1] += ball_velocity[1]\n",
    "\n",
    "    # Bounce when hitting the bottom\n",
    "    if ball_position[1] + ball_radius > 400:\n",
    "        ball_position[1] = 400 - ball_radius\n",
    "        ball_velocity[1] *= -0.8  # Reverse velocity and reduce it (elastic collision)\n",
    "\n",
    "    # Bounce when hitting the sides\n",
    "    if ball_position[0] + ball_radius > 400 or ball_position[0] - ball_radius < 0:\n",
    "        ball_velocity[0] *= -1  # Reverse velocity\n",
    "\n",
    "    # Draw the ball\n",
    "    pygame.draw.circle(screen, ball_color, (int(ball_position[0]), int(ball_position[1])), ball_radius)\n",
    "\n",
    "    pygame.display.flip()\n",
    "    clock.tick(60)\n"
   ]
  },
  {
   "cell_type": "markdown",
   "metadata": {},
   "source": [
    "## Collision Detection"
   ]
  },
  {
   "cell_type": "code",
   "execution_count": 112,
   "metadata": {},
   "outputs": [
    {
     "name": "stdout",
     "output_type": "stream",
     "text": [
      "Collision detected!\n"
     ]
    }
   ],
   "source": [
    "# Simple collision detection between two rectangles\n",
    "def is_collision(rect1, rect2):\n",
    "    if (rect1['x'] < rect2['x'] + rect2['width'] and\n",
    "        rect1['x'] + rect1['width'] > rect2['x'] and\n",
    "        rect1['y'] < rect2['y'] + rect2['height'] and\n",
    "        rect1['y'] + rect1['height'] > rect2['y']):\n",
    "        return True\n",
    "    return False\n",
    "\n",
    "# Example rectangles\n",
    "rect1 = {'x': 0, 'y': 0, 'width': 20, 'height': 20}\n",
    "rect2 = {'x': 10, 'y': 10, 'width': 20, 'height': 20}\n",
    "\n",
    "if is_collision(rect1, rect2):\n",
    "    print(\"Collision detected!\")"
   ]
  },
  {
   "cell_type": "code",
   "execution_count": 111,
   "metadata": {},
   "outputs": [
    {
     "ename": "SystemExit",
     "evalue": "",
     "output_type": "error",
     "traceback": [
      "An exception has occurred, use %tb to see the full traceback.\n",
      "\u001b[1;31mSystemExit\u001b[0m\n"
     ]
    },
    {
     "name": "stderr",
     "output_type": "stream",
     "text": [
      "C:\\Users\\molekule\\AppData\\Roaming\\Python\\Python311\\site-packages\\IPython\\core\\interactiveshell.py:3516: UserWarning: To exit: use 'exit', 'quit', or Ctrl-D.\n",
      "  warn(\"To exit: use 'exit', 'quit', or Ctrl-D.\", stacklevel=1)\n"
     ]
    }
   ],
   "source": [
    "import pygame\n",
    "import sys\n",
    "\n",
    "pygame.init()\n",
    "screen = pygame.display.set_mode((400, 400))\n",
    "clock = pygame.time.Clock()\n",
    "\n",
    "# Define two moving circles\n",
    "circle1 = {'x': 100, 'y': 200, 'radius': 20, 'velocity_x': 3, 'color': (255, 0, 0)}\n",
    "circle2 = {'x': 300, 'y': 200, 'radius': 20, 'velocity_x': -2, 'color': (0, 0, 255)}\n",
    "\n",
    "# Integration time step (adjust as needed)\n",
    "time_step = 0.1\n",
    "\n",
    "running = True\n",
    "\n",
    "while running:\n",
    "    for event in pygame.event.get():\n",
    "        if event.type == pygame.QUIT:\n",
    "            running = False\n",
    "\n",
    "    screen.fill((0, 0, 0))\n",
    "\n",
    "    # Update positions using integration\n",
    "    circle1['x'] += circle1['velocity_x'] * time_step\n",
    "    circle2['x'] += circle2['velocity_x'] * time_step\n",
    "\n",
    "    # Check for collision using integration (time-of-impact)\n",
    "    distance = abs(circle1['x'] - circle2['x'])\n",
    "    combined_radii = circle1['radius'] + circle2['radius']\n",
    "\n",
    "    if distance <= combined_radii:\n",
    "        # Collision detected, perform collision response\n",
    "        circle1['velocity_x'], circle2['velocity_x'] = circle2['velocity_x'], circle1['velocity_x']\n",
    "\n",
    "    # Draw circles\n",
    "    pygame.draw.circle(screen, circle1['color'], (int(circle1['x']), int(circle1['y'])), circle1['radius'])\n",
    "    pygame.draw.circle(screen, circle2['color'], (int(circle2['x']), int(circle2['y'])), circle2['radius'])\n",
    "\n",
    "    pygame.display.flip()\n",
    "    clock.tick(60)\n",
    "\n",
    "pygame.quit()\n",
    "sys.exit()"
   ]
  },
  {
   "cell_type": "markdown",
   "metadata": {},
   "source": [
    "1. Imports the necessary modules\n",
    "2. Initializes Pygame and create a window.\n",
    "3. Sets up a clock for controlling the frame rate.\n",
    "4. Defines two circle objects with initial positions, radii, velocities, and colors.\n",
    "    * `x` and `y` are the initial positions of the circles.\n",
    "    * `radius` defines the radius of each circle.\n",
    "    * `velocity_x` represents the initial velocity in the x-direction.\n",
    "    * `color` determines the color of the circles (as an RGB tuple).\n",
    "5. Sets the integration time step (time_step) to control how frequently positions and collisions are calculated. Adjust this value as needed:"
   ]
  },
  {
   "cell_type": "code",
   "execution_count": 123,
   "metadata": {},
   "outputs": [
    {
     "ename": "SystemExit",
     "evalue": "",
     "output_type": "error",
     "traceback": [
      "An exception has occurred, use %tb to see the full traceback.\n",
      "\u001b[1;31mSystemExit\u001b[0m\n"
     ]
    }
   ],
   "source": [
    "import pygame\n",
    "import sys\n",
    "\n",
    "# Pygame initialization\n",
    "pygame.init()\n",
    "screen = pygame.display.set_mode((400, 400))\n",
    "clock = pygame.time.Clock()\n",
    "\n",
    "# Circle parameters\n",
    "circle_radius = 20\n",
    "circle_color1 = (255, 0, 0)\n",
    "circle_color2 = (0, 0, 255)\n",
    "\n",
    "# Initial circle positions\n",
    "x_circle1 = 100\n",
    "x_circle2 = 300\n",
    "\n",
    "# Initial circle velocities\n",
    "velocity_circle1 = 3  # Replace with your velocity value\n",
    "velocity_circle2 = -2  # Replace with your velocity value\n",
    "\n",
    "# Game loop\n",
    "running = True\n",
    "\n",
    "while running:\n",
    "    for event in pygame.event.get():\n",
    "        if event.type == pygame.QUIT:\n",
    "            running = False\n",
    "\n",
    "    screen.fill((0, 0, 0))\n",
    "\n",
    "    # Update circle positions\n",
    "    x_circle1 += velocity_circle1\n",
    "    x_circle2 += velocity_circle2\n",
    "\n",
    "    # Check for collision\n",
    "    distance = abs(x_circle1 - x_circle2)\n",
    "    combined_radii = 2 * circle_radius  # Sum of radii of both circles\n",
    "\n",
    "    if distance <= combined_radii:\n",
    "        # Collision detected, reverse velocities\n",
    "        velocity_circle1 *= -1\n",
    "        velocity_circle2 *= -1\n",
    "\n",
    "    # Draw circles at their current positions\n",
    "    pygame.draw.circle(screen, circle_color1, (int(x_circle1), 200), circle_radius)\n",
    "    pygame.draw.circle(screen, circle_color2, (int(x_circle2), 200), circle_radius)\n",
    "\n",
    "    pygame.display.flip()\n",
    "    clock.tick(60)\n",
    "\n",
    "pygame.quit()\n",
    "sys.exit()"
   ]
  },
  {
   "cell_type": "code",
   "execution_count": 147,
   "metadata": {},
   "outputs": [],
   "source": [
    "import pygame\n",
    "import numpy as np\n",
    "from scipy.integrate import odeint\n",
    "\n",
    "# Pygame initialization\n",
    "pygame.init()\n",
    "screen = pygame.display.set_mode((800, 600))\n",
    "clock = pygame.time.Clock()\n",
    "\n",
    "# Circle parameters\n",
    "circle_radius = 20\n",
    "circle_color1 = (255, 0, 0)\n",
    "circle_color2 = (0, 0, 255)\n",
    "\n",
    "# Define the equations of motion for two objects\n",
    "def equations_of_motion(obj_state, t, velocity):\n",
    "    x, v = obj_state\n",
    "    dxdt = v\n",
    "    return [dxdt, 0]  # Horizontal motion only, no acceleration\n",
    "\n",
    "# Initial conditions\n",
    "initial_state_obj1 = [100, 5]  # Initial position and velocity of object 1\n",
    "initial_state_obj2 = [300, -2]  # Initial position and velocity of object 2\n",
    "\n",
    "# Initialize velocities\n",
    "velocity_obj1 = 5\n",
    "velocity_obj2 = -2\n",
    "\n",
    "# Font for debug text\n",
    "font = pygame.font.Font(None, 24)  # Smaller font size\n",
    "\n",
    "# Game loop\n",
    "running = True\n",
    "\n",
    "while running:\n",
    "    for event in pygame.event.get():\n",
    "        if event.type == pygame.QUIT:\n",
    "            running = False\n",
    "\n",
    "    screen.fill((0, 0, 0))\n",
    "\n",
    "    # Integrate the equations of motion for both objects\n",
    "    t = np.linspace(0, 0.1, 2)  # Small time step for real-time updates\n",
    "    result_obj1 = odeint(equations_of_motion, initial_state_obj1, t, args=(velocity_obj1,))\n",
    "    result_obj2 = odeint(equations_of_motion, initial_state_obj2, t, args=(velocity_obj2,))\n",
    "\n",
    "    # Calculate the distance between the centers of the circles\n",
    "    distance = abs(result_obj1[1, 0] - result_obj2[1, 0])\n",
    "\n",
    "    # Check for collision based on the sum of radii\n",
    "    if distance <= 2 * circle_radius:\n",
    "        # Collision detected, reverse velocities\n",
    "        velocity_obj1 *= -1\n",
    "        velocity_obj2 *= -1\n",
    "\n",
    "    # Update the positions of the circles based on integration results\n",
    "    initial_state_obj1[0] = result_obj1[-1, 0]\n",
    "    initial_state_obj2[0] = result_obj2[-1, 0]\n",
    "\n",
    "    # Draw circles at their current positions\n",
    "    pygame.draw.circle(screen, circle_color1, (int(result_obj1[1, 0]), 300), circle_radius)\n",
    "    pygame.draw.circle(screen, circle_color2, (int(result_obj2[1, 0]), 300), circle_radius)\n",
    "\n",
    "    # Display debug information on the screen\n",
    "    debug_text = f\"Distance: {distance:.2f}, Pos 1: {result_obj1[1, 0]:.2f}, Pos 2: {result_obj2[1, 0]:.2f}\"\n",
    "    debug_surface = font.render(debug_text, True, (255, 255, 255))\n",
    "    screen.blit(debug_surface, (10, 10))\n",
    "\n",
    "    pygame.display.flip()\n",
    "    clock.tick(60)\n",
    "\n",
    "pygame.quit()"
   ]
  }
 ],
 "metadata": {
  "kernelspec": {
   "display_name": "Python 3",
   "language": "python",
   "name": "python3"
  },
  "language_info": {
   "codemirror_mode": {
    "name": "ipython",
    "version": 3
   },
   "file_extension": ".py",
   "mimetype": "text/x-python",
   "name": "python",
   "nbconvert_exporter": "python",
   "pygments_lexer": "ipython3",
   "version": "3.11.5"
  },
  "orig_nbformat": 4
 },
 "nbformat": 4,
 "nbformat_minor": 2
}
